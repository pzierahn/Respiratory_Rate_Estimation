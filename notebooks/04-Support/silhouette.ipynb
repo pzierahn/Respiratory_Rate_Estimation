{
 "cells": [
  {
   "metadata": {},
   "cell_type": "markdown",
   "source": [
    "# Silhouette\n",
    "\n",
    "This notebook creates a new scenario with the silhouette of the person in the video. The silhouette is created by using a pre-trained model from detectron2. The model is used to segment the person in the video and the silhouette is created by multiplying the frame with the mask of the person."
   ],
   "id": "6c15c98097025cbb"
  },
  {
   "metadata": {},
   "cell_type": "markdown",
   "source": "## Setup detectron2 and load the model",
   "id": "83b3e3f0abd1b1b"
  },
  {
   "metadata": {},
   "cell_type": "code",
   "source": [
    "# import some common detectron2 utilities\n",
    "from detectron2 import model_zoo\n",
    "from detectron2.engine import DefaultPredictor\n",
    "from detectron2.config import get_cfg\n",
    "from detectron2.data import MetadataCatalog, DatasetCatalog\n",
    "\n",
    "cfg = get_cfg()\n",
    "# model = \"COCO-InstanceSegmentation/mask_rcnn_X_101_32x8d_FPN_3x.yaml\"\n",
    "model = \"COCO-InstanceSegmentation/mask_rcnn_R_50_FPN_3x.yaml\"\n",
    "config_path = model_zoo.get_config_file(model)\n",
    "\n",
    "cfg.merge_from_file(config_path)\n",
    "cfg.MODEL.WEIGHTS = model_zoo.get_checkpoint_url(model)\n",
    "cfg.MODEL.ROI_HEADS.SCORE_THRESH_TEST = 0.5  # set threshold for this model"
   ],
   "id": "cf3ade2ff6074f06",
   "outputs": [],
   "execution_count": null
  },
  {
   "metadata": {},
   "cell_type": "code",
   "source": [
    "# Get the mask of the person\n",
    "person_class = MetadataCatalog.get(cfg.DATASETS.TRAIN[0]).thing_classes.index(\"person\")"
   ],
   "id": "b27cbc3d99c50fd0",
   "outputs": [],
   "execution_count": null
  },
  {
   "metadata": {},
   "cell_type": "code",
   "source": "predictor = DefaultPredictor(cfg)",
   "id": "a9068e03690e3ed6",
   "outputs": [],
   "execution_count": null
  },
  {
   "metadata": {},
   "cell_type": "markdown",
   "source": "## Create a new scenario",
   "id": "56c9b0e3ab3a2405"
  },
  {
   "metadata": {},
   "cell_type": "code",
   "source": [
    "def get_person_mask(frames):\n",
    "    \"\"\"This function returns the segmentation masks of the person in the frames\"\"\"\n",
    "    masks = []\n",
    "    for frame in frames:\n",
    "        outputs = predictor(frame)\n",
    "        prediction_masks = outputs[\"instances\"].pred_masks\n",
    "        prediction_classes = outputs[\"instances\"].pred_classes\n",
    "        person_mask = prediction_masks[prediction_classes == person_class][0].cpu().numpy()\n",
    "        masks.append(person_mask)\n",
    "    return masks"
   ],
   "id": "6bbc14b071300c5d",
   "outputs": [],
   "execution_count": null
  },
  {
   "metadata": {},
   "cell_type": "code",
   "source": [
    "import cv2\n",
    "import numpy as np\n",
    "\n",
    "\n",
    "def store_video_with_mask(frames, masks, filename, fps):\n",
    "    shape = frames[0].shape\n",
    "\n",
    "    fourcc = cv2.VideoWriter_fourcc(*'FFV1')\n",
    "    out = cv2.VideoWriter(filename, fourcc, fps, (shape[1], shape[0]))\n",
    "\n",
    "    for idx, mask in enumerate(masks):\n",
    "        frame = np.uint8(frames[idx] * mask[:, :, None])\n",
    "        out.write(frame)\n",
    "\n",
    "    out.release()"
   ],
   "id": "80763087b93e94b6",
   "outputs": [],
   "execution_count": null
  },
  {
   "metadata": {},
   "cell_type": "code",
   "source": [
    "import os\n",
    "import subprocess\n",
    "from respiration.dataset import VitalCamSet\n",
    "from tqdm.auto import tqdm\n",
    "\n",
    "dataset = VitalCamSet()\n",
    "scenarios = dataset.get_scenarios(['101_natural_lighting'])\n",
    "\n",
    "for (subject, setting) in tqdm(scenarios):\n",
    "    print(f\"subject: {subject}\")\n",
    "\n",
    "    destination = os.path.join(dataset.data_path, subject, '301_silhouette')\n",
    "\n",
    "    # Copy the unisens data to the new scenario\n",
    "    source = os.path.join(dataset.data_path, subject, setting, 'synced_Logitech HD Pro Webcam C920')\n",
    "    os.makedirs(destination, exist_ok=True)\n",
    "    subprocess.run([\"cp\", \"-r\", source, destination])\n",
    "\n",
    "    frames, meta = dataset.get_video_rgb(subject, setting)\n",
    "    masks = get_person_mask(frames)\n",
    "    video_path = os.path.join(destination, 'Logitech HD Pro Webcam C920.avi')\n",
    "    store_video_with_mask(frames, masks, video_path, meta.fps)"
   ],
   "id": "11d5d20a08a6a5be",
   "outputs": [],
   "execution_count": null
  }
 ],
 "metadata": {
  "kernelspec": {
   "display_name": "Python 3",
   "language": "python",
   "name": "python3"
  },
  "language_info": {
   "codemirror_mode": {
    "name": "ipython",
    "version": 2
   },
   "file_extension": ".py",
   "mimetype": "text/x-python",
   "name": "python",
   "nbconvert_exporter": "python",
   "pygments_lexer": "ipython2",
   "version": "2.7.6"
  }
 },
 "nbformat": 4,
 "nbformat_minor": 5
}
