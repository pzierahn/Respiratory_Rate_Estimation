{
 "cells": [
  {
   "metadata": {},
   "cell_type": "markdown",
   "source": [
    "# Ground Truth Signal Normalization\n",
    "\n",
    "This notebook shows the different normalization effects that are used to norm the signal."
   ],
   "id": "61c67fb80f77b0c5"
  },
  {
   "metadata": {},
   "cell_type": "code",
   "source": [
    "from respiration.dataset import VitalCamSet\n",
    "\n",
    "dataset = VitalCamSet()\n",
    "\n",
    "signals = []\n",
    "\n",
    "for (subject, setting) in dataset.get_scenarios(['101_natural_lighting']):\n",
    "    signal = dataset.get_breathing_signal(subject, setting)\n",
    "    signals.append({\n",
    "        'subject': subject,\n",
    "        'setting': setting,\n",
    "        'signal': signal.tolist(),\n",
    "    })"
   ],
   "id": "20a5240a877288ae",
   "outputs": [],
   "execution_count": null
  },
  {
   "metadata": {},
   "cell_type": "code",
   "source": [
    "import pandas as pd\n",
    "\n",
    "df = pd.DataFrame(signals)"
   ],
   "id": "458069a4ebdaadf5",
   "outputs": [],
   "execution_count": null
  },
  {
   "metadata": {},
   "cell_type": "code",
   "source": [
    "max_max = df['signal'].apply(lambda x: max(x)).max()\n",
    "min_min = df['signal'].apply(lambda x: min(x)).min()\n",
    "\n",
    "print(max_max, min_min)"
   ],
   "id": "31f105e9152da946",
   "outputs": [],
   "execution_count": null
  },
  {
   "metadata": {},
   "cell_type": "code",
   "source": [
    "signal16 = dataset.get_breathing_signal('Proband05', '101_natural_lighting')\n",
    "signal14 = dataset.get_breathing_signal('Proband04', '101_natural_lighting')"
   ],
   "id": "71f7692a076a8a3b",
   "outputs": [],
   "execution_count": null
  },
  {
   "metadata": {},
   "cell_type": "code",
   "source": [
    "import matplotlib.pyplot as plt\n",
    "\n",
    "plt.figure(figsize=(20, 5))\n",
    "plt.plot(signal16, label='Proband16')\n",
    "plt.plot(signal14, label='Proband14')\n",
    "plt.legend()\n",
    "plt.show()"
   ],
   "id": "b206b3dd21ec1fd8",
   "outputs": [],
   "execution_count": null
  },
  {
   "metadata": {},
   "cell_type": "code",
   "source": [
    "signal16_normalized = (signal16 - signal16.mean()) / signal16.std()\n",
    "signal14_normalized = (signal14 - signal14.mean()) / signal14.std()\n",
    "\n",
    "plt.figure(figsize=(20, 5))\n",
    "plt.plot(signal16_normalized, label='Proband16')\n",
    "plt.plot(signal14_normalized, label='Proband14')\n",
    "plt.legend()\n",
    "plt.show()"
   ],
   "id": "1928ee02a158f296",
   "outputs": [],
   "execution_count": null
  },
  {
   "metadata": {},
   "cell_type": "code",
   "source": [
    "signal16_standardized = (signal16 - signal16.mean()) / (max_max - min_min)\n",
    "signal14_standardized = (signal14 - signal14.mean()) / (max_max - min_min)\n",
    "\n",
    "plt.figure(figsize=(20, 5))\n",
    "plt.plot(signal16_standardized, label='Proband16')\n",
    "plt.plot(signal14_standardized, label='Proband14')\n",
    "plt.legend()\n",
    "plt.show()"
   ],
   "id": "79bbb566139cd6ba",
   "outputs": [],
   "execution_count": null
  }
 ],
 "metadata": {
  "kernelspec": {
   "display_name": "Python 3",
   "language": "python",
   "name": "python3"
  },
  "language_info": {
   "codemirror_mode": {
    "name": "ipython",
    "version": 2
   },
   "file_extension": ".py",
   "mimetype": "text/x-python",
   "name": "python",
   "nbconvert_exporter": "python",
   "pygments_lexer": "ipython2",
   "version": "2.7.6"
  }
 },
 "nbformat": 4,
 "nbformat_minor": 5
}
