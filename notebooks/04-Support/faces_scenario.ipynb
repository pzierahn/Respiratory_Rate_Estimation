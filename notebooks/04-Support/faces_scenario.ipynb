{
 "cells": [
  {
   "metadata": {},
   "cell_type": "markdown",
   "source": [
    "# Faces scenario\n",
    "\n",
    "This notebook creates a new scenario where the face of the person is the only thing visible in the video."
   ],
   "id": "6c15c98097025cbb"
  },
  {
   "metadata": {},
   "cell_type": "code",
   "source": [
    "import cv2\n",
    "import numpy as np\n",
    "import respiration.roi as roi\n",
    "\n",
    "\n",
    "def get_face_masks(frames):\n",
    "    \"\"\"This function returns the segmentation masks of the face of the person in the video.\"\"\"\n",
    "    masks = []\n",
    "    for frame in frames:\n",
    "        faces = roi.detect_faces(frame, scale_factor=1.5)\n",
    "        roi_mask = np.zeros_like(frame)\n",
    "\n",
    "        for face in faces:\n",
    "            mask = roi.mask_from_area(frame, face)\n",
    "            roi_mask = np.maximum(roi_mask, mask)\n",
    "\n",
    "        # Blur the mask\n",
    "        roi_mask = cv2.GaussianBlur(roi_mask, (21, 21), 20)\n",
    "\n",
    "        # Normalize the mask between 0 and 1\n",
    "        roi_mask = roi_mask / 255\n",
    "\n",
    "        masks.append(roi_mask)\n",
    "    return masks"
   ],
   "id": "6bbc14b071300c5d",
   "outputs": [],
   "execution_count": null
  },
  {
   "metadata": {},
   "cell_type": "code",
   "source": [
    "from respiration.dataset import VitalCamSet\n",
    "\n",
    "dataset = VitalCamSet()\n",
    "frames, meta = dataset.get_video_rgb('Proband16', '101_natural_lighting', 10)\n",
    "masks = get_face_masks(frames)\n",
    "\n",
    "import matplotlib.pyplot as plt\n",
    "\n",
    "fig, ax = plt.subplots(1, 2, figsize=(20, 8))\n",
    "ax[0].imshow(frames[0])\n",
    "\n",
    "blurry_frame = np.uint8(frames[0] * masks[0])\n",
    "\n",
    "ax[1].imshow(blurry_frame)\n",
    "plt.show()"
   ],
   "id": "993dd2ffbc9bf0dd",
   "outputs": [],
   "execution_count": null
  },
  {
   "metadata": {},
   "cell_type": "code",
   "source": [
    "def store_video_with_mask(frames, masks, filename, fps):\n",
    "    shape = frames[0].shape\n",
    "\n",
    "    fourcc = cv2.VideoWriter_fourcc(*'FFV1')\n",
    "    out = cv2.VideoWriter(filename, fourcc, fps, (shape[1], shape[0]))\n",
    "\n",
    "    for idx, mask in enumerate(masks):\n",
    "        # Apply the mask to the frame\n",
    "        frame = np.uint8(frames[idx] * mask)\n",
    "\n",
    "        # Convert the frame to BGR\n",
    "        frame = cv2.cvtColor(frame, cv2.COLOR_RGB2BGR)\n",
    "\n",
    "        # Write the frame\n",
    "        out.write(frame)\n",
    "\n",
    "    out.release()"
   ],
   "id": "80763087b93e94b6",
   "outputs": [],
   "execution_count": null
  },
  {
   "metadata": {},
   "cell_type": "code",
   "source": [
    "import os\n",
    "import subprocess\n",
    "from respiration.dataset import VitalCamSet\n",
    "from tqdm.auto import tqdm\n",
    "\n",
    "dataset = VitalCamSet()\n",
    "scenarios = dataset.get_scenarios(['101_natural_lighting'])\n",
    "\n",
    "for (subject, setting) in tqdm(scenarios):\n",
    "    print(f\"subject: {subject}\")\n",
    "\n",
    "    destination = os.path.join(dataset.data_path, subject, '302_face_only_blurry')\n",
    "\n",
    "    # Copy the unisens data to the new scenario\n",
    "    source = os.path.join(dataset.data_path, subject, setting, 'synced_Logitech HD Pro Webcam C920')\n",
    "    os.makedirs(destination, exist_ok=True)\n",
    "    subprocess.run([\"cp\", \"-r\", source, destination])\n",
    "\n",
    "    frames, meta = dataset.get_video_rgb(subject, setting)\n",
    "    masks = get_face_masks(frames)\n",
    "    video_path = os.path.join(destination, 'Logitech HD Pro Webcam C920.avi')\n",
    "    store_video_with_mask(frames, masks, video_path, meta.fps)"
   ],
   "id": "11d5d20a08a6a5be",
   "outputs": [],
   "execution_count": null
  }
 ],
 "metadata": {
  "kernelspec": {
   "display_name": "Python 3",
   "language": "python",
   "name": "python3"
  },
  "language_info": {
   "codemirror_mode": {
    "name": "ipython",
    "version": 2
   },
   "file_extension": ".py",
   "mimetype": "text/x-python",
   "name": "python",
   "nbconvert_exporter": "python",
   "pygments_lexer": "ipython2",
   "version": "2.7.6"
  }
 },
 "nbformat": 4,
 "nbformat_minor": 5
}
