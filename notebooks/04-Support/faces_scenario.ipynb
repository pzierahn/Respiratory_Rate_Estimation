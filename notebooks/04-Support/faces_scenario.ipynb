{
 "cells": [
  {
   "metadata": {},
   "cell_type": "markdown",
   "source": [
    "# Faces scenario\n",
    "\n",
    "This notebook creates a new scenario with the face of the person in the video masked in."
   ],
   "id": "6c15c98097025cbb"
  },
  {
   "metadata": {},
   "cell_type": "markdown",
   "source": "## Create a new scenario",
   "id": "56c9b0e3ab3a2405"
  },
  {
   "metadata": {},
   "cell_type": "code",
   "source": [
    "import respiration.roi as roi\n",
    "\n",
    "\n",
    "def get_face_masks(frames):\n",
    "    \"\"\"This function returns the segmentation masks of the face of the person in the video.\"\"\"\n",
    "    masks = []\n",
    "    for frame in frames:\n",
    "        faces = roi.detect_faces(frame)\n",
    "        roi_mask = np.zeros_like(frame)\n",
    "\n",
    "        for face in faces:\n",
    "            mask = roi.mask_from_area(frame, face)\n",
    "            roi_mask = np.maximum(roi_mask, mask)\n",
    "\n",
    "        masks.append(roi_mask)\n",
    "    return masks"
   ],
   "id": "6bbc14b071300c5d",
   "outputs": [],
   "execution_count": null
  },
  {
   "metadata": {},
   "cell_type": "code",
   "source": [
    "import cv2\n",
    "import numpy as np\n",
    "\n",
    "\n",
    "def store_video_with_mask(frames, masks, filename, fps):\n",
    "    shape = frames[0].shape\n",
    "\n",
    "    fourcc = cv2.VideoWriter_fourcc(*'FFV1')\n",
    "    out = cv2.VideoWriter(filename, fourcc, fps, (shape[1], shape[0]))\n",
    "\n",
    "    for idx, mask in enumerate(masks):\n",
    "        frame = np.uint8(frames[idx] * mask)\n",
    "        out.write(frame)\n",
    "\n",
    "    out.release()"
   ],
   "id": "80763087b93e94b6",
   "outputs": [],
   "execution_count": null
  },
  {
   "metadata": {},
   "cell_type": "code",
   "source": [
    "import os\n",
    "import subprocess\n",
    "from respiration.dataset import VitalCamSet\n",
    "from tqdm.auto import tqdm\n",
    "\n",
    "dataset = VitalCamSet()\n",
    "scenarios = dataset.get_scenarios(['101_natural_lighting'])\n",
    "\n",
    "for (subject, setting) in tqdm(scenarios):\n",
    "    print(f\"subject: {subject}\")\n",
    "\n",
    "    destination = os.path.join(dataset.data_path, subject, '302_face_only')\n",
    "\n",
    "    # Copy the unisens data to the new scenario\n",
    "    source = os.path.join(dataset.data_path, subject, setting, 'synced_Logitech HD Pro Webcam C920')\n",
    "    os.makedirs(destination, exist_ok=True)\n",
    "    subprocess.run([\"cp\", \"-r\", source, destination])\n",
    "\n",
    "    frames, meta = dataset.get_video_rgb(subject, setting)\n",
    "    masks = get_face_masks(frames)\n",
    "    video_path = os.path.join(destination, 'Logitech HD Pro Webcam C920.avi')\n",
    "    store_video_with_mask(frames, masks, video_path, meta.fps)"
   ],
   "id": "11d5d20a08a6a5be",
   "outputs": [],
   "execution_count": null
  }
 ],
 "metadata": {
  "kernelspec": {
   "display_name": "Python 3",
   "language": "python",
   "name": "python3"
  },
  "language_info": {
   "codemirror_mode": {
    "name": "ipython",
    "version": 2
   },
   "file_extension": ".py",
   "mimetype": "text/x-python",
   "name": "python",
   "nbconvert_exporter": "python",
   "pygments_lexer": "ipython2",
   "version": "2.7.6"
  }
 },
 "nbformat": 4,
 "nbformat_minor": 5
}
