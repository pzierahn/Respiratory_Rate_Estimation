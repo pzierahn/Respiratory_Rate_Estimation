{
 "cells": [
  {
   "metadata": {},
   "cell_type": "markdown",
   "source": [
    "# Random Signal\n",
    "\n",
    "This notebook creates a random signal to test the respiration rate detection algorithm. The random is used as a baseline to compare the results of the approaches."
   ],
   "id": "6c15c98097025cbb"
  },
  {
   "metadata": {},
   "cell_type": "code",
   "source": [
    "import numpy as np\n",
    "from respiration.dataset import VitalCamSet\n",
    "\n",
    "# Seed random number generator\n",
    "np.random.seed(42)\n",
    "\n",
    "dataset = VitalCamSet()\n",
    "scenarios = dataset.get_scenarios(['101_natural_lighting'])\n",
    "\n",
    "random_predictions = []\n",
    "\n",
    "for (subject, setting) in scenarios:\n",
    "    random_predictions.append({\n",
    "        'model': 'random',\n",
    "        'subject': subject,\n",
    "        'setting': setting,\n",
    "        'sampling_rate': 30,\n",
    "        'signal': np.random.rand(3600).tolist(),\n",
    "    }) "
   ],
   "id": "11d5d20a08a6a5be",
   "outputs": [],
   "execution_count": null
  },
  {
   "metadata": {},
   "cell_type": "code",
   "source": [
    "import pandas as pd\n",
    "import respiration.utils as utils\n",
    "\n",
    "signals_dir = utils.dir_path('outputs', 'signals', mkdir=True)\n",
    "signals_path = utils.join_paths(signals_dir, 'random_predictions.csv')\n",
    "\n",
    "random_predictions_df = pd.DataFrame(random_predictions)\n",
    "random_predictions_df.to_csv(signals_path, index=False)"
   ],
   "id": "417642e2714f684c",
   "outputs": [],
   "execution_count": null
  }
 ],
 "metadata": {
  "kernelspec": {
   "display_name": "Python 3",
   "language": "python",
   "name": "python3"
  },
  "language_info": {
   "codemirror_mode": {
    "name": "ipython",
    "version": 2
   },
   "file_extension": ".py",
   "mimetype": "text/x-python",
   "name": "python",
   "nbconvert_exporter": "python",
   "pygments_lexer": "ipython2",
   "version": "2.7.6"
  }
 },
 "nbformat": 4,
 "nbformat_minor": 5
}
