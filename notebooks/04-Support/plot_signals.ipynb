{
 "cells": [
  {
   "metadata": {},
   "cell_type": "markdown",
   "source": "# Plot prediction and ground truth",
   "id": "ab8bdee78031cc65"
  },
  {
   "cell_type": "code",
   "id": "initial_id",
   "metadata": {
    "collapsed": true
   },
   "source": [
    "import numpy as np\n",
    "import pandas as pd\n",
    "import respiration.utils as utils\n",
    "\n",
    "signals_dir = utils.dir_path('outputs', 'signals')\n",
    "\n",
    "predictions_file = utils.join_paths(signals_dir, 'raft_predictions.csv')\n",
    "predictions = pd.read_csv(predictions_file)\n",
    "predictions['signal_uv'] = predictions['signal_uv'].apply(eval).apply(np.array)\n",
    "predictions['signal_uv_std'] = predictions['signal_uv_std'].apply(eval).apply(np.array)\n",
    "predictions['signal_v'] = predictions['signal_v'].apply(eval).apply(np.array)\n",
    "predictions['signal_v_std'] = predictions['signal_v_std'].apply(eval).apply(np.array)\n",
    "predictions.head()\n",
    "\n",
    "# predictions_file = utils.join_paths(signals_dir, 'fine_tuned_predictions.csv')\n",
    "# predictions = pd.read_csv(predictions_file)\n",
    "# predictions['signal'] = predictions['signal'].apply(eval).apply(np.array)\n",
    "# predictions.head()"
   ],
   "outputs": [],
   "execution_count": null
  },
  {
   "metadata": {},
   "cell_type": "code",
   "source": [
    "from respiration.dataset import VitalCamSet\n",
    "\n",
    "dataset = VitalCamSet()"
   ],
   "id": "856491ca14d33212",
   "outputs": [],
   "execution_count": null
  },
  {
   "metadata": {},
   "cell_type": "code",
   "source": [
    "subject = 'Proband23'\n",
    "model = 'raft_large'\n",
    "# model = '20240509_144815'\n",
    "\n",
    "prediction = predictions[\n",
    "    (predictions['model'] == model) &\n",
    "    (predictions['subject'] == subject) &\n",
    "    (predictions['roi'] == 'chest')]\n",
    "\n",
    "signal_v = prediction['signal_v'].values[0]\n",
    "sampling_rate = prediction['sampling_rate'].values[0]\n",
    "\n",
    "gt_signal = dataset.get_breathing_signal(subject, '101_natural_lighting')\n",
    "gt_signal = gt_signal[:len(signal_v)]\n",
    "\n",
    "gt_signal.shape, signal_v.shape"
   ],
   "id": "7fd02d8484f0b39a",
   "outputs": [],
   "execution_count": null
  },
  {
   "metadata": {},
   "cell_type": "code",
   "source": [
    "import matplotlib.pyplot as plt\n",
    "\n",
    "# Plot the raw signals in two separate figures\n",
    "fig, axs = plt.subplots(2, 1, figsize=(20, 10))\n",
    "\n",
    "# Add some space between the two figures\n",
    "plt.subplots_adjust(hspace=0.5)\n",
    "\n",
    "axs[0].plot(gt_signal, label='Ground truth')\n",
    "axs[0].set_title('Ground truth')\n",
    "axs[0].legend()\n",
    "\n",
    "axs[1].plot(signal_v, label='Prediction')\n",
    "axs[1].set_title('Prediction')\n",
    "axs[1].legend()"
   ],
   "id": "21b36a9485e6b873",
   "outputs": [],
   "execution_count": null
  },
  {
   "metadata": {},
   "cell_type": "code",
   "source": [
    "import respiration.analysis as analysis\n",
    "\n",
    "compare = analysis.SignalComparator(signal_v, gt_signal, sampling_rate, detrend_tarvainen=False)\n",
    "compare.errors()"
   ],
   "id": "c8bcfaea06f87955",
   "outputs": [],
   "execution_count": null
  },
  {
   "metadata": {},
   "cell_type": "code",
   "source": [
    "plt.figure(figsize=(20, 5))\n",
    "plt.plot(compare.ground_truth, label='Ground truth')\n",
    "plt.plot(compare.prediction, label='Prediction')\n",
    "plt.legend()\n",
    "plt.show()"
   ],
   "id": "11fbb4acb1a4825c",
   "outputs": [],
   "execution_count": null
  },
  {
   "metadata": {},
   "cell_type": "code",
   "source": [
    "from dtaidistance import dtw\n",
    "from dtaidistance import dtw_visualisation as dtwvis\n",
    "\n",
    "random_signal = np.random.rand(len(compare.ground_truth))\n",
    "\n",
    "compare2 = analysis.SignalComparator(\n",
    "    signal_v,\n",
    "    gt_signal,\n",
    "    sampling_rate,\n",
    "    detrend_tarvainen=False,\n",
    "    normalize_signal=True,\n",
    "    filter_signal=True,\n",
    ")\n",
    "\n",
    "s1 = compare2.ground_truth\n",
    "s2 = compare2.prediction\n",
    "\n",
    "d, paths = dtw.warping_paths(s1, s2, use_c=True)\n",
    "best_path = dtw.best_path(paths)\n",
    "dtwvis.plot_warpingpaths(s1, s2, paths, best_path)"
   ],
   "id": "16e2d88edb5c9005",
   "outputs": [],
   "execution_count": null
  }
 ],
 "metadata": {
  "kernelspec": {
   "display_name": "Python 3",
   "language": "python",
   "name": "python3"
  },
  "language_info": {
   "codemirror_mode": {
    "name": "ipython",
    "version": 2
   },
   "file_extension": ".py",
   "mimetype": "text/x-python",
   "name": "python",
   "nbconvert_exporter": "python",
   "pygments_lexer": "ipython2",
   "version": "2.7.6"
  }
 },
 "nbformat": 4,
 "nbformat_minor": 5
}
