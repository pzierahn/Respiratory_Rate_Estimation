{
 "cells": [
  {
   "cell_type": "markdown",
   "id": "29e8feb5a154ad",
   "metadata": {},
   "source": [
    "# Data Exploration\n",
    "\n",
    "Show the first frame of each scenario for the first subject and all the subjects in a single figure."
   ]
  },
  {
   "cell_type": "code",
   "id": "initial_id",
   "metadata": {
    "collapsed": true
   },
   "source": [
    "from respiration.dataset import VitalCamSet\n",
    "\n",
    "dataset = VitalCamSet()\n",
    "scenarios = dataset.get_scenarios(['101_natural_lighting'])\n",
    "scenarios"
   ],
   "execution_count": null,
   "outputs": []
  },
  {
   "cell_type": "markdown",
   "id": "15fe3c711c95659a",
   "metadata": {},
   "source": [
    "## Display the first frame of each scenario for the first subject"
   ]
  },
  {
   "cell_type": "code",
   "id": "2aba3e680aa178da",
   "metadata": {},
   "source": [
    "import cv2\n",
    "import matplotlib.pyplot as plt\n",
    "\n",
    "# Create a figure with 2 rows and 5 columns\n",
    "fig, axs = plt.subplots(2, 5, figsize=(20, 10))\n",
    "\n",
    "for idx, scenario in enumerate(dataset.get_settings()):\n",
    "    video_path = dataset.get_video_path('Proband05', scenario)\n",
    "\n",
    "    # Read the first frame of the video\n",
    "    cap = cv2.VideoCapture(video_path)\n",
    "    ret, frame = cap.read()\n",
    "    cap.release()\n",
    "\n",
    "    # Plot the frame\n",
    "    ax = axs[idx // 5, idx % 5]\n",
    "    ax.imshow(cv2.cvtColor(frame, cv2.COLOR_BGR2RGB))\n",
    "    ax.set_title(scenario)\n",
    "\n",
    "plt.suptitle('Proband05')\n",
    "plt.show()"
   ],
   "execution_count": null,
   "outputs": []
  },
  {
   "cell_type": "markdown",
   "id": "f0838405a47d51e8",
   "metadata": {},
   "source": [
    "## Display all the subjects in a single figure"
   ]
  },
  {
   "cell_type": "code",
   "id": "ebf56117bd0a6b86",
   "metadata": {},
   "source": [
    "subjects = dataset.get_subjects()\n",
    "\n",
    "frames_per_row = 4\n",
    "row_count = len(subjects) // frames_per_row + 1\n",
    "\n",
    "# Create a figure for each subject, display not more than 5 scenarios per row\n",
    "fig, axs = plt.subplots(row_count, frames_per_row, figsize=(20, 5 * row_count))\n",
    "\n",
    "for idx, subject in enumerate(subjects):\n",
    "    scenario = scenarios[0]\n",
    "    video_path = dataset.get_video_path(subject, '101_natural_lighting')\n",
    "\n",
    "    # Read the first frame of the video\n",
    "    cap = cv2.VideoCapture(video_path)\n",
    "    ret, frame = cap.read()\n",
    "    cap.release()\n",
    "\n",
    "    # Plot the frame\n",
    "    if row_count == 1:\n",
    "        ax = axs[idx % frames_per_row]\n",
    "    else:\n",
    "        ax = axs[idx // frames_per_row, idx % frames_per_row]\n",
    "\n",
    "    ax.imshow(cv2.cvtColor(frame, cv2.COLOR_BGR2RGB))\n",
    "    ax.set_title(subject)\n",
    "\n",
    "fig.tight_layout()\n",
    "plt.show()"
   ],
   "execution_count": null,
   "outputs": []
  }
 ],
 "metadata": {
  "kernelspec": {
   "display_name": "Python 3",
   "language": "python",
   "name": "python3"
  },
  "language_info": {
   "codemirror_mode": {
    "name": "ipython",
    "version": 2
   },
   "file_extension": ".py",
   "mimetype": "text/x-python",
   "name": "python",
   "nbconvert_exporter": "python",
   "pygments_lexer": "ipython2",
   "version": "2.7.6"
  }
 },
 "nbformat": 4,
 "nbformat_minor": 5
}
