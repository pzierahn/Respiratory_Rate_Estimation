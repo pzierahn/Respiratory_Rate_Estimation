{
 "cells": [
  {
   "cell_type": "markdown",
   "id": "29e8feb5a154ad",
   "metadata": {},
   "source": [
    "# Extract respiratory signals\n",
    "\n",
    "This notebook extracts respiratory signals from the given scenarios using the pixel intensity and optical flow methods."
   ]
  },
  {
   "cell_type": "code",
   "id": "initial_id",
   "metadata": {
    "collapsed": true
   },
   "source": [
    "import os\n",
    "import numpy as np\n",
    "import respiration.dataset as repository\n",
    "\n",
    "dataset = repository.from_default()\n",
    "scenarios = dataset.get_scenarios(['101_natural_lighting'])\n",
    "scenarios"
   ],
   "execution_count": null,
   "outputs": []
  },
  {
   "metadata": {},
   "cell_type": "code",
   "source": [
    "results_dir = os.path.join(os.getcwd(), '..', 'evaluation', 'unsupervised')\n",
    "if not os.path.exists(results_dir):\n",
    "    os.makedirs(results_dir)"
   ],
   "id": "95937112f7167b53",
   "execution_count": null,
   "outputs": []
  },
  {
   "metadata": {},
   "cell_type": "code",
   "source": [
    "from datetime import datetime\n",
    "\n",
    "parameters = {\n",
    "    'quality_level': 0.1,\n",
    "    'quality_level_rv': 0.05,\n",
    "    'use_cgof': True,\n",
    "}\n",
    "\n",
    "evaluation_metadata = {\n",
    "    'timestamp_start': datetime.now(),\n",
    "    'scenarios': scenarios,\n",
    "    'parameters': parameters,\n",
    "}"
   ],
   "id": "d6e2ab154d5334d9",
   "execution_count": null,
   "outputs": []
  },
  {
   "metadata": {},
   "cell_type": "code",
   "source": [
    "import respiration.roi as roi\n",
    "\n",
    "yolo = roi.YOLO()\n",
    "\n",
    "\n",
    "def get_rois(frame: np.ndarray) -> list[tuple[np.ndarray, str]]:\n",
    "    \"\"\"\n",
    "    Get the regions of interest (ROIs) for the given frame\n",
    "    :param frame: The frame to get the ROIs from\n",
    "    :return: A list of tuples containing the ROI and the name of the ROI\n",
    "    \"\"\"\n",
    "\n",
    "    regions = [\n",
    "        # ROI for the full frame\n",
    "        ((0, 0, frame.shape[1], frame.shape[0]), 'full')\n",
    "    ]\n",
    "\n",
    "    # Calculate the region of interest (ROI) based on the face\n",
    "    faces = roi.detect_faces(frame)\n",
    "    if len(faces) == 1:\n",
    "        chest_roi = roi.roi_from_face(faces[0])\n",
    "        regions.append((chest_roi, 'chest'))\n",
    "\n",
    "    # Use the detected person to create a mask\n",
    "    persons = yolo.detect_classes(frame, clazz='person')\n",
    "    if len(persons) == 1:\n",
    "        regions.append((persons[0], 'person'))\n",
    "\n",
    "    return regions"
   ],
   "id": "ee5c3a836fc3fe7",
   "execution_count": null,
   "outputs": []
  },
  {
   "cell_type": "code",
   "id": "2aba3e680aa178da",
   "metadata": {},
   "source": [
    "from respiration.extractor import pixel_intensity, optical_flow\n",
    "\n",
    "extracted_signals = []\n",
    "\n",
    "for (subject, setting) in scenarios:\n",
    "    print(f'Processing {subject} - {setting}')\n",
    "\n",
    "    frames, params = dataset.get_video_gray(subject, setting, False)\n",
    "\n",
    "    rois = get_rois(frames[0])\n",
    "\n",
    "    for region in rois:\n",
    "        roi_area, roi_name = region\n",
    "\n",
    "        #\n",
    "        # Calculate the average pixel intensity\n",
    "        #\n",
    "\n",
    "        pi_start = datetime.now()\n",
    "        pi_signal = pixel_intensity.average_pixel_intensity(frames, roi=roi_area)\n",
    "        extracted_signals.append({\n",
    "            'subject': subject,\n",
    "            'setting': setting,\n",
    "            'method': 'pixel_intensity',\n",
    "            'roi': roi_name,\n",
    "            'roi_area': list(roi_area),\n",
    "            'execution_time': datetime.now() - pi_start,\n",
    "            'sample_rate': params.fps,\n",
    "            'signal': pi_signal.tolist(),\n",
    "        })\n",
    "\n",
    "        #\n",
    "        # Calculate the optical flow\n",
    "        #\n",
    "\n",
    "        of_cgof_start = datetime.now()\n",
    "        of_signal_raw = optical_flow.extract_signal(\n",
    "            frames,\n",
    "            roi=roi_area,\n",
    "            quality_level=parameters['quality_level'],\n",
    "            quality_level_rv=parameters['quality_level_rv'],\n",
    "            use_cgof=parameters['use_cgof'],\n",
    "        )\n",
    "\n",
    "        extracted_signals.append({\n",
    "            'subject': subject,\n",
    "            'scenario': frames,\n",
    "            'method': 'optical_flow',\n",
    "            'roi': roi_name,\n",
    "            'roi_area': list(roi_area),\n",
    "            'execution_time': datetime.now() - of_cgof_start,\n",
    "            'sample_rate': params.fps,\n",
    "            'signal': of_signal_raw.tolist(),\n",
    "        })\n",
    "\n",
    "    # Garbage collect the frames\n",
    "    del frames"
   ],
   "execution_count": null,
   "outputs": []
  },
  {
   "metadata": {},
   "cell_type": "code",
   "source": "evaluation_metadata['timestamp_finish'] = datetime.now()",
   "id": "4361f0aa4df2465",
   "execution_count": null,
   "outputs": []
  },
  {
   "metadata": {},
   "cell_type": "code",
   "source": [
    "import pandas as pd\n",
    "\n",
    "df = pd.DataFrame(extracted_signals)\n",
    "df.head()"
   ],
   "id": "e94ff7cb59c2a3ea",
   "execution_count": null,
   "outputs": []
  },
  {
   "metadata": {},
   "cell_type": "code",
   "source": [
    "import respiration.utils as utils\n",
    "\n",
    "# Save the extracted_signals as a JSON\n",
    "json_path = os.path.join(results_dir, 'predictions.json')\n",
    "utils.write_json(json_path, extracted_signals)\n",
    "\n",
    "# Save the evaluation dataframe\n",
    "csv_path = os.path.join(results_dir, 'predictions.csv')\n",
    "df.to_csv(csv_path, index=False)\n",
    "\n",
    "# Save the hyperparameters as prettified json\n",
    "json_path = os.path.join(results_dir, 'parameters.json')\n",
    "utils.write_json(json_path, evaluation_metadata)"
   ],
   "id": "3806544e615aa349",
   "execution_count": null,
   "outputs": []
  }
 ],
 "metadata": {
  "kernelspec": {
   "display_name": "Python 3",
   "language": "python",
   "name": "python3"
  },
  "language_info": {
   "codemirror_mode": {
    "name": "ipython",
    "version": 2
   },
   "file_extension": ".py",
   "mimetype": "text/x-python",
   "name": "python",
   "nbconvert_exporter": "python",
   "pygments_lexer": "ipython2",
   "version": "2.7.6"
  }
 },
 "nbformat": 4,
 "nbformat_minor": 5
}
