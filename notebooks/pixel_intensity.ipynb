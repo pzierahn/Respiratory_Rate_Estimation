{
 "cells": [
  {
   "metadata": {},
   "cell_type": "code",
   "source": [
    "import numpy as np\n",
    "import cv2\n",
    "from tqdm.auto import tqdm"
   ],
   "id": "602613416f06f162",
   "outputs": [],
   "execution_count": null
  },
  {
   "metadata": {},
   "cell_type": "code",
   "source": [
    "def read_video(path: str) -> np.array:\n",
    "    cap = cv2.VideoCapture(path)\n",
    "    frame_count = int(cap.get(cv2.CAP_PROP_FRAME_COUNT))\n",
    "\n",
    "    frames = []\n",
    "    for _ in tqdm(range(frame_count), desc='Reading video'):\n",
    "        ret, frame = cap.read()\n",
    "        if not ret:\n",
    "            break\n",
    "\n",
    "        # converting to grayscale for simplicity\n",
    "        frames.append(cv2.cvtColor(frame, cv2.COLOR_BGR2GRAY))\n",
    "\n",
    "    cap.release()\n",
    "    frames = np.array(frames)\n",
    "\n",
    "    return frames"
   ],
   "id": "6e3182663a8f685f",
   "outputs": [],
   "execution_count": null
  },
  {
   "metadata": {},
   "cell_type": "code",
   "source": [
    "# video_path = '/Volumes/Patrick/Proband06/Logitech HD Pro Webcam C920.avi'\n",
    "video_path = '/Users/patrick/Desktop/Proband06/Logitech HD Pro Webcam C920.avi'\n",
    "video_frames = read_video(video_path)"
   ],
   "id": "c2a016b1feb2436c",
   "outputs": [],
   "execution_count": null
  },
  {
   "metadata": {},
   "cell_type": "code",
   "source": [
    "# Chest region\n",
    "# pixel_x, pixel_y = 400, 400\n",
    "pixel_x, pixel_y = 400, 375\n",
    "\n",
    "# Headshot\n",
    "# pixel_x, pixel_y = 180, 350\n",
    "\n",
    "# Wall\n",
    "# pixel_x, pixel_y = 100, 100"
   ],
   "id": "9caf51b2856c5ee",
   "outputs": [],
   "execution_count": null
  },
  {
   "metadata": {},
   "cell_type": "code",
   "source": [
    "import matplotlib.pyplot as plt\n",
    "\n",
    "# Draw a point on the pixel in the first frame\n",
    "frame = video_frames[0].copy()\n",
    "\n",
    "plt.imshow(frame, cmap='gray')\n",
    "plt.scatter(pixel_y, pixel_x, color='red')\n",
    "plt.show()"
   ],
   "id": "dcba91a01ab6890d",
   "outputs": [],
   "execution_count": null
  },
  {
   "metadata": {},
   "cell_type": "code",
   "source": [
    "pixels = []\n",
    "\n",
    "for frame in video_frames:\n",
    "    pixels.append(frame[pixel_x, pixel_y])"
   ],
   "id": "5e5dbfa56a4f39e",
   "outputs": [],
   "execution_count": null
  },
  {
   "metadata": {},
   "cell_type": "code",
   "source": [
    "# Plot the pixel intensity over time in an interactive plot\n",
    "import plotly.express as px\n",
    "\n",
    "fig = px.line(y=pixels, title='Pixel intensity over time')\n",
    "fig.show()"
   ],
   "id": "5d5de2de2bc60654",
   "outputs": [],
   "execution_count": null
  },
  {
   "metadata": {},
   "cell_type": "code",
   "source": [
    "import numpy as np\n",
    "from scipy.fft import fft\n",
    "\n",
    "# Normalize the pixel values\n",
    "pixels_normalized = np.array(pixels) / 255\n",
    "\n",
    "# Calculate the fast fourier transform of the thorax abdomen data\n",
    "pixels_fft = fft(pixels_normalized)\n",
    "\n",
    "# Calculate the frequency\n",
    "freq = np.fft.fftfreq(len(pixels_fft), 1 / 30)\n",
    "\n",
    "# Remove the negative frequencies\n",
    "pixels_fft = pixels_fft[freq > 0]\n",
    "freq = freq[freq > 0]"
   ],
   "id": "3aadff29ffd78679",
   "outputs": [],
   "execution_count": null
  },
  {
   "metadata": {},
   "cell_type": "code",
   "source": [
    "# Plot the frequency spectrum\n",
    "fig = px.line(x=freq, y=np.abs(pixels_fft), title='Frequency spectrum')\n",
    "fig.show()"
   ],
   "id": "2ff0700e0ff26397",
   "outputs": [],
   "execution_count": null
  },
  {
   "metadata": {},
   "cell_type": "code",
   "source": [
    "# Find the frequency with the highest amplitude\n",
    "max_freq = freq[np.argmax(np.abs(pixels_fft))]\n",
    "\n",
    "# Calculate the breathing rate in beats per minute\n",
    "breathing_rate = max_freq * 60\n",
    "\n",
    "max_freq, breathing_rate"
   ],
   "id": "616647e17908d96f",
   "outputs": [],
   "execution_count": null
  },
  {
   "metadata": {},
   "cell_type": "code",
   "source": [
    "# Only keep the frequencies between 0.1 and 0.6 Hz\n",
    "bandpass_filter = (freq > 0.1) & (freq < 0.6)\n",
    "\n",
    "# Remove the negative frequencies\n",
    "filtered_fft = pixels_fft[bandpass_filter]\n",
    "filtered_freq = freq[bandpass_filter]"
   ],
   "id": "2285ee0b3b90a1e4",
   "outputs": [],
   "execution_count": null
  },
  {
   "metadata": {},
   "cell_type": "code",
   "source": [
    "# Plot the filtered frequency spectrum\n",
    "fig = px.line(x=filtered_freq, y=np.abs(filtered_fft), title='Filtered Frequency spectrum')\n",
    "fig.show()"
   ],
   "id": "ce90aea6f60da4e3",
   "outputs": [],
   "execution_count": null
  },
  {
   "metadata": {},
   "cell_type": "code",
   "source": [
    "# Find the frequency with the highest amplitude\n",
    "max_freq = filtered_freq[np.argmax(np.abs(filtered_fft))]\n",
    "\n",
    "# Calculate the breathing rate in beats per minute\n",
    "breathing_rate = max_freq * 60\n",
    "\n",
    "max_freq, breathing_rate"
   ],
   "id": "4bb7d6ace798f928",
   "outputs": [],
   "execution_count": null
  }
 ],
 "metadata": {
  "kernelspec": {
   "display_name": "Python 3",
   "language": "python",
   "name": "python3"
  },
  "language_info": {
   "codemirror_mode": {
    "name": "ipython",
    "version": 2
   },
   "file_extension": ".py",
   "mimetype": "text/x-python",
   "name": "python",
   "nbconvert_exporter": "python",
   "pygments_lexer": "ipython2",
   "version": "2.7.6"
  }
 },
 "nbformat": 4,
 "nbformat_minor": 5
}
