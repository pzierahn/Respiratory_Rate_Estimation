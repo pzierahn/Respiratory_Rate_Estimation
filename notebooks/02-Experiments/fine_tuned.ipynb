{
 "cells": [
  {
   "metadata": {},
   "cell_type": "markdown",
   "source": [
    "# Fine-Tuned\n",
    "\n",
    "This notebook extracts respiration signals for each subject using the fine-tuned models."
   ],
   "id": "156541bc5c985cd6"
  },
  {
   "metadata": {},
   "cell_type": "code",
   "source": [
    "import os\n",
    "import numpy as np\n",
    "\n",
    "models_dirs = [\n",
    "    os.path.join('..', 'models', 'fine_tuned', '20240504_001813'),\n",
    "    os.path.join('..', 'models', 'fine_tuned', '20240504_084248'),\n",
    "    os.path.join('..', 'models', 'fine_tuned', '20240504_132901'),\n",
    "    os.path.join('..', 'models', 'fine_tuned', '20240504_163423'),\n",
    "    os.path.join('..', 'models', 'fine_tuned', '20240504_221524'),\n",
    "    os.path.join('..', 'models', 'fine_tuned', '20240505_094817'),\n",
    "]"
   ],
   "id": "41913a5f51b91d3",
   "execution_count": null,
   "outputs": []
  },
  {
   "metadata": {},
   "cell_type": "code",
   "source": [
    "import respiration.utils as utils\n",
    "\n",
    "device = utils.get_torch_device()\n",
    "dim = 72\n",
    "frame_depth = 20"
   ],
   "id": "58f776cb0661ee85",
   "execution_count": null,
   "outputs": []
  },
  {
   "metadata": {},
   "cell_type": "code",
   "source": [
    "model_info = []\n",
    "manifests = []\n",
    "\n",
    "for model_dir in models_dirs:\n",
    "    manifest_path = os.path.join(model_dir, 'manifest.json')\n",
    "    manifest = utils.read_json(manifest_path)\n",
    "    manifests.append(manifest)\n",
    "\n",
    "    for tuned_model in manifest['tuned_models']:\n",
    "        model_info.append({\n",
    "            'id': manifest['id'],\n",
    "            'base_model': manifest['base_model'],\n",
    "            'loss_fn': manifest['loss_fn'],\n",
    "            'model': tuned_model['model'],\n",
    "            'epoch': tuned_model['epoch'],\n",
    "            'validation_loss': tuned_model['validation_loss'],\n",
    "        })"
   ],
   "id": "8ee6b5058c138735",
   "execution_count": null,
   "outputs": []
  },
  {
   "metadata": {},
   "cell_type": "code",
   "source": [
    "import pandas as pd\n",
    "\n",
    "model_df = pd.DataFrame(model_info)\n",
    "model_df"
   ],
   "id": "e3e8df9b87b41a22",
   "execution_count": null,
   "outputs": []
  },
  {
   "metadata": {},
   "cell_type": "code",
   "source": [
    "import torch\n",
    "from respiration.extractor.efficient_phys import EfficientPhys\n",
    "\n",
    "\n",
    "def load_model(path) -> EfficientPhys:\n",
    "    # Wrap modul in nn.DataParallel\n",
    "    model = EfficientPhys(img_size=dim, frame_depth=frame_depth)\n",
    "    # Fix model loading: Some key have an extra 'module.' prefix\n",
    "    model = torch.nn.DataParallel(model)\n",
    "    model.to(device)\n",
    "    model.load_state_dict(torch.load(path, map_location=device))\n",
    "\n",
    "    _ = model.eval()\n",
    "\n",
    "    return model"
   ],
   "id": "6ecec9681f539815",
   "execution_count": null,
   "outputs": []
  },
  {
   "metadata": {},
   "cell_type": "code",
   "source": [
    "from respiration.dataset import VitalCamSet\n",
    "\n",
    "dataset = VitalCamSet()"
   ],
   "id": "3eabcd4e01b673c5",
   "execution_count": null,
   "outputs": []
  },
  {
   "metadata": {},
   "cell_type": "code",
   "source": [
    "def predict_signal(model: EfficientPhys, subject: str, setting: str) -> tuple[np.ndarray, int, int]:\n",
    "    video_path = dataset.get_video_path(subject, setting)\n",
    "\n",
    "    # frame_count = utils.get_frame_count(video_path)\n",
    "    # chunk_size = (frame_count // frame_depth) * frame_depth - (frame_depth - 1)\n",
    "    chunk_size = frame_depth * 100 + 1\n",
    "\n",
    "    frames, meta = utils.read_video_rgb(video_path, chunk_size)\n",
    "    frames = utils.down_sample_video(frames, dim)\n",
    "\n",
    "    frames = torch.tensor(frames, dtype=torch.float32, device=device).permute(0, 3, 1, 2)\n",
    "\n",
    "    with torch.no_grad():\n",
    "        prediction = model(frames).cpu().detach().numpy().squeeze()\n",
    "\n",
    "    del frames\n",
    "\n",
    "    return prediction, chunk_size, meta.fps"
   ],
   "id": "bd644920d8c07d93",
   "execution_count": null,
   "outputs": []
  },
  {
   "metadata": {},
   "cell_type": "code",
   "source": [
    "import datetime as dt\n",
    "\n",
    "predictions = []\n",
    "\n",
    "for model_dir in models_dirs:\n",
    "    manifest_path = os.path.join(model_dir, 'manifest.json')\n",
    "    manifest = utils.read_json(manifest_path)\n",
    "\n",
    "    best_model = manifest['tuned_models'][-1]\n",
    "    model_path = os.path.join(model_dir, best_model['model'])\n",
    "\n",
    "    model = load_model(model_path)\n",
    "\n",
    "    scenarios = []\n",
    "    scenarios.extend(manifest['training_scenarios'])\n",
    "    scenarios.extend(manifest['testing_scenarios'])\n",
    "\n",
    "    for scenario in scenarios:\n",
    "        if not dataset.contains(scenario[0], scenario[1]):\n",
    "            print(f'Skipping {scenario[0]} - {scenario[1]}')\n",
    "            continue\n",
    "\n",
    "        print(f'Processing {manifest['id']}: {scenario[0]} - {scenario[1]}')\n",
    "\n",
    "        start = dt.datetime.now()\n",
    "        prediction, chunks, fps = predict_signal(model, scenario[0], scenario[1])\n",
    "\n",
    "        predictions.append({\n",
    "            'id': manifest['id'],\n",
    "            'subject': scenario[0],\n",
    "            'setting': scenario[1],\n",
    "            'duration': dt.datetime.now() - start,\n",
    "            'chunk_size': chunks,\n",
    "            'sample_rate': fps,\n",
    "            'signal': prediction.tolist(),\n",
    "        })"
   ],
   "id": "89f8ceedd4fdbdcb",
   "execution_count": null,
   "outputs": []
  },
  {
   "metadata": {},
   "cell_type": "code",
   "source": [
    "prediction_df = pd.DataFrame(predictions)\n",
    "\n",
    "evaluation_dir = os.path.join('..', 'evaluation', 'fine_tuned')\n",
    "if not os.path.exists(evaluation_dir):\n",
    "    os.makedirs(evaluation_dir)\n",
    "\n",
    "evaluation_path = os.path.join(evaluation_dir, 'predictions.csv')\n",
    "prediction_df.to_csv(evaluation_path, index=False)\n",
    "\n",
    "manifests_path = os.path.join(evaluation_dir, 'manifests.json')\n",
    "utils.write_json(manifests_path, manifests)\n",
    "\n",
    "prediction_df"
   ],
   "id": "ab2b7b98a1d93f49",
   "execution_count": null,
   "outputs": []
  }
 ],
 "metadata": {
  "kernelspec": {
   "display_name": "Python 3",
   "language": "python",
   "name": "python3"
  },
  "language_info": {
   "codemirror_mode": {
    "name": "ipython",
    "version": 2
   },
   "file_extension": ".py",
   "mimetype": "text/x-python",
   "name": "python",
   "nbconvert_exporter": "python",
   "pygments_lexer": "ipython2",
   "version": "2.7.6"
  }
 },
 "nbformat": 4,
 "nbformat_minor": 5
}
