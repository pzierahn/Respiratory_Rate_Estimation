{
 "cells": [
  {
   "metadata": {},
   "cell_type": "markdown",
   "source": [
    "# rPPG Predictions\n",
    "\n",
    "This notebook runs various pretrained models from [rPPG-Toolbox](https://github.com/ubicomplab/rPPG-Toolbox) to extract rPPG signals from videos. The rPPG signals are then saved to disk for further analysis."
   ],
   "id": "d6b5056fdfa6d020"
  },
  {
   "metadata": {},
   "cell_type": "code",
   "source": [
    "import torch\n",
    "import respiration.utils as utils\n",
    "\n",
    "dim = 72\n",
    "device = utils.get_torch_device()\n",
    "\n",
    "# Models are trained on different datasets\n",
    "models = {\n",
    "    'DeepPhys': [\n",
    "        'BP4D_PseudoLabel_DeepPhys',\n",
    "        'MA-UBFC_deepphys',\n",
    "        'PURE_DeepPhys',\n",
    "        'SCAMPS_DeepPhys',\n",
    "        'UBFC-rPPG_DeepPhys',\n",
    "    ],\n",
    "}"
   ],
   "id": "64744f27d1a01020",
   "outputs": [],
   "execution_count": null
  },
  {
   "metadata": {},
   "cell_type": "code",
   "source": [
    "from respiration.extractor.deep_phys import DeepPhys\n",
    "\n",
    "\n",
    "def load_model(name, path) -> torch.nn.Module:\n",
    "    \"\"\"\n",
    "    Load a pretrained model from the rPPG-Toolbox.\n",
    "    \"\"\"\n",
    "    match name:\n",
    "        case 'DeepPhys':\n",
    "            loaded_model = DeepPhys(img_size=dim).to(device)\n",
    "            loaded_model = torch.nn.DataParallel(loaded_model).to(device)\n",
    "            loaded_model.load_state_dict(torch.load(path, map_location=device))\n",
    "            return loaded_model\n",
    "        case _:\n",
    "            raise ValueError(f'Unknown model: {name}')"
   ],
   "id": "d2958b0b9246d65b",
   "outputs": [],
   "execution_count": null
  },
  {
   "metadata": {},
   "cell_type": "code",
   "source": [
    "from respiration.dataset import VitalCamSet\n",
    "\n",
    "dataset = VitalCamSet()\n",
    "scenarios = dataset.get_scenarios(['101_natural_lighting'])"
   ],
   "id": "472f67021320abc7",
   "outputs": [],
   "execution_count": null
  },
  {
   "metadata": {},
   "cell_type": "code",
   "source": [
    "predictions = []\n",
    "\n",
    "for base_model, models in models.items():\n",
    "    for model_name in models:\n",
    "        print(f'Loading model: {base_model} {model_name}')\n",
    "        model_path = utils.file_path('data', 'rPPG-Toolbox', model_name + '.pth')\n",
    "        model = load_model(base_model, model_path)\n",
    "\n",
    "        for (subject, setting) in scenarios:\n",
    "            print(f'--> Processing: {subject} {setting}')\n",
    "            frames, meta = dataset.get_video_rgb(subject, setting)\n",
    "\n",
    "            resized, normalized = utils.preprocess_video_frames(frames, dim)\n",
    "\n",
    "            # Permute from (T, H, W, C) to (T, C, H, W)\n",
    "            resized = torch.tensor(resized).permute(0, 3, 1, 2).to(device)\n",
    "            normalized = torch.tensor(normalized).permute(0, 3, 1, 2).to(device)\n",
    "\n",
    "            # Concatenate the two inputs\n",
    "            combined = torch.cat((resized, normalized), dim=1).to(device)\n",
    "\n",
    "            with torch.no_grad():\n",
    "                prediction = model(combined)\n",
    "\n",
    "            prediction = prediction.cpu().numpy().squeeze()\n",
    "\n",
    "            predictions.append({\n",
    "                'base_model': base_model,\n",
    "                'model': model_name,\n",
    "                'subject': subject,\n",
    "                'setting': setting,\n",
    "                'sampling_rate': meta.fps,\n",
    "                'signal': prediction.tolist(),\n",
    "            })"
   ],
   "id": "e2a022ff67328f38",
   "outputs": [],
   "execution_count": null
  },
  {
   "metadata": {},
   "cell_type": "code",
   "source": [
    "import pandas as pd\n",
    "\n",
    "df = pd.DataFrame(predictions)\n",
    "df.head()"
   ],
   "id": "60c46b662672a01f",
   "outputs": [],
   "execution_count": null
  },
  {
   "metadata": {},
   "cell_type": "code",
   "source": [
    "signals_dir = utils.dir_path('outputs', 'signals', mkdir=True)\n",
    "signals_path = utils.join_paths(signals_dir, 'deep_phys_predictions.csv')\n",
    "df.to_csv(signals_path, index=False)"
   ],
   "id": "972909c25da0739b",
   "outputs": [],
   "execution_count": null
  }
 ],
 "metadata": {
  "kernelspec": {
   "display_name": "Python 3",
   "language": "python",
   "name": "python3"
  },
  "language_info": {
   "codemirror_mode": {
    "name": "ipython",
    "version": 2
   },
   "file_extension": ".py",
   "mimetype": "text/x-python",
   "name": "python",
   "nbconvert_exporter": "python",
   "pygments_lexer": "ipython2",
   "version": "2.7.6"
  }
 },
 "nbformat": 4,
 "nbformat_minor": 5
}
