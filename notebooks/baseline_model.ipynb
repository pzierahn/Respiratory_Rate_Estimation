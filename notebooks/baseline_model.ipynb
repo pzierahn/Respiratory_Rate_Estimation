{
 "cells": [
  {
   "metadata": {},
   "cell_type": "code",
   "source": [
    "import numpy as np\n",
    "import cv2\n",
    "from tqdm.auto import tqdm"
   ],
   "id": "602613416f06f162",
   "outputs": [],
   "execution_count": null
  },
  {
   "metadata": {},
   "cell_type": "code",
   "source": [
    "def read_video(path: str) -> np.array:\n",
    "    cap = cv2.VideoCapture(path)\n",
    "    frame_count = int(cap.get(cv2.CAP_PROP_FRAME_COUNT))\n",
    "\n",
    "    frames = []\n",
    "    for _ in tqdm(range(frame_count), desc='Reading video'):\n",
    "        ret, frame = cap.read()\n",
    "        if not ret:\n",
    "            break\n",
    "\n",
    "        # converting to grayscale for simplicity\n",
    "        frames.append(cv2.cvtColor(frame, cv2.COLOR_BGR2GRAY))\n",
    "\n",
    "    cap.release()\n",
    "    frames = np.array(frames)\n",
    "\n",
    "    return frames"
   ],
   "id": "6e3182663a8f685f",
   "outputs": [],
   "execution_count": null
  },
  {
   "metadata": {},
   "cell_type": "code",
   "source": [
    "# video_path = '/Volumes/Patrick/Proband06/Logitech HD Pro Webcam C920.avi'\n",
    "video_path = '/Users/patrick/Desktop/Proband06/Logitech HD Pro Webcam C920.avi'\n",
    "video_frames = read_video(video_path)"
   ],
   "id": "c2a016b1feb2436c",
   "outputs": [],
   "execution_count": null
  },
  {
   "metadata": {},
   "cell_type": "code",
   "source": [
    "import matplotlib.pyplot as plt\n",
    "\n",
    "# Detect the face in the first frame with Viola Jones algorithm\n",
    "frame1 = video_frames[0].copy()\n",
    "\n",
    "face_cascade = cv2.CascadeClassifier(cv2.data.haarcascades + 'haarcascade_frontalface_default.xml')\n",
    "\n",
    "faces = face_cascade.detectMultiScale(frame1, 2.0, 4)\n",
    "\n",
    "roi = None\n",
    "\n",
    "for (x, y, w, h) in faces:\n",
    "    cv2.rectangle(frame1, (x, y), (x + w, y + h), (255, 0, 0), 2)\n",
    "\n",
    "    # Calculate the chest region based on Cheng_Liu_2023\n",
    "    chest_x = x\n",
    "    chest_y = int(y + h + h * 0.7)\n",
    "    chest_w = w\n",
    "    chest_h = int(h * 0.5)\n",
    "\n",
    "    roi = (chest_x, chest_y, chest_w, chest_h)\n",
    "\n",
    "    cv2.rectangle(frame1, (chest_x, chest_y), (chest_x + chest_w, chest_y + chest_h), (255, 0, 0), 2)\n",
    "    break\n",
    "\n",
    "plt.figure(figsize=(5, 5))\n",
    "plt.imshow(frame1, cmap='gray')\n",
    "plt.title('Face and chest detection')\n",
    "plt.show()"
   ],
   "id": "e9dd3fc49a3e741a",
   "outputs": [],
   "execution_count": null
  },
  {
   "metadata": {},
   "cell_type": "markdown",
   "source": "## Use the average pixel intensity in the chest region to calculate the breathing rate",
   "id": "d8aa5640c525d9f3"
  },
  {
   "metadata": {},
   "cell_type": "code",
   "source": [
    "pixels = []\n",
    "\n",
    "for frame in video_frames:\n",
    "    # Calculate the average pixel intensity in the chest region\n",
    "    region = frame[roi[1]:roi[1] + roi[3], roi[0]:roi[0] + roi[2]]\n",
    "    \n",
    "    avg_pixel = np.mean(region)\n",
    "    \n",
    "    pixels.append(avg_pixel)"
   ],
   "id": "5e5dbfa56a4f39e",
   "outputs": [],
   "execution_count": null
  },
  {
   "metadata": {},
   "cell_type": "code",
   "source": [
    "# Plot the pixel intensity over time in an interactive plot\n",
    "import plotly.express as px\n",
    "\n",
    "fig = px.line(y=pixels, title='Pixel intensity over time')\n",
    "fig.show()"
   ],
   "id": "5d5de2de2bc60654",
   "outputs": [],
   "execution_count": null
  },
  {
   "metadata": {},
   "cell_type": "code",
   "source": [
    "import numpy as np\n",
    "from scipy.fft import fft\n",
    "\n",
    "# Normalize the pixel values\n",
    "pixels_normalized = np.array(pixels) / 255\n",
    "\n",
    "# Calculate the fast fourier transform of the thorax abdomen data\n",
    "pixels_fft = fft(pixels_normalized)\n",
    "\n",
    "# Calculate the frequency\n",
    "freq = np.fft.fftfreq(len(pixels_fft), 1 / 30)\n",
    "\n",
    "# Remove the negative frequencies\n",
    "pixels_fft = pixels_fft[freq > 0]\n",
    "freq = freq[freq > 0]"
   ],
   "id": "3aadff29ffd78679",
   "outputs": [],
   "execution_count": null
  },
  {
   "metadata": {},
   "cell_type": "code",
   "source": [
    "# Only keep the frequencies between 0.1 and 0.6 Hz\n",
    "bandpass_filter = (freq > 0.09) & (freq < 0.6)\n",
    "\n",
    "# Remove the negative frequencies\n",
    "filtered_fft = pixels_fft[bandpass_filter]\n",
    "filtered_freq = freq[bandpass_filter]"
   ],
   "id": "2285ee0b3b90a1e4",
   "outputs": [],
   "execution_count": null
  },
  {
   "metadata": {},
   "cell_type": "code",
   "source": [
    "# Plot the filtered frequency spectrum\n",
    "fig = px.line(x=filtered_freq, y=np.abs(filtered_fft), title='Filtered Frequency spectrum')\n",
    "fig.show()"
   ],
   "id": "ce90aea6f60da4e3",
   "outputs": [],
   "execution_count": null
  },
  {
   "metadata": {},
   "cell_type": "code",
   "source": [
    "# Find the frequency with the highest amplitude\n",
    "max_freq = filtered_freq[np.argmax(np.abs(filtered_fft))]\n",
    "\n",
    "# Calculate the breathing rate in beats per minute\n",
    "breathing_rate = max_freq * 60\n",
    "\n",
    "max_freq, breathing_rate"
   ],
   "id": "4bb7d6ace798f928",
   "outputs": [],
   "execution_count": null
  },
  {
   "metadata": {},
   "cell_type": "markdown",
   "source": "## Calculate the ",
   "id": "786aa4764cc5ad5d"
  },
  {
   "metadata": {},
   "cell_type": "code",
   "source": [
    "pixel_intensities = []\n",
    "\n",
    "for x in range(roi[0], roi[0] + roi[2]):\n",
    "    for y in range(roi[1], roi[1] + roi[3]):\n",
    "        for t in range(len(video_frames)):\n",
    "            pixel_intensities.append(video_frames[t][y, x])\n",
    "    \n",
    "pixel_intensities = np.array(pixel_intensities)    "
   ],
   "id": "f892271496199921",
   "outputs": [],
   "execution_count": null
  },
  {
   "metadata": {},
   "cell_type": "code",
   "source": [
    "# Breathing rate matrix\n",
    "breathing_rate_matrix = np.zeros((roi[3], roi[2]))\n",
    "\n",
    "# Calculate the fast fourier transform of the thorax abdomen data\n",
    "for i in range(0, len(pixel_intensities), len(video_frames)):\n",
    "    pixels_fft = fft(pixel_intensities[i:i + len(video_frames)])\n",
    "\n",
    "    # Calculate the frequency\n",
    "    freq = np.fft.fftfreq(len(pixels_fft), 1 / 30)\n",
    "\n",
    "    # Remove the negative frequencies\n",
    "    pixels_fft = pixels_fft[freq > 0]\n",
    "    freq = freq[freq > 0]\n",
    "\n",
    "    # Only keep the frequencies between 0.1 and 0.6 Hz\n",
    "    bandpass_filter = (freq > 0.09) & (freq < 0.6)\n",
    "\n",
    "    # Remove the negative frequencies\n",
    "    filtered_fft = pixels_fft[bandpass_filter]\n",
    "    filtered_freq = freq[bandpass_filter]\n",
    "\n",
    "    # Find the frequency with the highest amplitude\n",
    "    max_freq = filtered_freq[np.argmax(np.abs(filtered_fft))]\n",
    "\n",
    "    # Calculate the breathing rate in beats per minute\n",
    "    breathing_rate = max_freq * 60\n",
    "    \n",
    "    # Store the breathing rate in the breathing rate matrix\n",
    "    x = i // len(video_frames) % roi[2]\n",
    "    y = i // len(video_frames) // roi[2]\n",
    "    \n",
    "    breathing_rate_matrix[y, x] = max_freq"
   ],
   "id": "cff347fe1bc39b3f",
   "outputs": [],
   "execution_count": null
  },
  {
   "metadata": {},
   "cell_type": "code",
   "source": [
    "# Plot the breathing rate matrix\n",
    "plt.figure(figsize=(10, 10))\n",
    "plt.imshow(breathing_rate_matrix, cmap='hot', interpolation='nearest')\n",
    "plt.colorbar()\n",
    "plt.title('Breathing rate matrix')\n",
    "plt.show()"
   ],
   "id": "292d574275644944",
   "outputs": [],
   "execution_count": null
  },
  {
   "metadata": {},
   "cell_type": "code",
   "source": [
    "# Calculate the average breathing rate\n",
    "average_breathing_rate = np.mean(breathing_rate_matrix)\n",
    "average_breathing_rate, average_breathing_rate * 60"
   ],
   "id": "f10dc25935abed1c",
   "outputs": [],
   "execution_count": null
  }
 ],
 "metadata": {
  "kernelspec": {
   "display_name": "Python 3",
   "language": "python",
   "name": "python3"
  },
  "language_info": {
   "codemirror_mode": {
    "name": "ipython",
    "version": 2
   },
   "file_extension": ".py",
   "mimetype": "text/x-python",
   "name": "python",
   "nbconvert_exporter": "python",
   "pygments_lexer": "ipython2",
   "version": "2.7.6"
  }
 },
 "nbformat": 4,
 "nbformat_minor": 5
}
