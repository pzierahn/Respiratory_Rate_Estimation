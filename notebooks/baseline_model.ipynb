{
 "cells": [
  {
   "metadata": {},
   "cell_type": "markdown",
   "source": [
    "# Baseline model\n",
    "\n",
    "This notebook demonstrates the baseline model for estimating the respiratory rate from a video of a person's chest. The model uses the Viola Jones algorithm to detect the face in the first frame of the video. It then calculates the region of interest (ROI) based on the face position and size. The model calculates the average pixel intensity in the chest region and applies a fast Fourier transform (FFT) to the signal. The respiratory rate is estimated by identifying the frequency that exhibits the highest amplitude within the FFT spectrum."
   ],
   "id": "d1a950d145ab9d09"
  },
  {
   "metadata": {},
   "cell_type": "code",
   "source": [
    "import os\n",
    "import cv2\n",
    "import respiratory_extraction.utils as utils"
   ],
   "id": "602613416f06f162",
   "outputs": [],
   "execution_count": null
  },
  {
   "metadata": {},
   "cell_type": "code",
   "source": [
    "data_path = os.path.join(os.getcwd(), '..', 'data', 'subjects')\n",
    "dataset = utils.Dataset(data_path)\n",
    "\n",
    "subject = 'Proband16'\n",
    "scenario = '101_natural_lighting'\n",
    "\n",
    "frames, video_params = dataset.read_video_gray(subject, scenario)"
   ],
   "id": "c2a016b1feb2436c",
   "outputs": [],
   "execution_count": null
  },
  {
   "metadata": {},
   "cell_type": "markdown",
   "source": "",
   "id": "7df52606dd34fea5"
  },
  {
   "metadata": {},
   "cell_type": "markdown",
   "source": "## Detect the face in the first frame and calculate the region of interest",
   "id": "a751d576d5fe72cc"
  },
  {
   "metadata": {},
   "cell_type": "code",
   "source": [
    "import matplotlib.pyplot as plt\n",
    "import respiratory_extraction.utils as utils\n",
    "\n",
    "faces = utils.detect_faces(frames[0])\n",
    "if len(faces) == 0:\n",
    "    raise ValueError('No face detected in the first frame')\n",
    "elif len(faces) > 1:\n",
    "    raise ValueError('Multiple faces detected in the first frame')\n",
    "\n",
    "# First face position and size\n",
    "face1 = faces[0]\n",
    "\n",
    "# Calculate the region of interest (ROI) based on the face\n",
    "roi = utils.roi_from_face(face1[0], face1[1], face1[2], face1[3])"
   ],
   "id": "8a0da5653da761ec",
   "outputs": [],
   "execution_count": null
  },
  {
   "metadata": {},
   "cell_type": "code",
   "source": [
    "# Detect the face in the first frame with Viola Jones algorithm\n",
    "frame1 = frames[0].copy()\n",
    "\n",
    "# Draw a rectangle around the face\n",
    "cv2.rectangle(frame1, (face1[0], face1[1]), (face1[0] + face1[2], face1[1] + face1[3]), (255, 0, 0), 2)\n",
    "\n",
    "# Draw a rectangle around the chest region\n",
    "cv2.rectangle(frame1, (roi[0], roi[1]), (roi[0] + roi[2], roi[1] + roi[3]), (255, 0, 0), 2)\n",
    "\n",
    "plt.figure(figsize=(5, 5))\n",
    "plt.imshow(frame1, cmap='gray')\n",
    "plt.title('Face and chest detection')\n",
    "plt.show()"
   ],
   "id": "e9dd3fc49a3e741a",
   "outputs": [],
   "execution_count": null
  },
  {
   "metadata": {},
   "cell_type": "markdown",
   "source": "## Calculate the average pixel intensity in the chest region",
   "id": "d8aa5640c525d9f3"
  },
  {
   "metadata": {},
   "cell_type": "code",
   "source": [
    "import respiratory_extraction.models.baseline as baseline\n",
    "\n",
    "# Calculate the average pixel intensity in the chest region\n",
    "average_pixels = baseline.average_pixel_intensity(frames, roi)"
   ],
   "id": "5e5dbfa56a4f39e",
   "outputs": [],
   "execution_count": null
  },
  {
   "metadata": {},
   "cell_type": "code",
   "source": [
    "import plotly.express as px\n",
    "\n",
    "# Plot the average pixel intensity in the chest region\n",
    "fig = px.line(x=range(len(average_pixels)), y=average_pixels,\n",
    "              title='Average pixel intensity in the chest region')\n",
    "fig.show()"
   ],
   "id": "e1b4f6d5ebba2db0",
   "outputs": [],
   "execution_count": null
  },
  {
   "metadata": {},
   "cell_type": "markdown",
   "source": "## Calculate the respiratory rate",
   "id": "bc9cf3c807268ff4"
  },
  {
   "metadata": {},
   "cell_type": "code",
   "source": [
    "# Calculate the fast fourier transform of the average pixel intensity\n",
    "pixels_fft, freq = baseline.calculate_fft(average_pixels, video_params.fps, min_freq=0.1, max_freq=0.6)"
   ],
   "id": "2285ee0b3b90a1e4",
   "outputs": [],
   "execution_count": null
  },
  {
   "metadata": {},
   "cell_type": "code",
   "source": [
    "import numpy as np\n",
    "\n",
    "# Plot the filtered frequency spectrum\n",
    "fig = px.line(x=freq, y=np.abs(pixels_fft), title='Filtered Frequency spectrum')\n",
    "fig.show()"
   ],
   "id": "ce90aea6f60da4e3",
   "outputs": [],
   "execution_count": null
  },
  {
   "metadata": {},
   "cell_type": "code",
   "source": [
    "# Find the frequency with the highest amplitude\n",
    "max_freq, breathing_rate = baseline.calculate_respiratory_rate(pixels_fft, freq)\n",
    "max_freq, breathing_rate"
   ],
   "id": "4bb7d6ace798f928",
   "outputs": [],
   "execution_count": null
  },
  {
   "metadata": {},
   "cell_type": "markdown",
   "source": "## Evaluate the breathing rate estimation",
   "id": "49aaabab1cc70cfb"
  },
  {
   "metadata": {},
   "cell_type": "code",
   "source": [
    "# Read the ground truth data from unisens directory\n",
    "gt_signal, gt_sample_rate = dataset.read_unisens_entry(subject, scenario, '3_Thorax')"
   ],
   "id": "d772988308e31578",
   "outputs": [],
   "execution_count": null
  },
  {
   "metadata": {},
   "cell_type": "code",
   "source": [
    "# Plot the data with the peaks\n",
    "fig = px.line(x=range(len(gt_signal)), y=gt_signal, title='Ground truth thorax signal')\n",
    "fig.show()"
   ],
   "id": "d851571437c00c9",
   "outputs": [],
   "execution_count": null
  },
  {
   "metadata": {},
   "cell_type": "code",
   "source": [
    "# Calculate the fast fourier transform of the ground truth signal\n",
    "gt_fft, gt_freq = baseline.calculate_fft(gt_signal, gt_sample_rate)\n",
    "gt_max_freq, gt_breathing_rate = baseline.calculate_respiratory_rate(gt_fft, gt_freq)\n",
    "gt_max_freq, gt_breathing_rate"
   ],
   "id": "4654d3db1f9f9265",
   "outputs": [],
   "execution_count": null
  },
  {
   "metadata": {},
   "cell_type": "code",
   "source": [
    "# Calculate the MAE between the ground truth and the estimated breathing rate\n",
    "absolute_error = abs(gt_breathing_rate - breathing_rate)\n",
    "absolute_error"
   ],
   "id": "d9f2d815f7c962bb",
   "outputs": [],
   "execution_count": null
  },
  {
   "metadata": {},
   "cell_type": "markdown",
   "source": "## Calculate the breathing rate with the Autocorrelation Advanced Method",
   "id": "bda77eb1acf7bcbe"
  },
  {
   "metadata": {},
   "cell_type": "code",
   "source": [
    "acf_adv_freq = baseline.acf_adv(average_pixels, video_params.fps, min_freq=0.1, max_freq=0.6)\n",
    "acf_adv_breathing_rate = acf_adv_freq * 60\n",
    "\n",
    "acf_adv_freq, acf_adv_breathing_rate"
   ],
   "id": "a7eda00256f9ff82",
   "outputs": [],
   "execution_count": null
  }
 ],
 "metadata": {
  "kernelspec": {
   "display_name": "Python 3",
   "language": "python",
   "name": "python3"
  },
  "language_info": {
   "codemirror_mode": {
    "name": "ipython",
    "version": 2
   },
   "file_extension": ".py",
   "mimetype": "text/x-python",
   "name": "python",
   "nbconvert_exporter": "python",
   "pygments_lexer": "ipython2",
   "version": "2.7.6"
  }
 },
 "nbformat": 4,
 "nbformat_minor": 5
}
