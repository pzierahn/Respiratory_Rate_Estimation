{
 "cells": [
  {
   "metadata": {},
   "cell_type": "code",
   "source": [
    "import cv2\n",
    "import respiratory_extraction.utils as utils"
   ],
   "id": "602613416f06f162",
   "outputs": [],
   "execution_count": null
  },
  {
   "metadata": {},
   "cell_type": "code",
   "source": [
    "# video_path = '/Volumes/Patrick/Proband06/Logitech HD Pro Webcam C920.avi'\n",
    "video_path = '/Users/patrick/Desktop/Proband06/Logitech HD Pro Webcam C920.avi'\n",
    "frames, video_params = utils.read_video_gray(video_path)"
   ],
   "id": "c2a016b1feb2436c",
   "outputs": [],
   "execution_count": null
  },
  {
   "metadata": {},
   "cell_type": "code",
   "source": "print(video_params)",
   "id": "5bad089ff5f4bedc",
   "outputs": [],
   "execution_count": null
  },
  {
   "metadata": {},
   "cell_type": "code",
   "source": [
    "import matplotlib.pyplot as plt\n",
    "import respiratory_extraction.models.baseline as baseline\n",
    "\n",
    "faces = baseline.face_detection(frames[0])\n",
    "if len(faces) == 0:\n",
    "    raise ValueError('No face detected in the first frame')\n",
    "elif len(faces) > 1:\n",
    "    raise ValueError('Multiple faces detected in the first frame')\n",
    "\n",
    "# First face position and size\n",
    "face1 = faces[0]\n",
    "\n",
    "# Calculate the region of interest (ROI) based on the face\n",
    "roi = baseline.calculate_roi_from_face(face1[0], face1[1], face1[2], face1[3])"
   ],
   "id": "8a0da5653da761ec",
   "outputs": [],
   "execution_count": null
  },
  {
   "metadata": {},
   "cell_type": "code",
   "source": [
    "# Detect the face in the first frame with Viola Jones algorithm\n",
    "frame1 = frames[0].copy()\n",
    "\n",
    "# Draw a rectangle around the face\n",
    "cv2.rectangle(frame1, (face1[0], face1[1]), (face1[0] + face1[2], face1[1] + face1[3]), (255, 0, 0), 2)\n",
    "\n",
    "# Draw a rectangle around the chest region\n",
    "cv2.rectangle(frame1, (roi[0], roi[1]), (roi[0] + roi[2], roi[1] + roi[3]), (255, 0, 0), 2)\n",
    "\n",
    "plt.figure(figsize=(5, 5))\n",
    "plt.imshow(frame1, cmap='gray')\n",
    "plt.title('Face and chest detection')\n",
    "plt.show()"
   ],
   "id": "e9dd3fc49a3e741a",
   "outputs": [],
   "execution_count": null
  },
  {
   "metadata": {},
   "cell_type": "markdown",
   "source": "## Use the average pixel intensity in the chest region to calculate the breathing rate",
   "id": "d8aa5640c525d9f3"
  },
  {
   "metadata": {},
   "cell_type": "code",
   "source": [
    "# Calculate the average pixel intensity in the chest region\n",
    "average_pixels = baseline.average_pixel_intensity(frames, roi)"
   ],
   "id": "5e5dbfa56a4f39e",
   "outputs": [],
   "execution_count": null
  },
  {
   "metadata": {},
   "cell_type": "code",
   "source": [
    "import plotly.express as px\n",
    "\n",
    "# Plot the average pixel intensity in the chest region\n",
    "fig = px.line(x=range(len(average_pixels)), y=average_pixels,\n",
    "              title='Average pixel intensity in the chest region')\n",
    "fig.show()"
   ],
   "id": "e1b4f6d5ebba2db0",
   "outputs": [],
   "execution_count": null
  },
  {
   "metadata": {},
   "cell_type": "code",
   "source": [
    "# Calculate the fast fourier transform of the average pixel intensity\n",
    "pixels_fft, freq = baseline.calculate_fft(average_pixels, video_params.fps, min_freq=0.1, max_freq=0.6)"
   ],
   "id": "2285ee0b3b90a1e4",
   "outputs": [],
   "execution_count": null
  },
  {
   "metadata": {},
   "cell_type": "code",
   "source": [
    "import numpy as np\n",
    "\n",
    "# Plot the filtered frequency spectrum\n",
    "fig = px.line(x=freq, y=np.abs(pixels_fft), title='Filtered Frequency spectrum')\n",
    "fig.show()"
   ],
   "id": "ce90aea6f60da4e3",
   "outputs": [],
   "execution_count": null
  },
  {
   "metadata": {},
   "cell_type": "code",
   "source": [
    "# Find the frequency with the highest amplitude\n",
    "max_freq, breathing_rate = baseline.calculate_respiratory_rate(pixels_fft, freq)\n",
    "max_freq, breathing_rate"
   ],
   "id": "4bb7d6ace798f928",
   "outputs": [],
   "execution_count": null
  },
  {
   "metadata": {},
   "cell_type": "markdown",
   "source": "## Calculate the ",
   "id": "786aa4764cc5ad5d"
  },
  {
   "metadata": {},
   "cell_type": "code",
   "source": [
    "pixel_intensities = []\n",
    "\n",
    "for x in range(roi[0], roi[0] + roi[2]):\n",
    "    for y in range(roi[1], roi[1] + roi[3]):\n",
    "        for t in range(len(frames)):\n",
    "            pixel_intensities.append(frames[t][y, x])\n",
    "\n",
    "pixel_intensities = np.array(pixel_intensities)"
   ],
   "id": "f892271496199921",
   "outputs": [],
   "execution_count": null
  },
  {
   "metadata": {},
   "cell_type": "code",
   "source": [
    "import numpy as np\n",
    "from scipy.fftpack import fft\n",
    "\n",
    "# Breathing rate matrix\n",
    "breathing_rate_matrix = np.zeros((roi[3], roi[2]))\n",
    "\n",
    "# Calculate the fast fourier transform of the thorax abdomen data\n",
    "for i in range(0, len(pixel_intensities), len(frames)):\n",
    "    pixels_fft = fft(pixel_intensities[i:i + len(frames)])\n",
    "\n",
    "    # Calculate the frequency\n",
    "    freq = np.fft.fftfreq(len(pixels_fft), 1 / video_params.fps)\n",
    "\n",
    "    # Remove the negative frequencies\n",
    "    pixels_fft = pixels_fft[freq > 0]\n",
    "    freq = freq[freq > 0]\n",
    "\n",
    "    # Only keep the frequencies between 0.1 and 0.6 Hz\n",
    "    bandpass_filter = (freq >= 0.1) & (freq <= 0.6)\n",
    "\n",
    "    # Remove the negative frequencies\n",
    "    filtered_fft = pixels_fft[bandpass_filter]\n",
    "    filtered_freq = freq[bandpass_filter]\n",
    "\n",
    "    # Find the frequency with the highest amplitude\n",
    "    max_freq = filtered_freq[np.argmax(np.abs(filtered_fft))]\n",
    "\n",
    "    # Calculate the breathing rate in beats per minute\n",
    "    breathing_rate = max_freq * 60\n",
    "\n",
    "    # Store the breathing rate in the breathing rate matrix\n",
    "    x = i // len(frames) % roi[2]\n",
    "    y = i // len(frames) // roi[2]\n",
    "\n",
    "    breathing_rate_matrix[y, x] = max_freq"
   ],
   "id": "cff347fe1bc39b3f",
   "outputs": [],
   "execution_count": null
  },
  {
   "metadata": {},
   "cell_type": "code",
   "source": [
    "# Plot the breathing rate matrix\n",
    "plt.figure(figsize=(10, 10))\n",
    "plt.imshow(breathing_rate_matrix, cmap='hot', interpolation='nearest')\n",
    "plt.colorbar()\n",
    "plt.title('Breathing rate matrix')\n",
    "plt.show()"
   ],
   "id": "292d574275644944",
   "outputs": [],
   "execution_count": null
  },
  {
   "metadata": {},
   "cell_type": "code",
   "source": [
    "# Calculate the average breathing rate\n",
    "average_breathing_rate = np.mean(breathing_rate_matrix)\n",
    "average_breathing_rate, average_breathing_rate * 60"
   ],
   "id": "f10dc25935abed1c",
   "outputs": [],
   "execution_count": null
  }
 ],
 "metadata": {
  "kernelspec": {
   "display_name": "Python 3",
   "language": "python",
   "name": "python3"
  },
  "language_info": {
   "codemirror_mode": {
    "name": "ipython",
    "version": 2
   },
   "file_extension": ".py",
   "mimetype": "text/x-python",
   "name": "python",
   "nbconvert_exporter": "python",
   "pygments_lexer": "ipython2",
   "version": "2.7.6"
  }
 },
 "nbformat": 4,
 "nbformat_minor": 5
}
