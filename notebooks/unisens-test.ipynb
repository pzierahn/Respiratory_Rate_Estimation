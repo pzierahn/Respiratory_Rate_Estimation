{
 "cells": [
  {
   "metadata": {},
   "cell_type": "markdown",
   "source": [
    "# Unisens Data Test\n",
    "\n",
    "This notebok is used to explore the data the unisens data fromat."
   ],
   "id": "8db5a34938678a7c"
  },
  {
   "cell_type": "code",
   "source": [
    "import unisens\n",
    "\n",
    "# folder containing the unisens.xml file\n",
    "data_path = '../data/unisens-test/'\n",
    "data = unisens.Unisens(data_path, readonly=True)"
   ],
   "metadata": {
    "collapsed": false
   },
   "id": "678be87f64dd9725",
   "outputs": [],
   "execution_count": null
  },
  {
   "metadata": {},
   "cell_type": "code",
   "source": [
    "# SPO2      --> oxygen saturation\n",
    "# Pleth     --> plethysmogram\n",
    "# Pulse     --> pulse rate\n",
    "# EKG       --> electrocardiogram\n",
    "# Lux Meter --> light intensity"
   ],
   "id": "91c9c9eb5a4ccc3b",
   "outputs": [],
   "execution_count": null
  },
  {
   "metadata": {},
   "cell_type": "code",
   "source": "print(data.entries)",
   "id": "5f6ecbcf80170c21",
   "outputs": [],
   "execution_count": null
  },
  {
   "cell_type": "code",
   "source": "print(data['8_Thorax_Abdomen'].attrib)",
   "metadata": {
    "collapsed": false
   },
   "id": "2d5fbbf31a11c691",
   "outputs": [],
   "execution_count": null
  },
  {
   "metadata": {},
   "cell_type": "code",
   "source": [
    "# The sample rate of the data in Hz\n",
    "sample_rate = int(data['8_Thorax_Abdomen'].attrib['sampleRate'])"
   ],
   "id": "43a9205c54d66be0",
   "outputs": [],
   "execution_count": null
  },
  {
   "cell_type": "code",
   "source": [
    "# Get information about the data\n",
    "for key in data['8_Thorax_Abdomen.bin']:\n",
    "    print(key)"
   ],
   "metadata": {
    "collapsed": false
   },
   "id": "e6c10bc4905a94de",
   "outputs": [],
   "execution_count": null
  },
  {
   "cell_type": "code",
   "source": [
    "# Get the data from the unisens file\n",
    "thorax_abdomen_data = data['8_Thorax_Abdomen'].get_data()\n",
    "print(type(thorax_abdomen_data))\n",
    "print(thorax_abdomen_data.shape)"
   ],
   "metadata": {
    "collapsed": false
   },
   "id": "44df0f285dfd523a",
   "outputs": [],
   "execution_count": null
  },
  {
   "cell_type": "code",
   "source": [
    "import plotly.express as px\n",
    "\n",
    "# Flatten the data to a 1D array\n",
    "thorax_abdomen_flat = thorax_abdomen_data.flatten()\n",
    "\n",
    "# Normalize the signal between -1 and 1\n",
    "thorax_abdomen_flat = ((thorax_abdomen_flat - thorax_abdomen_flat.min()) /\n",
    "                       (thorax_abdomen_flat.max() - thorax_abdomen_flat.min()) * 2 - 1)\n",
    "\n",
    "# Plot the thorax abdomen data\n",
    "fig = px.line(x=range(len(thorax_abdomen_flat)), y=thorax_abdomen_flat)\n",
    "fig.show()"
   ],
   "metadata": {
    "collapsed": false
   },
   "id": "bef642a9b264c2b3",
   "outputs": [],
   "execution_count": null
  },
  {
   "metadata": {},
   "cell_type": "code",
   "source": [
    "from scipy.signal import find_peaks\n",
    "\n",
    "# Get the peaks in the signal\n",
    "peaks, _ = find_peaks(thorax_abdomen_flat, height=0.5)\n",
    "\n",
    "# Calculate the breathing rate per minute\n",
    "beat_rate = len(peaks) / (len(thorax_abdomen_flat) / sample_rate / 60)\n",
    "beat_rate"
   ],
   "id": "84a317a9f264ef48",
   "outputs": [],
   "execution_count": null
  },
  {
   "metadata": {},
   "cell_type": "code",
   "source": [
    "# Plot the data with the peaks\n",
    "fig = px.line(x=range(len(thorax_abdomen_flat)), y=thorax_abdomen_flat)\n",
    "fig.add_scatter(x=peaks, y=thorax_abdomen_flat[peaks], mode='markers')\n",
    "fig.show()"
   ],
   "id": "6ae6004441208da2",
   "outputs": [],
   "execution_count": null
  },
  {
   "metadata": {},
   "cell_type": "code",
   "source": [
    "# Calculate the fast fourier transform\n",
    "import numpy as np\n",
    "from scipy.fft import fft\n",
    "\n",
    "# Calculate the fast fourier transform of the thorax abdomen data\n",
    "thorax_abdomen_fft = fft(thorax_abdomen_flat)\n",
    "\n",
    "# Calculate the frequency\n",
    "freq = np.fft.fftfreq(len(thorax_abdomen_fft), 1 / sample_rate)\n",
    "\n",
    "# Get the positive frequencies\n",
    "mask = freq > 0\n",
    "freq = freq[mask]\n",
    "\n",
    "# Get the maximum frequency\n",
    "max_freq = freq[np.argmax(np.abs(thorax_abdomen_fft[mask]))]\n",
    "\n",
    "# Calculate the breathing rate from the maximum frequency per minute\n",
    "breathing_rate = max_freq * 60\n",
    "breathing_rate"
   ],
   "id": "14c87ccad4b8cb5e",
   "outputs": [],
   "execution_count": null
  }
 ],
 "metadata": {
  "kernelspec": {
   "display_name": "Python 3",
   "language": "python",
   "name": "python3"
  },
  "language_info": {
   "codemirror_mode": {
    "name": "ipython",
    "version": 2
   },
   "file_extension": ".py",
   "mimetype": "text/x-python",
   "name": "python",
   "nbconvert_exporter": "python",
   "pygments_lexer": "ipython2",
   "version": "2.7.6"
  }
 },
 "nbformat": 4,
 "nbformat_minor": 5
}
