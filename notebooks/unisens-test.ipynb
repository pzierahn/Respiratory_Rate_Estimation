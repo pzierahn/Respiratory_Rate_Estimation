{
 "cells": [
  {
   "cell_type": "code",
   "source": [
    "import unisens\n",
    "\n",
    "# folder containing the unisens.xml file\n",
    "data_path = '../data/unisens-test/'\n",
    "data = unisens.Unisens(data_path, readonly=True)"
   ],
   "metadata": {
    "collapsed": false
   },
   "id": "678be87f64dd9725",
   "outputs": [],
   "execution_count": null
  },
  {
   "cell_type": "code",
   "source": [
    "# SPO2      --> oxygen saturation\n",
    "# Pleth     --> plethysmogram\n",
    "# Pulse     --> pulse rate\n",
    "# EKG       --> electrocardiogram\n",
    "# Lux Meter --> light intensity"
   ],
   "metadata": {
    "collapsed": false
   },
   "id": "91c9c9eb5a4ccc3b",
   "outputs": [],
   "execution_count": null
  },
  {
   "metadata": {},
   "cell_type": "code",
   "source": "print(data.entries)",
   "id": "5f6ecbcf80170c21",
   "outputs": [],
   "execution_count": null
  },
  {
   "cell_type": "code",
   "source": "print(data['8_Thorax_Abdomen'].attrib)",
   "metadata": {
    "collapsed": false
   },
   "id": "2d5fbbf31a11c691",
   "outputs": [],
   "execution_count": null
  },
  {
   "cell_type": "code",
   "source": [
    "for key in data['8_Thorax_Abdomen.bin']:\n",
    "    print(key)"
   ],
   "metadata": {
    "collapsed": false
   },
   "id": "e6c10bc4905a94de",
   "outputs": [],
   "execution_count": null
  },
  {
   "cell_type": "code",
   "source": [
    "thorax_abdomen_data = data['8_Thorax_Abdomen'].get_data()\n",
    "print(type(thorax_abdomen_data))\n",
    "print(thorax_abdomen_data.shape)"
   ],
   "metadata": {
    "collapsed": false
   },
   "id": "44df0f285dfd523a",
   "outputs": [],
   "execution_count": null
  },
  {
   "cell_type": "code",
   "source": [
    "import plotly.express as px\n",
    "\n",
    "thorax_abdomen_flat = thorax_abdomen_data.flatten()\n",
    "fig = px.line(x=range(len(thorax_abdomen_flat)), y=thorax_abdomen_flat)\n",
    "fig.show()"
   ],
   "metadata": {
    "collapsed": false
   },
   "id": "bef642a9b264c2b3",
   "outputs": [],
   "execution_count": null
  }
 ],
 "metadata": {
  "kernelspec": {
   "display_name": "Python 3",
   "language": "python",
   "name": "python3"
  },
  "language_info": {
   "codemirror_mode": {
    "name": "ipython",
    "version": 2
   },
   "file_extension": ".py",
   "mimetype": "text/x-python",
   "name": "python",
   "nbconvert_exporter": "python",
   "pygments_lexer": "ipython2",
   "version": "2.7.6"
  }
 },
 "nbformat": 4,
 "nbformat_minor": 5
}
