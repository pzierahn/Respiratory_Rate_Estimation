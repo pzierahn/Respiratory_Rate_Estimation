{
 "cells": [
  {
   "cell_type": "code",
   "id": "initial_id",
   "metadata": {
    "collapsed": true
   },
   "source": [
    "import os\n",
    "\n",
    "import numpy as np\n",
    "import pandas as pd\n",
    "\n",
    "evaluation_dir = os.path.join(os.getcwd(), '..', 'evaluation', 'signals-2024-04-20')\n",
    "predictions_file = os.path.join(evaluation_dir, 'predictions.csv')\n",
    "\n",
    "predictions = pd.read_csv(predictions_file)\n",
    "predictions['signal'] = predictions['signal'].apply(eval).apply(np.array)\n",
    "predictions['execution_time'] = pd.to_timedelta(predictions['execution_time'])\n",
    "\n",
    "ground_truth_file = os.path.join(evaluation_dir, 'ground_truth.csv')\n",
    "ground_truth = pd.read_csv(ground_truth_file)\n",
    "ground_truth['signal'] = ground_truth['signal'].apply(eval).apply(np.array)\n",
    "\n",
    "predictions.head()"
   ],
   "outputs": [],
   "execution_count": null
  },
  {
   "metadata": {},
   "cell_type": "markdown",
   "source": "## Compare the signal with the ground truth",
   "id": "305cb0983e9b6222"
  },
  {
   "metadata": {},
   "cell_type": "code",
   "source": "from scipy.signal import detrend",
   "id": "a097a4d984dc7476",
   "outputs": [],
   "execution_count": null
  },
  {
   "metadata": {},
   "cell_type": "code",
   "source": [
    "test_subject = 'Proband16'\n",
    "\n",
    "scenario = predictions[\n",
    "    (predictions['subject'] == test_subject) &\n",
    "    (predictions['scenario'] == '101_natural_lighting') &\n",
    "    (predictions['method'] == 'mtts_can') &\n",
    "    (predictions['roi'] == 'full')]\n",
    "    # (predictions['method'] == 'optical_flow') &\n",
    "    # (predictions['roi'] == 'chest')]\n",
    "\n",
    "\n",
    "prediction_signal = scenario.iloc[0]['signal']\n",
    "sampling_rate = scenario.iloc[0]['sampling_rate']"
   ],
   "id": "478c802eecbcf8b3",
   "outputs": [],
   "execution_count": null
  },
  {
   "metadata": {},
   "cell_type": "code",
   "source": [
    "from scipy.signal import resample\n",
    "\n",
    "ground_truth_signal = ground_truth[\n",
    "    (ground_truth['subject'] == test_subject) &\n",
    "    (ground_truth['scenario'] == '101_natural_lighting')\n",
    "    ].iloc[0]\n",
    "\n",
    "# Down sample the signal to predict the frequency\n",
    "ground_truth_signal = resample(ground_truth_signal['signal'], len(prediction_signal))\n",
    "\n",
    "gt_detrend = detrend(ground_truth_signal)"
   ],
   "id": "1071468addf1a76e",
   "outputs": [],
   "execution_count": null
  },
  {
   "metadata": {},
   "cell_type": "code",
   "source": [
    "import matplotlib.pyplot as plt\n",
    "\n",
    "_, axs = plt.subplots(2, 1, figsize=(20, 10))\n",
    "\n",
    "# Plot the ground truth signal and the predicted signal\n",
    "axs[0].set_title('Ground Truth')\n",
    "axs[0].plot(ground_truth_signal, label='Ground Truth')\n",
    "axs[0].grid(True)\n",
    "\n",
    "axs[1].set_title('Ground Truth (Detrend)')\n",
    "axs[1].plot(gt_detrend, label='Ground Truth (Detrend)')\n",
    "axs[1].grid(True)"
   ],
   "id": "de5ac15274208dff",
   "outputs": [],
   "execution_count": null
  },
  {
   "metadata": {},
   "cell_type": "code",
   "source": "prediction_detrend = detrend(prediction_signal)",
   "id": "6f0c4e3cfa15f3d4",
   "outputs": [],
   "execution_count": null
  },
  {
   "metadata": {},
   "cell_type": "code",
   "source": [
    "import matplotlib.pyplot as plt\n",
    "\n",
    "_, axs = plt.subplots(2, 1, figsize=(20, 10))\n",
    "\n",
    "# Plot the ground truth signal and the predicted signal\n",
    "axs[0].set_title('Predection')\n",
    "axs[0].plot(prediction_signal, label='Predection')\n",
    "axs[0].grid(True)\n",
    "\n",
    "axs[1].set_title('Predection (Detrend)')\n",
    "axs[1].plot(prediction_detrend, label='Predection')\n",
    "axs[1].grid(True)"
   ],
   "id": "9321d4f9b1187d39",
   "outputs": [],
   "execution_count": null
  },
  {
   "metadata": {},
   "cell_type": "code",
   "source": [
    "import respiration.preprocessing as sp\n",
    "\n",
    "gt_normalized = sp.normalize_signal(gt_detrend)\n",
    "pd_normalized = sp.normalize_signal(prediction_detrend)"
   ],
   "id": "a1563b79d7bcfeb9",
   "outputs": [],
   "execution_count": null
  },
  {
   "metadata": {},
   "cell_type": "code",
   "source": [
    "import matplotlib.pyplot as plt\n",
    "\n",
    "_, axs = plt.subplots(3, 1, figsize=(20, 10))\n",
    "\n",
    "# Plot the ground truth signal and the predicted signal\n",
    "axs[0].set_title('Ground Truth')\n",
    "axs[0].plot(gt_normalized, label='Ground Truth')\n",
    "axs[0].grid(True)\n",
    "\n",
    "axs[1].set_title('Predicted')\n",
    "axs[1].plot(pd_normalized, label='Predicted')\n",
    "axs[1].grid(True)\n",
    "\n",
    "# Plot the ground truth signal and the predicted signal\n",
    "axs[2].set_title('Diff')\n",
    "axs[2].plot(pd_normalized - gt_normalized, label='Diff')\n",
    "# axs[2].plot(gt_normalized, label='Ground Truth')\n",
    "axs[2].grid(True)"
   ],
   "id": "f3e71210b6c12531",
   "outputs": [],
   "execution_count": null
  },
  {
   "metadata": {},
   "cell_type": "code",
   "source": [
    "gt_filtered = sp.butterworth_filter(gt_normalized, sampling_rate, 0.08, 0.6)\n",
    "pd_filtered = sp.butterworth_filter(pd_normalized, sampling_rate, 0.08, 0.6)\n",
    "\n",
    "gt_filtered = sp.normalize_signal(gt_filtered)\n",
    "pd_filtered = sp.normalize_signal(pd_filtered)"
   ],
   "id": "b1c0c2ba3b2bd5ed",
   "outputs": [],
   "execution_count": null
  },
  {
   "metadata": {},
   "cell_type": "code",
   "source": [
    "import matplotlib.pyplot as plt\n",
    "\n",
    "_, axs = plt.subplots(3, 1, figsize=(20, 10))\n",
    "\n",
    "axs[0].set_title('Ground Truth (filtered)')\n",
    "axs[0].plot(gt_filtered, label='Ground Truth')\n",
    "axs[0].grid(True)\n",
    "\n",
    "axs[1].set_title('Predicted (filtered)')\n",
    "axs[1].plot(pd_filtered, label='Predicted')\n",
    "axs[1].grid(True)\n",
    "\n",
    "# Plot the ground truth signal and the predicted signal\n",
    "axs[2].set_title('Filtered signals')\n",
    "axs[2].plot(pd_filtered, label='Prediction')\n",
    "axs[2].plot(gt_filtered, label='Ground Truth')\n",
    "axs[2].grid(True)\n",
    "axs[2].legend()"
   ],
   "id": "72c2387d6d2a3f1c",
   "outputs": [],
   "execution_count": null
  },
  {
   "metadata": {},
   "cell_type": "code",
   "source": [
    "import respiration.analysis as analysis\n",
    "\n",
    "dist_normalized = analysis.distance_euclidean(pd_normalized, gt_normalized)\n",
    "dist_filtered = analysis.distance_euclidean(pd_filtered, gt_filtered)\n",
    "\n",
    "print(f'dist_normalized: {dist_normalized:.2f}')\n",
    "print(f'dist_filtered:   {dist_filtered:.2f}')"
   ],
   "id": "90adbc80eede829b",
   "outputs": [],
   "execution_count": null
  },
  {
   "metadata": {},
   "cell_type": "code",
   "source": [
    "mse_normalized = analysis.distance_mse(pd_normalized, gt_normalized)\n",
    "mse_filtered = analysis.distance_mse(pd_filtered, gt_filtered)\n",
    "\n",
    "print(f'mse_normalized: {mse_normalized:.2f}')\n",
    "print(f'mse_filtered:   {mse_filtered:.2f}')"
   ],
   "id": "bad0f5c07b17ed62",
   "outputs": [],
   "execution_count": null
  },
  {
   "metadata": {},
   "cell_type": "code",
   "source": [
    "normalized_correlation = analysis.pearson_correlation(pd_normalized, gt_normalized)\n",
    "filtered_correlation = analysis.pearson_correlation(pd_filtered, gt_filtered)\n",
    "\n",
    "print(f'Normalized: {normalized_correlation:.2f}')\n",
    "print(f'Filtered:   {filtered_correlation:.2f}')"
   ],
   "id": "78055cd22a160280",
   "outputs": [],
   "execution_count": null
  }
 ],
 "metadata": {
  "kernelspec": {
   "display_name": "Python 3",
   "language": "python",
   "name": "python3"
  },
  "language_info": {
   "codemirror_mode": {
    "name": "ipython",
    "version": 2
   },
   "file_extension": ".py",
   "mimetype": "text/x-python",
   "name": "python",
   "nbconvert_exporter": "python",
   "pygments_lexer": "ipython2",
   "version": "2.7.6"
  }
 },
 "nbformat": 4,
 "nbformat_minor": 5
}
