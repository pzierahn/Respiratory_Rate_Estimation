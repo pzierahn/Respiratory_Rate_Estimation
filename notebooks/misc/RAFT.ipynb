{
 "cells": [
  {
   "metadata": {},
   "cell_type": "markdown",
   "source": [
    "# Data Exploration\n",
    "\n",
    "This notebook demonstrates how to read a video file, extract frames, and display them using OpenCV and Matplotlib. It also shows how to detect faces in a frame using the Viola-Jones algorithm."
   ],
   "id": "349ba13172cd3774"
  },
  {
   "cell_type": "code",
   "source": [
    "import cv2\n",
    "\n",
    "input_video_path = '/Volumes/Patrick/Datasets/VitalCamSet/Proband16/101_natural_lighting/Logitech HD Pro Webcam C920.avi'\n",
    "video = cv2.VideoCapture(input_video_path)"
   ],
   "metadata": {
    "collapsed": false,
    "is_executing": true
   },
   "id": "4a4d6ee80f41e1d1",
   "outputs": [],
   "execution_count": null
  },
  {
   "metadata": {},
   "cell_type": "markdown",
   "source": "## Video properties",
   "id": "77f07b6f92634c0"
  },
  {
   "metadata": {},
   "cell_type": "code",
   "source": [
    "# Get the video properties\n",
    "fps = video.get(cv2.CAP_PROP_FPS)\n",
    "frame_count = int(video.get(cv2.CAP_PROP_FRAME_COUNT))\n",
    "frame_width = int(video.get(cv2.CAP_PROP_FRAME_WIDTH))\n",
    "frame_height = int(video.get(cv2.CAP_PROP_FRAME_HEIGHT))\n",
    "duration = frame_count / fps\n",
    "\n",
    "print(f'FPS: {fps}')\n",
    "print(f'Frame count: {frame_count}')\n",
    "print(f'Frame: {frame_width}x{frame_height}')\n",
    "print(f'Duration: {duration:.2f} seconds')"
   ],
   "id": "d7894034d041f859",
   "outputs": [],
   "execution_count": null
  },
  {
   "metadata": {},
   "cell_type": "markdown",
   "source": "## Display random frames",
   "id": "e31a2710464b2da4"
  },
  {
   "metadata": {},
   "cell_type": "code",
   "source": [
    "import random\n",
    "\n",
    "# Seed the random number generator for reproducibility\n",
    "random.seed(42)\n",
    "\n",
    "frame_inx1 = 20\n",
    "frame_inx2 = 21\n",
    "# frame_inx1 = random.randint(0, frame_count)\n",
    "# frame_inx2 = random.randint(0, frame_count)\n",
    "\n",
    "video.set(cv2.CAP_PROP_POS_FRAMES, frame_inx1)\n",
    "_, frame1 = video.read()\n",
    "\n",
    "video.set(cv2.CAP_PROP_POS_FRAMES, frame_inx2)\n",
    "_, frame2 = video.read()"
   ],
   "id": "5dfbe5b61af18c57",
   "outputs": [],
   "execution_count": null
  },
  {
   "metadata": {},
   "cell_type": "code",
   "source": [
    "import matplotlib.pyplot as plt\n",
    "\n",
    "fig, axes = plt.subplots(1, 2, figsize=(10, 5))\n",
    "\n",
    "frame1 = cv2.cvtColor(frame1, cv2.COLOR_BGR2RGB)\n",
    "axes[0].imshow(frame1)\n",
    "axes[0].set_title(f'Frame {frame_inx1}')\n",
    "\n",
    "frame2 = cv2.cvtColor(frame2, cv2.COLOR_BGR2RGB)\n",
    "axes[1].imshow(frame2)\n",
    "axes[1].set_title(f'Frame {frame_inx2}')"
   ],
   "id": "8e3e0b0729265182",
   "outputs": [],
   "execution_count": null
  },
  {
   "metadata": {},
   "cell_type": "markdown",
   "source": "## Optical flow",
   "id": "2eaee4e45b81985b"
  },
  {
   "metadata": {},
   "cell_type": "code",
   "source": [
    "import respiration.utils as utils\n",
    "\n",
    "device = utils.get_torch_device();"
   ],
   "id": "37b88245118244c9",
   "outputs": [],
   "execution_count": null
  },
  {
   "metadata": {},
   "cell_type": "code",
   "source": "model_path = '../../data/RAFT/raft-things.pth'",
   "id": "fb4abfa7311f7100",
   "outputs": [],
   "execution_count": null
  },
  {
   "metadata": {},
   "cell_type": "code",
   "source": [
    "import argparse\n",
    "\n",
    "parser = argparse.ArgumentParser()\n",
    "parser.add_argument('--model', help=\"restore checkpoint\")\n",
    "parser.add_argument('--path', help=\"dataset for evaluation\")\n",
    "parser.add_argument('--small', action='store_true', help='use small model')\n",
    "parser.add_argument('--mixed_precision', action='store_true', help='use mixed precision')\n",
    "parser.add_argument('--alternate_corr', action='store_true', help='use efficent correlation implementation')\n",
    "\n",
    "args = parser.parse_args([])"
   ],
   "id": "d34a1466d442f4ed",
   "outputs": [],
   "execution_count": null
  },
  {
   "metadata": {},
   "cell_type": "code",
   "source": [
    "import torch\n",
    "import raft\n",
    "\n",
    "model = torch.nn.DataParallel(raft.RAFT(args))\n",
    "model.load_state_dict(torch.load(model_path, map_location=device))\n",
    "\n",
    "model = model.module\n",
    "model.to(device)\n",
    "model.eval()\n",
    "\n",
    "with torch.no_grad():\n",
    "    image1 = torch.tensor(frame1, device=device, dtype=torch.float32).permute(2, 0, 1).unsqueeze(0)\n",
    "    image2 = torch.tensor(frame2, device=device, dtype=torch.float32).permute(2, 0, 1).unsqueeze(0)\n",
    "\n",
    "    flow_low, flow_up = model(image1, image2, iters=20, test_mode=True)"
   ],
   "id": "7e31007f174f9aa6",
   "outputs": [],
   "execution_count": null
  },
  {
   "metadata": {},
   "cell_type": "code",
   "source": "flow_low.shape, flow_up.shape",
   "id": "72762fd6692ee877",
   "outputs": [],
   "execution_count": null
  },
  {
   "metadata": {},
   "cell_type": "code",
   "source": [
    "import matplotlib.pyplot as plt\n",
    "import raft.utils as raft_utils\n",
    "\n",
    "# Display flow_low, flow_up\n",
    "_, axes = plt.subplots(1, 2, figsize=(20, 8))\n",
    "\n",
    "axes[0].imshow(raft_utils.flow_to_image(flow_low[0].permute(1, 2, 0).cpu().numpy()))\n",
    "axes[0].set_title('Flow low')\n",
    "\n",
    "axes[1].imshow(raft_utils.flow_to_image(flow_up[0].permute(1, 2, 0).cpu().numpy()))\n",
    "axes[1].set_title('Flow up')"
   ],
   "id": "f5b982936cabc8d7",
   "outputs": [],
   "execution_count": null
  },
  {
   "metadata": {},
   "cell_type": "markdown",
   "source": "## Create a motion video",
   "id": "3a2b2ee78ff3d7f2"
  },
  {
   "metadata": {},
   "cell_type": "code",
   "source": [
    "import respiration.dataset as dt\n",
    "\n",
    "dataset = dt.from_default()\n",
    "\n",
    "subject = 'Proband16'\n",
    "setting = '101_natural_lighting'\n",
    "\n",
    "frames, _ = dataset.get_video_rgb(subject, setting, num_frames=1000, show_progress=True)"
   ],
   "id": "aaaa2aaad1e3a93d",
   "outputs": [],
   "execution_count": null
  },
  {
   "metadata": {},
   "cell_type": "code",
   "source": [
    "import tqdm.auto as tqdm\n",
    "\n",
    "of_frames = []\n",
    "\n",
    "for idx in tqdm.tqdm(range(1, len(frames))):\n",
    "    frame1 = frames[idx - 1]\n",
    "    frame2 = frames[idx]\n",
    "\n",
    "    with torch.no_grad():\n",
    "        image1 = torch.tensor(frame1, device=device, dtype=torch.float32).permute(2, 0, 1).unsqueeze(0)\n",
    "        image2 = torch.tensor(frame2, device=device, dtype=torch.float32).permute(2, 0, 1).unsqueeze(0)\n",
    "\n",
    "        flow_low, flow_up = model(image1, image2, iters=20, test_mode=True)\n",
    "\n",
    "    flow_up = flow_up[0].permute(1, 2, 0).cpu().numpy()\n",
    "    flow_up = cv2.resize(flow_up, (frame1.shape[1], frame1.shape[0]))\n",
    "\n",
    "    of_frames.append(raft.flow_to_image(flow_up))"
   ],
   "id": "dc70fddaf89d318f",
   "outputs": [],
   "execution_count": null
  },
  {
   "metadata": {},
   "cell_type": "code",
   "source": [
    "import cv2\n",
    "import numpy as np\n",
    "\n",
    "# Write the video to a file in avi format\n",
    "out = cv2.VideoWriter('motion.avi', cv2.VideoWriter_fourcc(*'DIVX'), 30, (frame1.shape[1], frame1.shape[0]))\n",
    "\n",
    "for frame in of_frames:\n",
    "    out.write((frame * 255).astype(np.uint8))\n",
    "\n",
    "out.release()"
   ],
   "id": "b16103b410f09a78",
   "outputs": [],
   "execution_count": null
  }
 ],
 "metadata": {
  "kernelspec": {
   "display_name": "Python 3",
   "language": "python",
   "name": "python3"
  },
  "language_info": {
   "codemirror_mode": {
    "name": "ipython",
    "version": 2
   },
   "file_extension": ".py",
   "mimetype": "text/x-python",
   "name": "python",
   "nbconvert_exporter": "python",
   "pygments_lexer": "ipython2",
   "version": "2.7.6"
  }
 },
 "nbformat": 4,
 "nbformat_minor": 5
}
