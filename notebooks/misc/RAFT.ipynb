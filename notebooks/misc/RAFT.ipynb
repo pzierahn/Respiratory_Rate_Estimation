{
 "cells": [
  {
   "metadata": {},
   "cell_type": "markdown",
   "source": [
    "# Data Exploration\n",
    "\n",
    "This notebook demonstrates how to read a video file, extract frames, and display them using OpenCV and Matplotlib. It also shows how to detect faces in a frame using the Viola-Jones algorithm."
   ],
   "id": "349ba13172cd3774"
  },
  {
   "cell_type": "code",
   "source": [
    "import cv2\n",
    "\n",
    "input_video_path = '/Volumes/Patrick/Datasets/VitalCamSet/Proband16/101_natural_lighting/Logitech HD Pro Webcam C920.avi'\n",
    "video = cv2.VideoCapture(input_video_path)"
   ],
   "metadata": {
    "collapsed": false,
    "is_executing": true
   },
   "id": "4a4d6ee80f41e1d1",
   "outputs": [],
   "execution_count": null
  },
  {
   "metadata": {},
   "cell_type": "markdown",
   "source": "## Video properties",
   "id": "77f07b6f92634c0"
  },
  {
   "metadata": {},
   "cell_type": "code",
   "source": [
    "# Get the video properties\n",
    "fps = video.get(cv2.CAP_PROP_FPS)\n",
    "frame_count = int(video.get(cv2.CAP_PROP_FRAME_COUNT))\n",
    "frame_width = int(video.get(cv2.CAP_PROP_FRAME_WIDTH))\n",
    "frame_height = int(video.get(cv2.CAP_PROP_FRAME_HEIGHT))\n",
    "duration = frame_count / fps\n",
    "\n",
    "print(f'FPS: {fps}')\n",
    "print(f'Frame count: {frame_count}')\n",
    "print(f'Frame: {frame_width}x{frame_height}')\n",
    "print(f'Duration: {duration:.2f} seconds')"
   ],
   "id": "d7894034d041f859",
   "outputs": [],
   "execution_count": null
  },
  {
   "metadata": {},
   "cell_type": "markdown",
   "source": "## Display random frames",
   "id": "e31a2710464b2da4"
  },
  {
   "metadata": {},
   "cell_type": "code",
   "source": [
    "import random\n",
    "\n",
    "# Seed the random number generator for reproducibility\n",
    "random.seed(42)\n",
    "\n",
    "frame_inx1 = 405\n",
    "frame_inx2 = 415\n",
    "\n",
    "video.set(cv2.CAP_PROP_POS_FRAMES, frame_inx1)\n",
    "_, frame1 = video.read()\n",
    "\n",
    "video.set(cv2.CAP_PROP_POS_FRAMES, frame_inx2)\n",
    "_, frame2 = video.read()"
   ],
   "id": "5dfbe5b61af18c57",
   "outputs": [],
   "execution_count": null
  },
  {
   "metadata": {},
   "cell_type": "code",
   "source": [
    "import matplotlib.pyplot as plt\n",
    "\n",
    "fig, axes = plt.subplots(1, 2, figsize=(10, 5))\n",
    "\n",
    "frame1 = cv2.cvtColor(frame1, cv2.COLOR_BGR2RGB)\n",
    "axes[0].imshow(frame1)\n",
    "axes[0].set_title(f'Frame {frame_inx1}')\n",
    "\n",
    "frame2 = cv2.cvtColor(frame2, cv2.COLOR_BGR2RGB)\n",
    "axes[1].imshow(frame2)\n",
    "axes[1].set_title(f'Frame {frame_inx2}')"
   ],
   "id": "8e3e0b0729265182",
   "outputs": [],
   "execution_count": null
  },
  {
   "metadata": {},
   "cell_type": "markdown",
   "source": "## Optical flow",
   "id": "2eaee4e45b81985b"
  },
  {
   "metadata": {},
   "cell_type": "code",
   "source": [
    "import respiration.utils as utils\n",
    "\n",
    "device = utils.get_torch_device();"
   ],
   "id": "37b88245118244c9",
   "outputs": [],
   "execution_count": null
  },
  {
   "metadata": {},
   "cell_type": "code",
   "source": [
    "import respiration.dataset as dt\n",
    "\n",
    "dataset = dt.from_default()"
   ],
   "id": "eaa5871841317629",
   "outputs": [],
   "execution_count": null
  },
  {
   "metadata": {},
   "cell_type": "code",
   "source": [
    "import torch\n",
    "\n",
    "frame1_ts = torch.tensor(frame1, device=device, dtype=torch.float32).permute(2, 0, 1)  # (H, W, C) -> (C, H, W)\n",
    "frame2_ts = torch.tensor(frame2, device=device, dtype=torch.float32).permute(2, 0, 1)  # (H, W, C) -> (C, H, W)"
   ],
   "id": "5f8bd852acfd7898",
   "outputs": [],
   "execution_count": null
  },
  {
   "metadata": {},
   "cell_type": "code",
   "source": [
    "import torchvision.transforms as transform\n",
    "\n",
    "\n",
    "def preprocess(batch):\n",
    "    transforms = transform.Compose(\n",
    "        [\n",
    "            transform.ConvertImageDtype(torch.float32),\n",
    "            transform.Normalize(mean=0.5, std=0.5),  # map [0, 1] into [-1, 1]\n",
    "        ]\n",
    "    )\n",
    "    return transforms(batch).to(device)\n",
    "\n",
    "\n",
    "frame1_ts = preprocess(frame1_ts)\n",
    "frame2_ts = preprocess(frame2_ts)"
   ],
   "id": "c09d3d3819044bcc",
   "outputs": [],
   "execution_count": null
  },
  {
   "metadata": {},
   "cell_type": "code",
   "source": [
    "# Display the normalized frames\n",
    "_, axes = plt.subplots(1, 2, figsize=(20, 5))\n",
    "\n",
    "img_1 = frame1_ts.permute(1, 2, 0).cpu().detach().numpy()\n",
    "img_1 = (img_1 - img_1.min()) / (img_1.max() - img_1.min())\n",
    "axes[0].imshow(img_1)\n",
    "axes[0].set_title('Frame 1')\n",
    "\n",
    "img_2 = frame2_ts.permute(1, 2, 0).cpu().detach().numpy()\n",
    "img_2 = (img_2 - img_2.min()) / (img_2.max() - img_2.min())\n",
    "axes[1].imshow(img_2)\n",
    "axes[1].set_title('Frame 2')"
   ],
   "id": "f6d720c705cb2dc6",
   "outputs": [],
   "execution_count": null
  },
  {
   "metadata": {},
   "cell_type": "code",
   "source": [
    "from torchvision.models.optical_flow import (\n",
    "    raft_large,\n",
    "    raft_small,\n",
    "    Raft_Large_Weights,\n",
    "    Raft_Small_Weights\n",
    ")\n",
    "\n",
    "# model = raft_small(\n",
    "#     Raft_Small_Weights.C_T_V2,\n",
    "# ).to(device)\n",
    "model = raft_large(\n",
    "    Raft_Large_Weights.C_T_V2,          # Best\n",
    "    # Raft_Large_Weights.C_T_SKHT_V2,   # Medium\n",
    "    # Raft_Large_Weights.C_T_SKHT_K_V2, # Bad\n",
    ").to(device)\n",
    "model = model.eval()\n",
    "\n",
    "image1 = frame1_ts.unsqueeze(0)\n",
    "image2 = frame2_ts.unsqueeze(0)\n",
    "\n",
    "list_of_flows = model(image1, image2)\n",
    "print(f\"type = {type(list_of_flows)}\")\n",
    "print(f\"length = {len(list_of_flows)} = number of iterations of the model\")"
   ],
   "id": "907edc2d53b39c1f",
   "outputs": [],
   "execution_count": null
  },
  {
   "metadata": {},
   "cell_type": "code",
   "source": [
    "predicted_flows = list_of_flows[-1]\n",
    "print(f\"dtype = {predicted_flows.dtype}\")\n",
    "print(f\"shape = {predicted_flows.shape} = (N, 2, H, W)\")\n",
    "print(f\"min = {predicted_flows.min()}, max = {predicted_flows.max()}\")"
   ],
   "id": "efe4d3de480b00e6",
   "outputs": [],
   "execution_count": null
  },
  {
   "metadata": {},
   "cell_type": "code",
   "source": [
    "# Get a random flow vector\n",
    "predicted_flows[0, :, 400, 300]"
   ],
   "id": "f5f7e64b80aa6f6e",
   "outputs": [],
   "execution_count": null
  },
  {
   "metadata": {},
   "cell_type": "code",
   "source": [
    "from torchvision.utils import flow_to_image, make_grid\n",
    "\n",
    "flow_imgs = flow_to_image(predicted_flows.to(\"cpu\"))\n",
    "\n",
    "plt.imshow(make_grid(flow_imgs, nrow=2).permute(1, 2, 0))\n",
    "plt.show()"
   ],
   "id": "9247d5ce9e5a3bed",
   "outputs": [],
   "execution_count": null
  },
  {
   "metadata": {},
   "cell_type": "code",
   "source": [
    "import numpy as np\n",
    "\n",
    "\n",
    "def draw_flow(img, flow, step=40):\n",
    "    \"\"\"\n",
    "    Plots the optical flow vectors on the image.\n",
    "    Args:\n",
    "    - img: The original image.\n",
    "    - flow: The optical flow vectors (HxWx2).\n",
    "    - step: Space between vectors to be drawn.\n",
    "    \"\"\"\n",
    "\n",
    "    h, w = img.shape[:2]\n",
    "    y, x = np.mgrid[step // 2:h:step, step // 2:w:step].reshape(2, -1).astype(int)\n",
    "    fx, fy = flow[y, x].T\n",
    "\n",
    "    # Create an image to draw on\n",
    "    vis = cv2.cvtColor(img, cv2.COLOR_GRAY2BGR)\n",
    "\n",
    "    # Draw arrows\n",
    "    for (x0, y0, dx, dy) in zip(x, y, fx, fy):\n",
    "        # Length of the arrow is sqrt(dx^2 + dy^2)\n",
    "        # length = np.sqrt(dx ** 2 + dy ** 2)\n",
    "        # if length > 20:\n",
    "        #     continue\n",
    "\n",
    "        end_point = (int(x0 + dx), int(y0 + dy))\n",
    "        cv2.arrowedLine(\n",
    "            vis,\n",
    "            (x0, y0),\n",
    "            end_point,\n",
    "            color=(255, 0, 0),\n",
    "            thickness=1,\n",
    "            tipLength=0.25,\n",
    "        )\n",
    "\n",
    "    return vis\n",
    "\n",
    "\n",
    "def draw_flow_max(img, flow):\n",
    "    \"\"\"\n",
    "    Plots the optical flow vectors on the image.\n",
    "    Args:\n",
    "    - img: The original image.\n",
    "    - flow: The optical flow vectors (HxWx2).\n",
    "    \"\"\"\n",
    "\n",
    "    h, w = img.shape[:2]\n",
    "    fx, fy = flow[:, :, 0], flow[:, :, 1]\n",
    "\n",
    "    # Create an image to draw on\n",
    "    vis = cv2.cvtColor(img, cv2.COLOR_GRAY2BGR)\n",
    "\n",
    "    # Draw arrows\n",
    "    for y in range(h):\n",
    "        for x in range(w):\n",
    "            dx, dy = fx[y, x], fy[y, x]\n",
    "            end_point = (int(x + dx), int(y + dy))\n",
    "\n",
    "            # Length of the arrow is sqrt(dx^2 + dy^2)\n",
    "            length = np.sqrt(dx ** 2 + dy ** 2)\n",
    "            if length > 20:\n",
    "                continue\n",
    "\n",
    "            cv2.arrowedLine(\n",
    "                vis,\n",
    "                (x, y),\n",
    "                end_point,\n",
    "                color=(255, 0, 0),\n",
    "                thickness=1,\n",
    "                tipLength=0.25,\n",
    "            )\n",
    "\n",
    "    return vis"
   ],
   "id": "5a3869357591cad5",
   "outputs": [],
   "execution_count": null
  },
  {
   "metadata": {},
   "cell_type": "code",
   "source": [
    "# Convert the frame to grayscale\n",
    "frame1_gray = cv2.cvtColor(frame1, cv2.COLOR_RGB2GRAY)\n",
    "\n",
    "# Draw the optical flow vectors on the frame\n",
    "flow_img = draw_flow(frame1_gray, predicted_flows[-1].permute(1, 2, 0).cpu().detach().numpy())\n",
    "\n",
    "# Display the frame with the optical flow vectors\n",
    "plt.figure(figsize=(20, 6))\n",
    "plt.imshow(flow_img)\n",
    "plt.show()"
   ],
   "id": "8d184b3ee4e12e73",
   "outputs": [],
   "execution_count": null
  }
 ],
 "metadata": {
  "kernelspec": {
   "display_name": "Python 3",
   "language": "python",
   "name": "python3"
  },
  "language_info": {
   "codemirror_mode": {
    "name": "ipython",
    "version": 2
   },
   "file_extension": ".py",
   "mimetype": "text/x-python",
   "name": "python",
   "nbconvert_exporter": "python",
   "pygments_lexer": "ipython2",
   "version": "2.7.6"
  }
 },
 "nbformat": 4,
 "nbformat_minor": 5
}
