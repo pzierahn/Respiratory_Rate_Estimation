{
 "cells": [
  {
   "metadata": {},
   "cell_type": "markdown",
   "source": [
    "# Export respiration ground truth\n",
    "\n",
    "This notebook exports the respiration ground truth to a csv file"
   ],
   "id": "cb6b6d8b49c749c5"
  },
  {
   "cell_type": "code",
   "id": "initial_id",
   "metadata": {
    "collapsed": true,
    "ExecuteTime": {
     "end_time": "2024-05-08T16:19:54.002740Z",
     "start_time": "2024-05-08T16:19:47.834973Z"
    }
   },
   "source": [
    "from respiration.dataset import VitalCamSet\n",
    "\n",
    "dataset = VitalCamSet()\n",
    "\n",
    "signals = []\n",
    "\n",
    "for (subject, setting) in dataset.get_scenarios(['101_natural_lighting']):\n",
    "    signal = dataset.get_breathing_signal(subject, setting)\n",
    "    signals.append({\n",
    "        'subject': subject,\n",
    "        'setting': setting,\n",
    "        'signal': signal.tolist(),\n",
    "    })"
   ],
   "outputs": [],
   "execution_count": 1
  },
  {
   "metadata": {
    "ExecuteTime": {
     "end_time": "2024-05-08T16:19:54.147160Z",
     "start_time": "2024-05-08T16:19:54.003850Z"
    }
   },
   "cell_type": "code",
   "source": [
    "import os\n",
    "import pandas as pd\n",
    "\n",
    "evaluation_dir = os.path.join('..', '..', 'evaluation')\n",
    "os.makedirs(evaluation_dir, exist_ok=True)\n",
    "\n",
    "filename = os.path.join(evaluation_dir, 'respiration_gt.csv')\n",
    "\n",
    "df = pd.DataFrame(signals)\n",
    "df.to_csv(filename, index=False)"
   ],
   "id": "106369dface5e639",
   "outputs": [],
   "execution_count": 2
  }
 ],
 "metadata": {
  "kernelspec": {
   "display_name": "Python 3",
   "language": "python",
   "name": "python3"
  },
  "language_info": {
   "codemirror_mode": {
    "name": "ipython",
    "version": 2
   },
   "file_extension": ".py",
   "mimetype": "text/x-python",
   "name": "python",
   "nbconvert_exporter": "python",
   "pygments_lexer": "ipython2",
   "version": "2.7.6"
  }
 },
 "nbformat": 4,
 "nbformat_minor": 5
}
