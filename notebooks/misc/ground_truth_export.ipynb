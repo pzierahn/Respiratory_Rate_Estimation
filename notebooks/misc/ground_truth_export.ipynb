{
 "cells": [
  {
   "metadata": {},
   "cell_type": "markdown",
   "source": [
    "# Export ground truth\n",
    "\n",
    "This notebook exports the ground truth signals from the dataset as a JSON and CSV file. The ground truth signals are used to evaluate the performance of the respiration rate estimation algorithms."
   ],
   "id": "34ce06084c32620b"
  },
  {
   "cell_type": "code",
   "execution_count": null,
   "id": "initial_id",
   "metadata": {
    "collapsed": true
   },
   "outputs": [],
   "source": [
    "import os\n",
    "import respiration.dataset as repository\n",
    "\n",
    "dataset = repository.from_default()\n",
    "scenarios = dataset.get_scenarios(['101_natural_lighting'])\n",
    "scenarios"
   ]
  },
  {
   "metadata": {},
   "cell_type": "code",
   "outputs": [],
   "execution_count": null,
   "source": "evaluation_dir = os.path.join(os.getcwd(), '..', '..', 'evaluation')",
   "id": "710d037e7d543e76"
  },
  {
   "metadata": {},
   "cell_type": "code",
   "outputs": [],
   "execution_count": null,
   "source": [
    "import pandas as pd\n",
    "import respiration.utils as utils\n",
    "\n",
    "ground_truth_signals = []\n",
    "\n",
    "for (subject, setting) in scenarios:\n",
    "    gt_signal, gt_sampling_rate = dataset.get_ground_truth_rr_signal(subject, setting)\n",
    "    ground_truth_signals.append({\n",
    "        'subject': subject,\n",
    "        'setting': setting,\n",
    "        'signal': gt_signal.tolist(),\n",
    "        'sampling_rate': gt_sampling_rate,\n",
    "    })\n",
    "\n",
    "# Save the ground truth signals as a JSON\n",
    "json_path = os.path.join(evaluation_dir, 'ground_truth.json')\n",
    "utils.write_json(json_path, ground_truth_signals)\n",
    "\n",
    "# Save the ground truth signals as a CSV\n",
    "df_gt = pd.DataFrame(ground_truth_signals)\n",
    "csv_path = os.path.join(evaluation_dir, 'ground_truth.csv')\n",
    "df_gt.to_csv(csv_path, index=False)"
   ],
   "id": "45b6e487c01a69e0"
  }
 ],
 "metadata": {
  "kernelspec": {
   "display_name": "Python 3",
   "language": "python",
   "name": "python3"
  },
  "language_info": {
   "codemirror_mode": {
    "name": "ipython",
    "version": 2
   },
   "file_extension": ".py",
   "mimetype": "text/x-python",
   "name": "python",
   "nbconvert_exporter": "python",
   "pygments_lexer": "ipython2",
   "version": "2.7.6"
  }
 },
 "nbformat": 4,
 "nbformat_minor": 5
}
