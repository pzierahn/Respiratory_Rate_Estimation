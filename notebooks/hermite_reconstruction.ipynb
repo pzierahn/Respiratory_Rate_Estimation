{
 "cells": [
  {
   "metadata": {},
   "cell_type": "code",
   "source": [
    "import numpy as np\n",
    "import cv2\n",
    "from tqdm.auto import tqdm"
   ],
   "id": "602613416f06f162",
   "outputs": [],
   "execution_count": null
  },
  {
   "metadata": {},
   "cell_type": "code",
   "source": [
    "def read_video(video_path: str) -> np.array:\n",
    "    cap = cv2.VideoCapture(video_path)\n",
    "    frame_count = int(cap.get(cv2.CAP_PROP_FRAME_COUNT))\n",
    "\n",
    "    frames = []\n",
    "    for _ in tqdm(range(frame_count), desc='Reading video'):\n",
    "        ret, frame = cap.read()\n",
    "        if not ret:\n",
    "            break\n",
    "\n",
    "        # converting to grayscale for simplicity\n",
    "        frames.append(cv2.cvtColor(frame, cv2.COLOR_BGR2GRAY))\n",
    "\n",
    "    cap.release()\n",
    "    frames = np.array(frames)\n",
    "\n",
    "    return frames"
   ],
   "id": "6e3182663a8f685f",
   "outputs": [],
   "execution_count": null
  },
  {
   "metadata": {},
   "cell_type": "code",
   "source": [
    "def build_laplacian_pyramid(frame, levels=3):\n",
    "    pyramid = []\n",
    "    current_frame = frame\n",
    "    for _ in range(levels - 1):\n",
    "        down = cv2.pyrDown(current_frame)\n",
    "        up = cv2.pyrUp(down, dstsize=(current_frame.shape[1], current_frame.shape[0]))\n",
    "        laplacian = cv2.subtract(current_frame, up)\n",
    "        pyramid.append(laplacian)\n",
    "        current_frame = down\n",
    "    pyramid.append(current_frame)\n",
    "    return pyramid"
   ],
   "id": "c10bba74ad4ecfc2",
   "outputs": [],
   "execution_count": null
  },
  {
   "metadata": {},
   "cell_type": "code",
   "source": [
    "def temporal_filter(frames: np.array, band_pass_low, band_pass_high, fps):\n",
    "    fft = np.fft.fft(frames, axis=0)\n",
    "    frequencies = np.fft.fftfreq(frames.shape[0], d=1 / fps)\n",
    "    mask = np.logical_and(frequencies >= band_pass_low, frequencies <= band_pass_high)\n",
    "    fft[~mask] = 0\n",
    "    filtered = np.real(np.fft.ifft(fft, axis=0))\n",
    "    return filtered"
   ],
   "id": "59cd5a7435335029",
   "outputs": [],
   "execution_count": null
  },
  {
   "metadata": {},
   "cell_type": "code",
   "source": [
    "def amplify_motion(pyramid, alpha):\n",
    "    for level in range(len(pyramid)):\n",
    "        # pyramid[level] *= alpha\n",
    "        pyramid[level] = cv2.convertScaleAbs(pyramid[level] * alpha, alpha=1 / 255.0)\n",
    "    return pyramid"
   ],
   "id": "53e8db7d2a272a72",
   "outputs": [],
   "execution_count": null
  },
  {
   "metadata": {},
   "cell_type": "code",
   "source": [
    "def reconstruct_from_laplacian(pyramid):\n",
    "    frame = pyramid[-1]\n",
    "    levels = len(pyramid)\n",
    "    for level in range(levels - 1, 0, -1):\n",
    "        frame = cv2.pyrUp(frame, dstsize=(pyramid[level - 1].shape[1], pyramid[level - 1].shape[0]))\n",
    "        frame = cv2.add(frame, pyramid[level - 1])\n",
    "    return frame"
   ],
   "id": "2d5957d961506ed5",
   "outputs": [],
   "execution_count": null
  },
  {
   "metadata": {},
   "cell_type": "code",
   "source": [
    "def eulerian_magnification(frames: np.array, alpha, freq_low, freq_high, fps):\n",
    "    magnified_frames = []\n",
    "\n",
    "    # Display progress while processing with tqdm\n",
    "    for frame in tqdm(frames, desc='Processing frames'):\n",
    "        pyramid = build_laplacian_pyramid(frame)\n",
    "        filtered = [temporal_filter(layer, freq_low, freq_high, fps) for layer in pyramid]\n",
    "        amplified = amplify_motion(filtered, alpha)\n",
    "        reconstructed_frame = reconstruct_from_laplacian(amplified)\n",
    "        magnified_frames.append(reconstructed_frame)\n",
    "    return magnified_frames"
   ],
   "id": "e0204d34f7340711",
   "outputs": [],
   "execution_count": null
  },
  {
   "metadata": {},
   "cell_type": "code",
   "source": [
    "video_path = '/Volumes/Patrick/Proband06/Logitech HD Pro Webcam C920.avi'\n",
    "frames = read_video(video_path)\n",
    "magnified_frames = eulerian_magnification(frames, 10, 0.4, 3, 30)"
   ],
   "id": "c2a016b1feb2436c",
   "outputs": [],
   "execution_count": null
  },
  {
   "metadata": {},
   "cell_type": "code",
   "source": [
    "# Display one of the magnified frames with mathplotlib\n",
    "import matplotlib.pyplot as plt\n",
    "\n",
    "plt.imshow(magnified_frames[0], cmap='gray')\n",
    "plt.show()"
   ],
   "id": "15dde3b34efe6825",
   "outputs": [],
   "execution_count": null
  },
  {
   "metadata": {},
   "cell_type": "code",
   "source": [
    "# Save the magnified video\n",
    "output_video_path = '../magnified.avi'\n",
    "fourcc = cv2.VideoWriter_fourcc(*'XVID')\n",
    "out = cv2.VideoWriter(output_video_path, fourcc, 30, (640, 480))\n",
    "\n",
    "for inx in tqdm(range(len(magnified_frames)), desc='Writing video'):\n",
    "    frame = frames[inx]\n",
    "    magnified_frame = magnified_frames[inx]\n",
    "    \n",
    "    # Magnify the frame by the magnified frame\n",
    "    magnified_frame = cv2.cvtColor(magnified_frame, cv2.COLOR_GRAY2BGR)\n",
    "    \n",
    "    # Add the magnified frame to the original frame\n",
    "    # frame = cv2.cvtColor(frame, cv2.COLOR_GRAY2BGR)\n",
    "    frame = cv2.addWeighted(frame, 0.5, magnified_frame, 0.5, 0)\n",
    "    \n",
    "    out.write(cv2.cvtColor(frame, cv2.COLOR_GRAY2BGR))\n",
    "out.release()"
   ],
   "id": "9d6da5f6d7c033ca",
   "outputs": [],
   "execution_count": null
  }
 ],
 "metadata": {
  "kernelspec": {
   "display_name": "Python 3",
   "language": "python",
   "name": "python3"
  },
  "language_info": {
   "codemirror_mode": {
    "name": "ipython",
    "version": 2
   },
   "file_extension": ".py",
   "mimetype": "text/x-python",
   "name": "python",
   "nbconvert_exporter": "python",
   "pygments_lexer": "ipython2",
   "version": "2.7.6"
  }
 },
 "nbformat": 4,
 "nbformat_minor": 5
}
