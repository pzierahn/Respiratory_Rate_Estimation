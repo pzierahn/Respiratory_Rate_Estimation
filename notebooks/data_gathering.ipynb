{
 "cells": [
  {
   "cell_type": "markdown",
   "id": "29e8feb5a154ad",
   "metadata": {},
   "source": [
    "# Data Gathering\n",
    "\n",
    "This notebook gathers the meta-data for the evaluation. It runs the various respiratory extraction methods."
   ]
  },
  {
   "cell_type": "code",
   "id": "initial_id",
   "metadata": {
    "collapsed": true,
    "ExecuteTime": {
     "end_time": "2024-04-17T20:03:31.623736Z",
     "start_time": "2024-04-17T20:03:31.296973Z"
    }
   },
   "source": [
    "import json\n",
    "import os\n",
    "\n",
    "import respiratory_extraction.dataset as repository\n",
    "\n",
    "dataset = repository.from_default()\n",
    "subjects = dataset.get_subjects()\n",
    "subjects"
   ],
   "outputs": [
    {
     "data": {
      "text/plain": [
       "['Proband05', 'Proband16']"
      ]
     },
     "execution_count": 1,
     "metadata": {},
     "output_type": "execute_result"
    }
   ],
   "execution_count": 1
  },
  {
   "cell_type": "code",
   "id": "fbaabf772d852710",
   "metadata": {
    "ExecuteTime": {
     "end_time": "2024-04-17T20:03:31.628265Z",
     "start_time": "2024-04-17T20:03:31.625291Z"
    }
   },
   "source": [
    "# The scenarios in which the subjects were recorded\n",
    "# scenarios = dataset.get_scenarios()\n",
    "# scenarios = [\n",
    "#     '101_natural_lighting',\n",
    "#     # '102_artificial_lighting',\n",
    "#     '103_abrupt_changing_lighting',\n",
    "#     '104_dim_lighting_auto_exposure',\n",
    "#     # '106_green_lighting',\n",
    "#     # '107_infrared_lighting',\n",
    "#     '201_shouldercheck',\n",
    "#     '202_scale_movement',\n",
    "#     '203_translation_movement',\n",
    "#     # '204_writing'\n",
    "# ]\n",
    "scenarios = [\n",
    "    '101_natural_lighting',\n",
    "]\n",
    "scenarios"
   ],
   "outputs": [
    {
     "data": {
      "text/plain": [
       "['101_natural_lighting']"
      ]
     },
     "execution_count": 2,
     "metadata": {},
     "output_type": "execute_result"
    }
   ],
   "execution_count": 2
  },
  {
   "metadata": {
    "ExecuteTime": {
     "end_time": "2024-04-17T20:03:31.630997Z",
     "start_time": "2024-04-17T20:03:31.628802Z"
    }
   },
   "cell_type": "code",
   "source": [
    "from datetime import datetime\n",
    "\n",
    "hyperparameters = {\n",
    "    'quality_level': 0.1,\n",
    "    'quality_level_rv': 0.05,\n",
    "    'filter_lowpass': 0.1,\n",
    "    'filter_highpass': 0.6,\n",
    "}\n",
    "\n",
    "evaluation_metadata = {\n",
    "    'start_time': datetime.now(),\n",
    "    'subjects': subjects,\n",
    "    'scenarios': scenarios,\n",
    "}"
   ],
   "id": "d6e2ab154d5334d9",
   "outputs": [],
   "execution_count": 3
  },
  {
   "cell_type": "code",
   "id": "2aba3e680aa178da",
   "metadata": {
    "ExecuteTime": {
     "end_time": "2024-04-17T20:10:26.399332Z",
     "start_time": "2024-04-17T20:08:51.438126Z"
    }
   },
   "source": [
    "import json\n",
    "import respiratory_extraction.utils as utils\n",
    "\n",
    "from respiratory_extraction.models.signal_extraction import pixel_intensity, optical_flow\n",
    "\n",
    "extracted_signals = []\n",
    "\n",
    "faulty_scenarios = []\n",
    "\n",
    "lowpass = hyperparameters['filter_lowpass']\n",
    "highpass = hyperparameters['filter_highpass']\n",
    "\n",
    "for subject in subjects:\n",
    "    for idx, scenario in enumerate(scenarios):\n",
    "        print(f'Processing {subject} - {scenario}')\n",
    "\n",
    "        frames, params = dataset.read_video_gray(subject, scenario)\n",
    "\n",
    "        faces = utils.detect_faces(frames[0])\n",
    "        if len(faces) != 1:\n",
    "            print(f'No face detected in {subject} - {scenario}')\n",
    "            faulty_scenarios.append((subject, scenario))\n",
    "            continue\n",
    "\n",
    "        # Calculate the region of interest (ROI) based on the face\n",
    "        roi = utils.roi_from_face(faces[0])\n",
    "\n",
    "        #\n",
    "        # Calculate the average pixel intensity\n",
    "        #\n",
    "\n",
    "        pi_start = datetime.now()\n",
    "        pi_signal = pixel_intensity.average_pixel_intensity(frames, roi=roi)\n",
    "        extracted_signals.append({\n",
    "            'subject': subject,\n",
    "            'scenario': scenario,\n",
    "            'method': 'pixel_intensity',\n",
    "            'parameter': {\n",
    "                'roi': list(roi),\n",
    "            },\n",
    "            'execution_time': datetime.now() - pi_start,\n",
    "            'sampling_rate': params.fps,\n",
    "            'signal': pi_signal.tolist(),\n",
    "        })\n",
    "\n",
    "        #\n",
    "        # Calculate the optical flow without cgof\n",
    "        # \n",
    "\n",
    "        of_raw_start = datetime.now()\n",
    "        of_signal_raw = optical_flow.extract_signal(\n",
    "            frames,\n",
    "            roi=roi,\n",
    "            quality_level=hyperparameters['quality_level'],\n",
    "            quality_level_rv=hyperparameters['quality_level_rv'],\n",
    "            use_cgof=False,\n",
    "        )\n",
    "        extracted_signals.append({\n",
    "            'subject': subject,\n",
    "            'scenario': scenario,\n",
    "            'method': 'optical_flow',\n",
    "            'parameter': {\n",
    "                'roi': list(roi),\n",
    "                'use_cgof': False\n",
    "            },\n",
    "            'execution_time': datetime.now() - of_raw_start,\n",
    "            'sampling_rate': params.fps,\n",
    "            'signal': of_signal_raw.tolist(),\n",
    "        })\n",
    "\n",
    "        #\n",
    "        # Calculate the optical flow with cgof\n",
    "        #\n",
    "\n",
    "        of_cgof_start = datetime.now()\n",
    "        of_signal_raw = optical_flow.extract_signal(\n",
    "            frames,\n",
    "            roi=roi,\n",
    "            quality_level=hyperparameters['quality_level'],\n",
    "            quality_level_rv=hyperparameters['quality_level_rv'],\n",
    "            use_cgof=True,\n",
    "        )\n",
    "\n",
    "        extracted_signals.append({\n",
    "            'subject': subject,\n",
    "            'scenario': scenario,\n",
    "            'method': 'optical_flow',\n",
    "            'parameter': {\n",
    "                'roi': list(roi),\n",
    "                'use_cgof': True\n",
    "            },\n",
    "            'execution_time': datetime.now() - of_cgof_start,\n",
    "            'sampling_rate': params.fps,\n",
    "            'signal': of_signal_raw.tolist(),\n",
    "        })\n",
    "\n",
    "        # Garbage collect the frames\n",
    "        del frames"
   ],
   "outputs": [
    {
     "name": "stdout",
     "output_type": "stream",
     "text": [
      "Processing Proband05 - 101_natural_lighting\n"
     ]
    },
    {
     "data": {
      "text/plain": [
       "Reading video:   0%|          | 0/3600 [00:00<?, ?it/s]"
      ],
      "application/vnd.jupyter.widget-view+json": {
       "version_major": 2,
       "version_minor": 0,
       "model_id": "3d013c296b8a4e92afe6d83818c5bc3f"
      }
     },
     "metadata": {},
     "output_type": "display_data"
    },
    {
     "name": "stdout",
     "output_type": "stream",
     "text": [
      "Processing Proband16 - 101_natural_lighting\n"
     ]
    },
    {
     "data": {
      "text/plain": [
       "Reading video:   0%|          | 0/3600 [00:00<?, ?it/s]"
      ],
      "application/vnd.jupyter.widget-view+json": {
       "version_major": 2,
       "version_minor": 0,
       "model_id": "8e542534b63949c493c0b300ccf88ca3"
      }
     },
     "metadata": {},
     "output_type": "display_data"
    }
   ],
   "execution_count": 7
  },
  {
   "metadata": {
    "ExecuteTime": {
     "end_time": "2024-04-17T20:10:26.414271Z",
     "start_time": "2024-04-17T20:10:26.411065Z"
    }
   },
   "cell_type": "code",
   "source": "faulty_scenarios",
   "id": "c5cc8fa22b77f648",
   "outputs": [
    {
     "data": {
      "text/plain": [
       "[]"
      ]
     },
     "execution_count": 9,
     "metadata": {},
     "output_type": "execute_result"
    }
   ],
   "execution_count": 9
  },
  {
   "metadata": {
    "ExecuteTime": {
     "end_time": "2024-04-17T20:10:26.417820Z",
     "start_time": "2024-04-17T20:10:26.415678Z"
    }
   },
   "cell_type": "code",
   "source": [
    "evaluation_metadata['faulty_scenarios'] = faulty_scenarios\n",
    "evaluation_metadata['end_time'] = datetime.now()"
   ],
   "id": "4361f0aa4df2465",
   "outputs": [],
   "execution_count": 10
  },
  {
   "metadata": {
    "ExecuteTime": {
     "end_time": "2024-04-17T20:10:26.724075Z",
     "start_time": "2024-04-17T20:10:26.418855Z"
    }
   },
   "cell_type": "code",
   "source": [
    "import pandas as pd\n",
    "\n",
    "df = pd.DataFrame(extracted_signals)\n",
    "df.head()"
   ],
   "id": "e94ff7cb59c2a3ea",
   "outputs": [
    {
     "data": {
      "text/plain": [
       "     subject              scenario           method  \\\n",
       "0  Proband05  101_natural_lighting  pixel_intensity   \n",
       "1  Proband05  101_natural_lighting     optical_flow   \n",
       "2  Proband05  101_natural_lighting     optical_flow   \n",
       "3  Proband16  101_natural_lighting  pixel_intensity   \n",
       "4  Proband16  101_natural_lighting     optical_flow   \n",
       "\n",
       "                                         parameter         execution_time  \\\n",
       "0  {'roi': [272, 395, 129, 64], 'use_cgof': False} 0 days 00:00:00.027954   \n",
       "1  {'roi': [272, 395, 129, 64], 'use_cgof': False} 0 days 00:00:02.222249   \n",
       "2  {'roi': [272, 395, 129, 64], 'use_cgof': False} 0 days 00:00:02.417030   \n",
       "3  {'roi': [251, 430, 120, 60], 'use_cgof': False} 0 days 00:00:00.019499   \n",
       "4  {'roi': [251, 430, 120, 60], 'use_cgof': False} 0 days 00:00:02.504119   \n",
       "\n",
       "   sampling_rate                                             signal  \n",
       "0             30  [74.06964631782945, 74.05995639534883, 74.0652...  \n",
       "1             30  [549.913471117982, 549.9467925031414, 549.9584...  \n",
       "2             30  [549.8965005721562, 549.9339159204322, 549.943...  \n",
       "3             30  [25.891666666666666, 26.140166666666666, 25.74...  \n",
       "4             30  [561.0121719456519, 560.7956244465958, 560.667...  "
      ],
      "text/html": [
       "<div>\n",
       "<style scoped>\n",
       "    .dataframe tbody tr th:only-of-type {\n",
       "        vertical-align: middle;\n",
       "    }\n",
       "\n",
       "    .dataframe tbody tr th {\n",
       "        vertical-align: top;\n",
       "    }\n",
       "\n",
       "    .dataframe thead th {\n",
       "        text-align: right;\n",
       "    }\n",
       "</style>\n",
       "<table border=\"1\" class=\"dataframe\">\n",
       "  <thead>\n",
       "    <tr style=\"text-align: right;\">\n",
       "      <th></th>\n",
       "      <th>subject</th>\n",
       "      <th>scenario</th>\n",
       "      <th>method</th>\n",
       "      <th>parameter</th>\n",
       "      <th>execution_time</th>\n",
       "      <th>sampling_rate</th>\n",
       "      <th>signal</th>\n",
       "    </tr>\n",
       "  </thead>\n",
       "  <tbody>\n",
       "    <tr>\n",
       "      <th>0</th>\n",
       "      <td>Proband05</td>\n",
       "      <td>101_natural_lighting</td>\n",
       "      <td>pixel_intensity</td>\n",
       "      <td>{'roi': [272, 395, 129, 64], 'use_cgof': False}</td>\n",
       "      <td>0 days 00:00:00.027954</td>\n",
       "      <td>30</td>\n",
       "      <td>[74.06964631782945, 74.05995639534883, 74.0652...</td>\n",
       "    </tr>\n",
       "    <tr>\n",
       "      <th>1</th>\n",
       "      <td>Proband05</td>\n",
       "      <td>101_natural_lighting</td>\n",
       "      <td>optical_flow</td>\n",
       "      <td>{'roi': [272, 395, 129, 64], 'use_cgof': False}</td>\n",
       "      <td>0 days 00:00:02.222249</td>\n",
       "      <td>30</td>\n",
       "      <td>[549.913471117982, 549.9467925031414, 549.9584...</td>\n",
       "    </tr>\n",
       "    <tr>\n",
       "      <th>2</th>\n",
       "      <td>Proband05</td>\n",
       "      <td>101_natural_lighting</td>\n",
       "      <td>optical_flow</td>\n",
       "      <td>{'roi': [272, 395, 129, 64], 'use_cgof': False}</td>\n",
       "      <td>0 days 00:00:02.417030</td>\n",
       "      <td>30</td>\n",
       "      <td>[549.8965005721562, 549.9339159204322, 549.943...</td>\n",
       "    </tr>\n",
       "    <tr>\n",
       "      <th>3</th>\n",
       "      <td>Proband16</td>\n",
       "      <td>101_natural_lighting</td>\n",
       "      <td>pixel_intensity</td>\n",
       "      <td>{'roi': [251, 430, 120, 60], 'use_cgof': False}</td>\n",
       "      <td>0 days 00:00:00.019499</td>\n",
       "      <td>30</td>\n",
       "      <td>[25.891666666666666, 26.140166666666666, 25.74...</td>\n",
       "    </tr>\n",
       "    <tr>\n",
       "      <th>4</th>\n",
       "      <td>Proband16</td>\n",
       "      <td>101_natural_lighting</td>\n",
       "      <td>optical_flow</td>\n",
       "      <td>{'roi': [251, 430, 120, 60], 'use_cgof': False}</td>\n",
       "      <td>0 days 00:00:02.504119</td>\n",
       "      <td>30</td>\n",
       "      <td>[561.0121719456519, 560.7956244465958, 560.667...</td>\n",
       "    </tr>\n",
       "  </tbody>\n",
       "</table>\n",
       "</div>"
      ]
     },
     "execution_count": 11,
     "metadata": {},
     "output_type": "execute_result"
    }
   ],
   "execution_count": 11
  },
  {
   "metadata": {
    "ExecuteTime": {
     "end_time": "2024-04-17T20:10:26.752351Z",
     "start_time": "2024-04-17T20:10:26.724610Z"
    }
   },
   "cell_type": "code",
   "source": [
    "evaluation_dir = os.path.join(os.getcwd(), '..', 'evaluation', 'signals')\n",
    "if not os.path.exists(evaluation_dir):\n",
    "    os.makedirs(evaluation_dir)\n",
    "\n",
    "# Save the extracted_signals as a JSON\n",
    "json_path = os.path.join(evaluation_dir, 'metadata.json')\n",
    "utils.write_json(json_path, extracted_signals)\n",
    "\n",
    "# Save the evaluation dataframe\n",
    "csv_path = os.path.join(evaluation_dir, 'metadata.csv')\n",
    "df.to_csv(csv_path, index=False)\n",
    "\n",
    "# Save the hyperparameters as prettified json\n",
    "json_path = os.path.join(evaluation_dir, 'parameters.json')\n",
    "utils.write_json(json_path, evaluation_metadata)"
   ],
   "id": "3806544e615aa349",
   "outputs": [],
   "execution_count": 12
  }
 ],
 "metadata": {
  "kernelspec": {
   "display_name": "Python 3",
   "language": "python",
   "name": "python3"
  },
  "language_info": {
   "codemirror_mode": {
    "name": "ipython",
    "version": 2
   },
   "file_extension": ".py",
   "mimetype": "text/x-python",
   "name": "python",
   "nbconvert_exporter": "python",
   "pygments_lexer": "ipython2",
   "version": "2.7.6"
  }
 },
 "nbformat": 4,
 "nbformat_minor": 5
}
