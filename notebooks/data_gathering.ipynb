{
 "cells": [
  {
   "cell_type": "markdown",
   "id": "29e8feb5a154ad",
   "metadata": {},
   "source": [
    "# Data Gathering\n",
    "\n",
    "This notebook gathers the meta-data for the evaluation. It runs the various respiratory extraction methods."
   ]
  },
  {
   "cell_type": "code",
   "id": "initial_id",
   "metadata": {
    "collapsed": true
   },
   "source": [
    "import os\n",
    "\n",
    "import respiratory_extraction.dataset as repository\n",
    "\n",
    "dataset = repository.from_default()\n",
    "subjects = dataset.get_subjects()\n",
    "subjects"
   ],
   "outputs": [],
   "execution_count": null
  },
  {
   "cell_type": "code",
   "id": "fbaabf772d852710",
   "metadata": {},
   "source": [
    "# The scenarios in which the subjects were recorded\n",
    "# scenarios = dataset.get_scenarios()\n",
    "# scenarios = [\n",
    "#     '101_natural_lighting',\n",
    "#     # '102_artificial_lighting',\n",
    "#     '103_abrupt_changing_lighting',\n",
    "#     '104_dim_lighting_auto_exposure',\n",
    "#     # '106_green_lighting',\n",
    "#     # '107_infrared_lighting',\n",
    "#     '201_shouldercheck',\n",
    "#     '202_scale_movement',\n",
    "#     '203_translation_movement',\n",
    "#     # '204_writing'\n",
    "# ]\n",
    "scenarios = [\n",
    "    '101_natural_lighting',\n",
    "]\n",
    "scenarios"
   ],
   "outputs": [],
   "execution_count": null
  },
  {
   "metadata": {},
   "cell_type": "code",
   "source": [
    "from datetime import datetime\n",
    "\n",
    "hyperparameters = {\n",
    "    'quality_level': 0.1,\n",
    "    'quality_level_rv': 0.05,\n",
    "    'filter_lowpass': 0.1,\n",
    "    'filter_highpass': 0.6,\n",
    "}\n",
    "\n",
    "evaluation_metadata = {\n",
    "    'start_time': datetime.now(),\n",
    "    'subjects': subjects,\n",
    "    'scenarios': scenarios,\n",
    "    'hyperparameters': hyperparameters,\n",
    "}"
   ],
   "id": "d6e2ab154d5334d9",
   "outputs": [],
   "execution_count": null
  },
  {
   "cell_type": "code",
   "id": "2aba3e680aa178da",
   "metadata": {},
   "source": [
    "import respiratory_extraction.utils as utils\n",
    "\n",
    "from respiratory_extraction.models.frequency_extraction import frequency_extractor\n",
    "from respiratory_extraction.models.signal_extraction import pixel_intensity, optical_flow\n",
    "\n",
    "evaluation_entries = []\n",
    "ground_truth_entries = []\n",
    "\n",
    "faulty_scenarios = []\n",
    "\n",
    "lowpass = hyperparameters['filter_lowpass']\n",
    "highpass = hyperparameters['filter_highpass']\n",
    "\n",
    "for subject in subjects:\n",
    "    for idx, scenario in enumerate(scenarios):\n",
    "        print(f'Processing {subject} - {scenario}')\n",
    "\n",
    "        frames, params = dataset.read_video_gray(subject, scenario)\n",
    "\n",
    "        faces = utils.detect_faces(frames[0])\n",
    "        if len(faces) != 1:\n",
    "            print(f'No face detected in {subject} - {scenario}')\n",
    "            faulty_scenarios.append((subject, scenario))\n",
    "            continue\n",
    "\n",
    "        # Calculate the region of interest (ROI) based on the face\n",
    "        roi = utils.roi_from_face(faces[0])\n",
    "\n",
    "        # Calculate the average pixel intensity\n",
    "        pi_signal = pixel_intensity.average_pixel_intensity(frames, roi=roi)\n",
    "        pi_freq = frequency_extractor.with_preprocessing(\n",
    "            pi_signal,\n",
    "            params.fps,\n",
    "            lowpass=lowpass,\n",
    "            highpass=highpass,\n",
    "        )\n",
    "\n",
    "        # Calculate the optical flow\n",
    "        of_signal = optical_flow.extract_signal(\n",
    "            frames,\n",
    "            roi=roi,\n",
    "            quality_level=hyperparameters['quality_level'],\n",
    "            quality_level_rv=hyperparameters['quality_level_rv'],\n",
    "            use_cgof=True,\n",
    "        )\n",
    "        of_freq = frequency_extractor.with_preprocessing(\n",
    "            of_signal,\n",
    "            params.fps,\n",
    "            lowpass=lowpass,\n",
    "            highpass=highpass,\n",
    "        )\n",
    "\n",
    "        evaluation_entries.append({\n",
    "            'subject': subject,\n",
    "            'scenario': scenario,\n",
    "            'method': 'pixel_intensity',\n",
    "            'fft': pi_freq.fft(min_freq=lowpass, max_freq=highpass),\n",
    "            'pc': pi_freq.peak_counting(),\n",
    "            'cp': pi_freq.crossing_point(),\n",
    "            'nfcp': pi_freq.negative_feedback_crossover_point_method(),\n",
    "        })\n",
    "\n",
    "        evaluation_entries.append({\n",
    "            'subject': subject,\n",
    "            'scenario': scenario,\n",
    "            'method': 'optical_flow',\n",
    "            'fft': of_freq.fft(min_freq=lowpass, max_freq=highpass),\n",
    "            'pc': of_freq.peak_counting(),\n",
    "            'cp': of_freq.crossing_point(),\n",
    "            'nfcp': of_freq.negative_feedback_crossover_point_method(),\n",
    "        })\n",
    "\n",
    "        # Garbage collect the frames\n",
    "        del frames"
   ],
   "outputs": [],
   "execution_count": null
  },
  {
   "metadata": {},
   "cell_type": "code",
   "source": "faulty_scenarios",
   "id": "c5cc8fa22b77f648",
   "outputs": [],
   "execution_count": null
  },
  {
   "metadata": {},
   "cell_type": "code",
   "source": "evaluation_metadata['end_time'] = datetime.now()",
   "id": "4361f0aa4df2465",
   "outputs": [],
   "execution_count": null
  },
  {
   "metadata": {},
   "cell_type": "code",
   "source": [
    "import pandas as pd\n",
    "\n",
    "evaluation_df = pd.DataFrame(evaluation_entries)\n",
    "evaluation_df.head()"
   ],
   "id": "e94ff7cb59c2a3ea",
   "outputs": [],
   "execution_count": null
  },
  {
   "metadata": {},
   "cell_type": "code",
   "source": [
    "ground_truth_df = pd.DataFrame(ground_truth_entries)\n",
    "ground_truth_df.head()"
   ],
   "id": "80ce96f1726c1558",
   "outputs": [],
   "execution_count": null
  },
  {
   "metadata": {},
   "cell_type": "code",
   "source": [
    "evaluation_dir = os.path.join(os.getcwd(), '..', 'evaluation', 'baseline')\n",
    "if not os.path.exists(evaluation_dir):\n",
    "    os.makedirs(evaluation_dir)\n",
    "\n",
    "# Save the evaluation dataframe\n",
    "csv_path = os.path.join(evaluation_dir, 'evaluation.csv')\n",
    "evaluation_df.to_csv(csv_path, index=False)\n",
    "\n",
    "# Save the hyperparameters as prettified json\n",
    "json_path = os.path.join(evaluation_dir, 'hyperparameters.json')\n",
    "utils.write_json(json_path, evaluation_metadata)"
   ],
   "id": "3806544e615aa349",
   "outputs": [],
   "execution_count": null
  }
 ],
 "metadata": {
  "kernelspec": {
   "display_name": "Python 3",
   "language": "python",
   "name": "python3"
  },
  "language_info": {
   "codemirror_mode": {
    "name": "ipython",
    "version": 2
   },
   "file_extension": ".py",
   "mimetype": "text/x-python",
   "name": "python",
   "nbconvert_exporter": "python",
   "pygments_lexer": "ipython2",
   "version": "2.7.6"
  }
 },
 "nbformat": 4,
 "nbformat_minor": 5
}
