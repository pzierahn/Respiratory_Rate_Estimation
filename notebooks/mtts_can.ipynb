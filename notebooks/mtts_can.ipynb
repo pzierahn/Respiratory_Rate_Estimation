{
 "cells": [
  {
   "metadata": {},
   "cell_type": "code",
   "source": [
    "import respiration.dataset as repository\n",
    "\n",
    "dataset = repository.from_default()\n",
    "\n",
    "subject = 'Proband16'\n",
    "scenario = '101_natural_lighting'"
   ],
   "id": "4b78c47457679ff0",
   "outputs": [],
   "execution_count": null
  },
  {
   "metadata": {},
   "cell_type": "code",
   "source": "frames, meta = dataset.read_video_bgr(subject, scenario)",
   "id": "6346cc5fba0f739b",
   "outputs": [],
   "execution_count": null
  },
  {
   "metadata": {},
   "cell_type": "code",
   "source": [
    "from respiration.extractor.mtts_can import preprocess_video_frames\n",
    "\n",
    "resized, normalized = preprocess_video_frames(frames)"
   ],
   "id": "a0e809ccc33cb75d",
   "outputs": [],
   "execution_count": null
  },
  {
   "metadata": {},
   "cell_type": "code",
   "source": [
    "import matplotlib.pyplot as plt\n",
    "\n",
    "# Plot resized and normalized frames\n",
    "_, axs = plt.subplots(1, 2, figsize=(15, 5))\n",
    "\n",
    "axs[0].imshow(resized[0])\n",
    "axs[0].set_title('Resized Frame')\n",
    "\n",
    "axs[1].imshow(normalized[0])\n",
    "axs[1].set_title('Normalized Frame')"
   ],
   "id": "bf07951fc37c8fbc",
   "outputs": [],
   "execution_count": null
  },
  {
   "metadata": {},
   "cell_type": "code",
   "source": [
    "# Save the normalized_frames as a video\n",
    "# import cv2\n",
    "# \n",
    "# fourcc = cv2.VideoWriter_fourcc(*'XVID')\n",
    "# out = cv2.VideoWriter('normalized_frames.avi', fourcc, 30.0, (36, 36))\n",
    "# \n",
    "# for frame in normalized_frames:\n",
    "#     frame = cv2.cvtColor(frame, cv2.COLOR_RGB2BGR)\n",
    "#     frame = (frame * 255).astype('uint8')  # Scale and convert to 8-bit\n",
    "#     out.write(frame) \n",
    "#     \n",
    "# out.release()"
   ],
   "id": "edfd2252a866dcf8",
   "outputs": [],
   "execution_count": null
  },
  {
   "cell_type": "code",
   "id": "bd3a9cecac6fa1f9",
   "metadata": {
    "collapsed": true
   },
   "source": [
    "import os\n",
    "import matplotlib.pyplot as plt\n",
    "from scipy.signal import butter, filtfilt\n",
    "\n",
    "from respiration.extractor.mtts_can import mtts_can\n",
    "\n",
    "model_checkpoint = os.path.join('..', 'data', 'mtts_can', 'mtts_can.hdf5')\n",
    "\n",
    "frame_depth = 10\n",
    "\n",
    "# The model expects a number of frames that is a multiple of frame_depth\n",
    "cut_off = (normalized.shape[0] // frame_depth) * frame_depth\n",
    "input_resized = resized[:cut_off]\n",
    "input_normalized = normalized[:cut_off]\n",
    "\n",
    "cut_off, frame_depth"
   ],
   "outputs": [],
   "execution_count": null
  },
  {
   "metadata": {},
   "cell_type": "code",
   "source": "input_resized.shape",
   "id": "5b76e522ce05ad4",
   "outputs": [],
   "execution_count": null
  },
  {
   "metadata": {},
   "cell_type": "code",
   "source": [
    "model = mtts_can(frame_depth, 32, 64, (36, 36, 3))\n",
    "model.load_weights(model_checkpoint)\n",
    "yptest = model.predict(\n",
    "    (input_resized, input_normalized),\n",
    "    batch_size=100\n",
    ")"
   ],
   "id": "276e66603862052f",
   "outputs": [],
   "execution_count": null
  },
  {
   "metadata": {},
   "cell_type": "code",
   "source": [
    "import numpy as np\n",
    "from respiration.preprocessing import detrend_tarvainen\n",
    "\n",
    "pulse_pred = yptest[0]\n",
    "pulse_pred = detrend_tarvainen(np.cumsum(pulse_pred), 100)\n",
    "[b_pulse, a_pulse] = butter(1, [0.75 / meta.fps * 2, 2.5 / meta.fps * 2], btype='bandpass')\n",
    "pulse_pred = filtfilt(b_pulse, a_pulse, np.double(pulse_pred))\n",
    "\n",
    "resp_pred = yptest[1]\n",
    "resp_pred = detrend_tarvainen(np.cumsum(resp_pred), 100)\n",
    "[b_resp, a_resp] = butter(1, [0.08 / meta.fps * 2, 0.5 / meta.fps * 2], btype='bandpass')\n",
    "resp_pred = filtfilt(b_resp, a_resp, np.double(resp_pred))"
   ],
   "id": "74501793ce2154e3",
   "outputs": [],
   "execution_count": null
  },
  {
   "metadata": {},
   "cell_type": "code",
   "source": [
    "import respiration.preprocessing as sp\n",
    "\n",
    "fig, axs = plt.subplots(4, 1, figsize=(20, 20))\n",
    "\n",
    "# Add some space between the plots\n",
    "fig.subplots_adjust(hspace=0.5)\n",
    "\n",
    "axs[0].plot(pulse_pred, label='Predicted Pulse')\n",
    "axs[0].set_title('Predicted Pulse')\n",
    "axs[0].set_xlabel('Time')\n",
    "axs[0].set_ylabel('Pulse')\n",
    "axs[0].legend()\n",
    "\n",
    "axs[1].plot(resp_pred, label='Predicted Respiration')\n",
    "axs[1].set_title('Predicted Respiration')\n",
    "axs[1].set_xlabel('Time')\n",
    "axs[1].set_ylabel('Respiration')\n",
    "axs[1].legend()\n",
    "\n",
    "resp_pred_2 = np.cumsum(yptest[1])\n",
    "# resp_pred_2 = detrend(resp_pred_2, 100)\n",
    "resp_pred_2 = sp.standard_processing(resp_pred_2, meta.fps, 0.08, 0.5)\n",
    "\n",
    "axs[2].plot(resp_pred_2, label='Predicted Respiration')\n",
    "axs[2].set_title('Predicted Respiration')\n",
    "axs[2].set_xlabel('Time')\n",
    "axs[2].set_ylabel('Respiration')\n",
    "axs[2].legend()\n",
    "\n",
    "gt_signal, gt_sample_rate = dataset.get_ground_truth_rr_signal(subject, scenario)\n",
    "gt_signal = sp.standard_processing(gt_signal, gt_sample_rate, 0.08, 0.5)\n",
    "\n",
    "axs[3].plot(gt_signal, label='Ground Truth Respiration')\n",
    "axs[3].set_title('Ground Truth Respiration')\n",
    "axs[3].set_xlabel('Time')\n",
    "axs[3].set_ylabel('Respiration')\n",
    "axs[3].legend()"
   ],
   "id": "initial_id",
   "outputs": [],
   "execution_count": null
  },
  {
   "metadata": {},
   "cell_type": "code",
   "source": [
    "from respiration.analysis import FrequencyExtractor\n",
    "\n",
    "gt_fe = FrequencyExtractor(gt_signal, gt_sample_rate, lowpass=0.1, highpass=0.5)\n",
    "pd_fe = FrequencyExtractor(resp_pred_2, meta.fps, lowpass=0.1, highpass=0.5)\n",
    "\n",
    "gt_bpm = gt_fe.frequency_from_nfcp() * 60\n",
    "pd_bpm = pd_fe.frequency_from_nfcp() * 60\n",
    "\n",
    "abs(gt_bpm - pd_bpm)"
   ],
   "id": "65bcd5888d1d3da",
   "outputs": [],
   "execution_count": null
  }
 ],
 "metadata": {
  "kernelspec": {
   "display_name": "Python 3",
   "language": "python",
   "name": "python3"
  },
  "language_info": {
   "codemirror_mode": {
    "name": "ipython",
    "version": 2
   },
   "file_extension": ".py",
   "mimetype": "text/x-python",
   "name": "python",
   "nbconvert_exporter": "python",
   "pygments_lexer": "ipython2",
   "version": "2.7.6"
  }
 },
 "nbformat": 4,
 "nbformat_minor": 5
}
