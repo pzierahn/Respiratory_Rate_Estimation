{
 "cells": [
  {
   "metadata": {},
   "cell_type": "code",
   "source": [
    "import respiration.dataset as repository\n",
    "\n",
    "dataset = repository.from_default()\n",
    "\n",
    "subject = 'Proband05'\n",
    "scenario = '101_natural_lighting'"
   ],
   "id": "4b78c47457679ff0",
   "execution_count": null,
   "outputs": []
  },
  {
   "metadata": {},
   "cell_type": "code",
   "source": "frames, meta = dataset.get_video_bgr(subject, scenario)",
   "id": "6346cc5fba0f739b",
   "execution_count": null,
   "outputs": []
  },
  {
   "metadata": {},
   "cell_type": "code",
   "source": [
    "from respiration.extractor.mtts_can import (\n",
    "    preprocess_video_frames,\n",
    "    preprocess_frames_original,\n",
    ")\n",
    "\n",
    "# resized, normalized = preprocess_frames_original(frames)\n",
    "resized, normalized = preprocess_video_frames(frames)"
   ],
   "id": "a0e809ccc33cb75d",
   "execution_count": null,
   "outputs": []
  },
  {
   "metadata": {},
   "cell_type": "code",
   "source": [
    "import matplotlib.pyplot as plt\n",
    "\n",
    "# Plot resized and normalized frames\n",
    "_, axs = plt.subplots(1, 2, figsize=(15, 5))\n",
    "\n",
    "axs[0].imshow(resized[1])\n",
    "axs[0].set_title('Resized Frame')\n",
    "\n",
    "axs[1].imshow(normalized[1])\n",
    "axs[1].set_title('Normalized Frame')"
   ],
   "id": "bf07951fc37c8fbc",
   "execution_count": null,
   "outputs": []
  },
  {
   "metadata": {},
   "cell_type": "code",
   "source": [
    "import matplotlib.pyplot as plt\n",
    "\n",
    "from respiration.extractor.mtts_can import load_model\n",
    "\n",
    "frame_depth = 10\n",
    "\n",
    "# The model expects a number of frames that is a multiple of frame_depth\n",
    "cut_off = (normalized.shape[0] // frame_depth) * frame_depth\n",
    "input_resized = resized[:cut_off]\n",
    "input_normalized = normalized[:cut_off]\n",
    "\n",
    "cut_off, frame_depth"
   ],
   "id": "bd3a9cecac6fa1f9",
   "execution_count": null,
   "outputs": []
  },
  {
   "metadata": {},
   "cell_type": "code",
   "source": "input_resized.shape",
   "id": "5b76e522ce05ad4",
   "execution_count": null,
   "outputs": []
  },
  {
   "metadata": {},
   "cell_type": "code",
   "source": [
    "# import os\n",
    "# model_checkpoint = os.path.join('..', 'models', 'last_model.keras')\n",
    "\n",
    "model = load_model(\n",
    "    # model_checkpoint=model_checkpoint,\n",
    "    frame_depth=frame_depth,\n",
    ")\n",
    "yptest = model.predict(\n",
    "    (input_resized, input_normalized),\n",
    "    batch_size=100\n",
    ")"
   ],
   "id": "b1335ca57c4ddcd7",
   "execution_count": null,
   "outputs": []
  },
  {
   "metadata": {},
   "cell_type": "code",
   "source": [
    "import numpy as np\n",
    "\n",
    "pulse_pred = np.cumsum(yptest[0])\n",
    "resp_pred = np.cumsum(yptest[1])"
   ],
   "id": "276e66603862052f",
   "execution_count": null,
   "outputs": []
  },
  {
   "metadata": {},
   "cell_type": "code",
   "source": [
    "import respiration.preprocessing as sp\n",
    "\n",
    "pulse_pred = sp.detrend_tarvainen(pulse_pred, 100)\n",
    "pulse_pred = sp.butterworth_filter(pulse_pred, meta.fps, 0.75, 2.5)\n",
    "\n",
    "resp_pred_1_detrend = sp.detrend_tarvainen(resp_pred, 100)\n",
    "resp_pred_1_filtered = sp.butterworth_filter(resp_pred_1_detrend, meta.fps, 0.08, 0.6)"
   ],
   "id": "74501793ce2154e3",
   "execution_count": null,
   "outputs": []
  },
  {
   "metadata": {},
   "cell_type": "code",
   "source": [
    "# Plot the pulse \n",
    "plt.plot(pulse_pred)\n",
    "plt.title('Predicted Pulse')\n",
    "plt.xlabel('Time')\n",
    "plt.ylabel('Pulse')\n",
    "plt.show()"
   ],
   "id": "a2cc1f0a48d23214",
   "execution_count": null,
   "outputs": []
  },
  {
   "metadata": {},
   "cell_type": "code",
   "source": [
    "fig, axs = plt.subplots(4, 1, figsize=(20, 20))\n",
    "\n",
    "# Add some space between the plots\n",
    "fig.subplots_adjust(hspace=0.5)\n",
    "\n",
    "axs[0].plot(resp_pred, label='Predicted Respiration (Raw)')\n",
    "axs[0].set_title('Predicted Respiration (Raw)')\n",
    "axs[0].set_xlabel('Time')\n",
    "axs[0].set_ylabel('Respiration')\n",
    "axs[0].legend()\n",
    "\n",
    "axs[1].plot(resp_pred_1_detrend, label='Predicted Respiration (Detrend)')\n",
    "axs[1].set_title('Predicted Respiration (Detrend)')\n",
    "axs[1].set_xlabel('Time')\n",
    "axs[1].set_ylabel('Respiration')\n",
    "axs[1].legend()\n",
    "\n",
    "axs[2].plot(resp_pred_1_filtered, label='Predicted Respiration (Filtered)')\n",
    "axs[2].set_title('Predicted Respiration (Filtered)')\n",
    "axs[2].set_xlabel('Time')\n",
    "axs[2].set_ylabel('Respiration')\n",
    "axs[2].legend()\n",
    "\n",
    "gt_signal, gt_sample_rate = dataset.get_ground_truth_rr_signal(subject, scenario)\n",
    "gt_signal = sp.standard_processing(gt_signal, gt_sample_rate, 0.08, 0.6)\n",
    "gt_signal = sp.resample_signal(gt_signal, len(resp_pred_1_filtered))\n",
    "\n",
    "axs[3].plot(gt_signal, label='Ground Truth Respiration')\n",
    "axs[3].set_title('Ground Truth Respiration')\n",
    "axs[3].set_xlabel('Time')\n",
    "axs[3].set_ylabel('Respiration')\n",
    "axs[3].legend()"
   ],
   "id": "initial_id",
   "execution_count": null,
   "outputs": []
  },
  {
   "metadata": {},
   "cell_type": "code",
   "source": "resp_pred_2 = sp.standard_processing(resp_pred, meta.fps, 0.08, 0.6)",
   "id": "27065f126281e42f",
   "execution_count": null,
   "outputs": []
  },
  {
   "metadata": {},
   "cell_type": "code",
   "source": [
    "fig, axs = plt.subplots(2, 1, figsize=(20, 10))\n",
    "\n",
    "# Add some space between the plots\n",
    "fig.subplots_adjust(hspace=0.5)\n",
    "\n",
    "axs[0].plot(resp_pred_1_filtered, label='Predicted Respiration (1)')\n",
    "axs[0].set_title('Predicted Respiration (Filtered)')\n",
    "axs[0].set_xlabel('Time')\n",
    "axs[0].set_ylabel('Respiration')\n",
    "axs[0].legend()\n",
    "\n",
    "axs[1].plot(resp_pred_2, label='Predicted Respiration (2)')\n",
    "axs[1].set_title('Predicted Respiration (Filtered)')\n",
    "axs[1].set_xlabel('Time')\n",
    "axs[1].set_ylabel('Respiration')\n",
    "axs[1].legend()"
   ],
   "id": "194c4bebfcd0205a",
   "execution_count": null,
   "outputs": []
  },
  {
   "metadata": {},
   "cell_type": "code",
   "source": [
    "from respiration.analysis import FrequencyExtractor\n",
    "\n",
    "gt_fe = FrequencyExtractor(gt_signal, gt_sample_rate, lowpass=0.08, highpass=0.6)\n",
    "pd_fe = FrequencyExtractor(resp_pred_2, meta.fps, lowpass=0.08, highpass=0.6)\n",
    "\n",
    "gt_bpm = gt_fe.frequency_from_nfcp() * 60\n",
    "pd_bpm = pd_fe.frequency_from_nfcp() * 60\n",
    "\n",
    "abs(gt_bpm - pd_bpm)"
   ],
   "id": "65bcd5888d1d3da",
   "execution_count": null,
   "outputs": []
  },
  {
   "metadata": {},
   "cell_type": "code",
   "source": [
    "from scipy.signal import resample\n",
    "import respiration.analysis as analysis\n",
    "\n",
    "# Resample the ground truth signal to the length of the predicted signal\n",
    "resampled_gt = resample(gt_signal, len(resp_pred_2))\n",
    "\n",
    "# Calculate the mean squared error\n",
    "mse = analysis.distance_mse(resampled_gt, resp_pred_2)\n",
    "\n",
    "# Calculate the Euclidean distance\n",
    "euclidean_distance = analysis.distance_euclidean(resampled_gt, resp_pred_2)\n",
    "\n",
    "# Calculate the Pearson correlation\n",
    "p_correlation = analysis.pearson_correlation(resampled_gt, resp_pred_2)\n",
    "\n",
    "print(f'Mean Squared Error: {mse:.2f}')\n",
    "print(f'Euclidean Distance: {euclidean_distance:.2f}')\n",
    "print(f'Pearson Correlation: {p_correlation:.2f}')"
   ],
   "id": "8746fe5038c1dc1",
   "execution_count": null,
   "outputs": []
  }
 ],
 "metadata": {
  "kernelspec": {
   "display_name": "Python 3",
   "language": "python",
   "name": "python3"
  },
  "language_info": {
   "codemirror_mode": {
    "name": "ipython",
    "version": 2
   },
   "file_extension": ".py",
   "mimetype": "text/x-python",
   "name": "python",
   "nbconvert_exporter": "python",
   "pygments_lexer": "ipython2",
   "version": "2.7.6"
  }
 },
 "nbformat": 4,
 "nbformat_minor": 5
}
