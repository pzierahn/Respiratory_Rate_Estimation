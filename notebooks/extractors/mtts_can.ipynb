{
 "cells": [
  {
   "metadata": {},
   "cell_type": "markdown",
   "source": [
    "# MTTS-CAN\n",
    "\n",
    "This notebook demonstrates how to extract respiration and pulse from a video using the MTTS-CAN model."
   ],
   "id": "b6ba6bc45797825"
  },
  {
   "metadata": {},
   "cell_type": "code",
   "source": [
    "import respiration.dataset as repository\n",
    "\n",
    "dataset = repository.from_default()\n",
    "\n",
    "subject = 'Proband05'\n",
    "setting = '101_natural_lighting'"
   ],
   "id": "4b78c47457679ff0",
   "outputs": [],
   "execution_count": null
  },
  {
   "metadata": {},
   "cell_type": "code",
   "source": "frames, meta = dataset.get_video_bgr(subject, setting, show_progress=True)",
   "id": "6346cc5fba0f739b",
   "outputs": [],
   "execution_count": null
  },
  {
   "metadata": {},
   "cell_type": "markdown",
   "source": [
    "## Preprocessing\n",
    "\n",
    "The MTTS-CAN model expects the frames to be resized and normalized in the temporal domain."
   ],
   "id": "8f935dd1b0a8cd84"
  },
  {
   "metadata": {},
   "cell_type": "code",
   "source": [
    "from respiration.extractor.mtts_can import (\n",
    "    preprocess_video_frames,\n",
    "    preprocess_frames_original,\n",
    ")\n",
    "\n",
    "# resized, normalized = preprocess_frames_original(frames)\n",
    "resized, normalized = preprocess_video_frames(frames)"
   ],
   "id": "a0e809ccc33cb75d",
   "outputs": [],
   "execution_count": null
  },
  {
   "metadata": {},
   "cell_type": "code",
   "source": [
    "import matplotlib.pyplot as plt\n",
    "\n",
    "# Plot resized and normalized frames\n",
    "_, axs = plt.subplots(1, 2, figsize=(15, 5))\n",
    "\n",
    "axs[0].imshow(resized[1])\n",
    "axs[0].set_title('Resized Frame')\n",
    "\n",
    "axs[1].imshow(normalized[1])\n",
    "axs[1].set_title('Normalized Frame')"
   ],
   "id": "bf07951fc37c8fbc",
   "outputs": [],
   "execution_count": null
  },
  {
   "metadata": {},
   "cell_type": "markdown",
   "source": "## Prediction",
   "id": "db534c478d422922"
  },
  {
   "metadata": {},
   "cell_type": "code",
   "source": [
    "import matplotlib.pyplot as plt\n",
    "\n",
    "from respiration.extractor.mtts_can import load_model\n",
    "\n",
    "frame_depth = 10\n",
    "\n",
    "# The model expects a number of frames that is a multiple of frame_depth\n",
    "cut_off = (normalized.shape[0] // frame_depth) * frame_depth\n",
    "input_resized = resized[:cut_off]\n",
    "input_normalized = normalized[:cut_off]"
   ],
   "id": "bd3a9cecac6fa1f9",
   "outputs": [],
   "execution_count": null
  },
  {
   "metadata": {},
   "cell_type": "code",
   "source": [
    "model = load_model(\n",
    "    frame_depth=frame_depth,\n",
    ")\n",
    "predictions = model.predict(\n",
    "    (input_resized, input_normalized),\n",
    "    batch_size=100\n",
    ")"
   ],
   "id": "b1335ca57c4ddcd7",
   "outputs": [],
   "execution_count": null
  },
  {
   "metadata": {},
   "cell_type": "code",
   "source": [
    "import numpy as np\n",
    "\n",
    "pulse_prediction = np.cumsum(predictions[0])\n",
    "respiration_prediction = np.cumsum(predictions[1])"
   ],
   "id": "276e66603862052f",
   "outputs": [],
   "execution_count": null
  },
  {
   "metadata": {},
   "cell_type": "markdown",
   "source": "## Show the predicted pulse",
   "id": "11d60331ee7aadc9"
  },
  {
   "metadata": {},
   "cell_type": "code",
   "source": [
    "import respiration.preprocessing as sp\n",
    "\n",
    "pulse_pred = sp.detrend_tarvainen(pulse_prediction, 100)\n",
    "pulse_pred = sp.butterworth_filter(pulse_pred, meta.fps, 0.75, 2.5)"
   ],
   "id": "74501793ce2154e3",
   "outputs": [],
   "execution_count": null
  },
  {
   "metadata": {},
   "cell_type": "code",
   "source": [
    "# Plot the pulse \n",
    "plt.plot(pulse_pred)\n",
    "plt.title('Predicted Pulse')\n",
    "plt.xlabel('Time')\n",
    "plt.ylabel('Pulse')\n",
    "plt.show()"
   ],
   "id": "a2cc1f0a48d23214",
   "outputs": [],
   "execution_count": null
  },
  {
   "metadata": {},
   "cell_type": "markdown",
   "source": "## Show the predicted respiration",
   "id": "6da13d360536ca3d"
  },
  {
   "metadata": {},
   "cell_type": "code",
   "source": "respiration_prediction_processed = sp.standard_processing(respiration_prediction, meta.fps)",
   "id": "27065f126281e42f",
   "outputs": [],
   "execution_count": null
  },
  {
   "metadata": {},
   "cell_type": "code",
   "source": [
    "fig, axs = plt.subplots(2, 1, figsize=(20, 10))\n",
    "\n",
    "# Add some space between the plots\n",
    "fig.subplots_adjust(hspace=0.5)\n",
    "\n",
    "axs[0].plot(respiration_prediction, label='Respiration Raw')\n",
    "axs[0].set_title('Respiration Raw')\n",
    "axs[0].set_xlabel('Time')\n",
    "axs[0].set_ylabel('Respiration')\n",
    "axs[0].legend()\n",
    "\n",
    "axs[1].plot(respiration_prediction_processed, label='Respiration Preprocessed')\n",
    "axs[1].set_title('Respiration Preprocessed')\n",
    "axs[1].set_xlabel('Time')\n",
    "axs[1].set_ylabel('Respiration')\n",
    "axs[1].legend()"
   ],
   "id": "194c4bebfcd0205a",
   "outputs": [],
   "execution_count": null
  }
 ],
 "metadata": {
  "kernelspec": {
   "display_name": "Python 3",
   "language": "python",
   "name": "python3"
  },
  "language_info": {
   "codemirror_mode": {
    "name": "ipython",
    "version": 2
   },
   "file_extension": ".py",
   "mimetype": "text/x-python",
   "name": "python",
   "nbconvert_exporter": "python",
   "pygments_lexer": "ipython2",
   "version": "2.7.6"
  }
 },
 "nbformat": 4,
 "nbformat_minor": 5
}
