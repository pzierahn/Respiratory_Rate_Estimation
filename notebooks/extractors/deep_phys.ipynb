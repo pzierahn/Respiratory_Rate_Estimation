{
 "cells": [
  {
   "metadata": {},
   "cell_type": "markdown",
   "source": "# Extracting rPPG Signal with DeepPhys",
   "id": "6ecd4c624315e77"
  },
  {
   "metadata": {},
   "cell_type": "code",
   "source": [
    "import respiration.dataset as repository\n",
    "\n",
    "dataset = repository.from_default()\n",
    "\n",
    "subject = 'Proband05'\n",
    "setting = '101_natural_lighting'"
   ],
   "id": "4b78c47457679ff0",
   "outputs": [],
   "execution_count": null
  },
  {
   "metadata": {},
   "cell_type": "code",
   "source": "frames, meta = dataset.get_video_bgr(subject, setting, show_progress=True)",
   "id": "a61011c940742495",
   "outputs": [],
   "execution_count": null
  },
  {
   "metadata": {},
   "cell_type": "code",
   "source": [
    "import respiration.utils as utils\n",
    "\n",
    "device = utils.get_torch_device()"
   ],
   "id": "42faa5548dc370fe",
   "outputs": [],
   "execution_count": null
  },
  {
   "metadata": {},
   "cell_type": "code",
   "source": [
    "import torch\n",
    "from respiration.extractor.deep_phys import DeepPhys\n",
    "\n",
    "model_path = '../../data/rPPG-Toolbox/BP4D_PseudoLabel_DeepPhys.pth'\n",
    "# model_path = '../../data/rPPG-Toolbox/PURE_DeepPhys.pth'\n",
    "# model_path = '../../data/rPPG-Toolbox/UBFC-rPPG_DeepPhys.pth'\n",
    "# model_path = '../../data/rPPG-Toolbox/MA-UBFC_deepphys.pth'\n",
    "# model_path = '../../data/rPPG-Toolbox/SCAMPS_DeepPhys.pth'\n",
    "\n",
    "# Wrap modul in nn.DataParallel\n",
    "model = DeepPhys(img_size=72)\n",
    "# Fix model loading: Some key have an extra 'module.' prefix\n",
    "model = torch.nn.DataParallel(model)\n",
    "model.to(device)\n",
    "\n",
    "# Load the model with the weights\n",
    "key_matching = model.load_state_dict(torch.load(model_path, map_location=device))\n",
    "key_matching"
   ],
   "id": "c4dc5f528d1e36c8",
   "outputs": [],
   "execution_count": null
  },
  {
   "metadata": {},
   "cell_type": "code",
   "source": "model.eval()",
   "id": "2b6a2d6c736de2a1",
   "outputs": [],
   "execution_count": null
  },
  {
   "metadata": {},
   "cell_type": "code",
   "source": [
    "from respiration.extractor.mtts_can import (\n",
    "    preprocess_video_frames,\n",
    "    preprocess_frames_original,\n",
    ")\n",
    "\n",
    "# resized, normalized = preprocess_frames_original(frames)\n",
    "resized, normalized = preprocess_video_frames(frames, dim=72)"
   ],
   "id": "46c35f6928b4c21a",
   "outputs": [],
   "execution_count": null
  },
  {
   "metadata": {},
   "cell_type": "code",
   "source": "resized.shape, normalized.shape",
   "id": "c9cfc5b066807c1",
   "outputs": [],
   "execution_count": null
  },
  {
   "metadata": {},
   "cell_type": "code",
   "source": [
    "import matplotlib.pyplot as plt\n",
    "\n",
    "# Plot resized and normalized frames\n",
    "_, axs = plt.subplots(1, 2, figsize=(15, 5))\n",
    "\n",
    "axs[0].imshow(resized[1])\n",
    "axs[0].set_title('Resized Frame')\n",
    "\n",
    "axs[1].imshow(normalized[1])\n",
    "axs[1].set_title('Normalized Frame')"
   ],
   "id": "c9552f139d80e2d5",
   "outputs": [],
   "execution_count": null
  },
  {
   "metadata": {},
   "cell_type": "code",
   "source": [
    "# Convert the frames to a tensor\n",
    "resized_tensor = torch.tensor(resized, device=device)\n",
    "normalized_tensor = torch.tensor(normalized, device=device)"
   ],
   "id": "764f8da473b14cfd",
   "outputs": [],
   "execution_count": null
  },
  {
   "metadata": {},
   "cell_type": "code",
   "source": "resized_tensor.shape, normalized_tensor.shape",
   "id": "573e06d38c7fe08c",
   "outputs": [],
   "execution_count": null
  },
  {
   "metadata": {},
   "cell_type": "code",
   "source": [
    "# Get the first 10 seconds of the video\n",
    "chunk_resized = resized_tensor[:500]\n",
    "chunk_normalized = normalized_tensor[:500]\n",
    "\n",
    "# Transform the tensor to the shape expected by the model (frame_count, c, w, h)\n",
    "chunk_resized = chunk_resized.permute(0, 3, 1, 2)\n",
    "chunk_normalized = chunk_normalized.permute(0, 3, 1, 2)"
   ],
   "id": "f6e72af9225b6bed",
   "outputs": [],
   "execution_count": null
  },
  {
   "metadata": {},
   "cell_type": "code",
   "source": "chunk_resized.shape",
   "id": "634c25c9d0bfecbe",
   "outputs": [],
   "execution_count": null
  },
  {
   "metadata": {},
   "cell_type": "code",
   "source": "chunk_resized.shape, chunk_normalized.shape",
   "id": "308cb478c21dc6e2",
   "outputs": [],
   "execution_count": null
  },
  {
   "metadata": {},
   "cell_type": "code",
   "source": [
    "# Combine chunk_resized and chunk_normalized into a single tensor\n",
    "chunk = torch.cat((chunk_resized, chunk_normalized), dim=1)\n",
    "chunk.shape"
   ],
   "id": "19df3e48ebe73bc6",
   "outputs": [],
   "execution_count": null
  },
  {
   "metadata": {},
   "cell_type": "code",
   "source": [
    "# Extract the rPPG signal\n",
    "with torch.no_grad():\n",
    "    rppg = model(chunk)\n",
    "\n",
    "rppg.shape"
   ],
   "id": "f4da6f5049773234",
   "outputs": [],
   "execution_count": null
  },
  {
   "metadata": {},
   "cell_type": "code",
   "source": [
    "import respiration.preprocessing as preprocessing\n",
    "\n",
    "waveform = rppg.cpu().numpy()\n",
    "waveform = preprocessing.detrend_tarvainen(waveform)"
   ],
   "id": "6ea84aca0bd934a0",
   "outputs": [],
   "execution_count": null
  },
  {
   "metadata": {},
   "cell_type": "code",
   "source": [
    "# Plot the rPPG signal\n",
    "plt.figure(figsize=(15, 5))\n",
    "plt.plot(waveform)\n",
    "plt.title('rPPG Signal')\n",
    "plt.xlabel('Frame')\n",
    "plt.ylabel('Amplitude')\n",
    "plt.show()"
   ],
   "id": "ef4da6e782ccaae9",
   "outputs": [],
   "execution_count": null
  }
 ],
 "metadata": {
  "kernelspec": {
   "display_name": "Python 3",
   "language": "python",
   "name": "python3"
  },
  "language_info": {
   "codemirror_mode": {
    "name": "ipython",
    "version": 2
   },
   "file_extension": ".py",
   "mimetype": "text/x-python",
   "name": "python",
   "nbconvert_exporter": "python",
   "pygments_lexer": "ipython2",
   "version": "2.7.6"
  }
 },
 "nbformat": 4,
 "nbformat_minor": 5
}
