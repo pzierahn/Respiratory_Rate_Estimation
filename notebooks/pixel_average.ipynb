{
 "cells": [
  {
   "metadata": {},
   "cell_type": "markdown",
   "source": [
    "# Baseline model\n",
    "\n",
    "This notebook demonstrates the baseline model for estimating the respiratory rate from a video of a person's chest. The model uses the Viola Jones algorithm to detect the face in the first frame of the video. It then calculates the region of interest (ROI) based on the face position and size. The model calculates the average pixel intensity in the chest region and applies a fast Fourier transform (FFT) to the signal. The respiratory rate is estimated by identifying the frequency that exhibits the highest amplitude within the FFT spectrum."
   ],
   "id": "d1a950d145ab9d09"
  },
  {
   "metadata": {},
   "cell_type": "code",
   "source": [
    "import respiration.dataset as repository\n",
    "\n",
    "dataset = repository.from_default()\n",
    "\n",
    "subject = 'Proband16'\n",
    "scenario = '101_natural_lighting'\n",
    "\n",
    "frames, video_params = dataset.get_video_gray(subject, scenario)"
   ],
   "id": "c2a016b1feb2436c",
   "outputs": [],
   "execution_count": null
  },
  {
   "metadata": {},
   "cell_type": "markdown",
   "source": "",
   "id": "7df52606dd34fea5"
  },
  {
   "metadata": {},
   "cell_type": "markdown",
   "source": "## Detect the face in the first frame and calculate the region of interest",
   "id": "a751d576d5fe72cc"
  },
  {
   "metadata": {},
   "cell_type": "code",
   "source": [
    "import matplotlib.pyplot as plt\n",
    "import respiration.roi as roi\n",
    "\n",
    "faces = roi.detect_faces(frames[0])\n",
    "if len(faces) == 0:\n",
    "    raise ValueError('No face detected in the first frame')\n",
    "elif len(faces) > 1:\n",
    "    raise ValueError('Multiple faces detected in the first frame')\n",
    "\n",
    "# First face position and size\n",
    "face1 = faces[0]\n",
    "\n",
    "# Calculate the region of interest (ROI) based on the face\n",
    "roi = roi.roi_from_face(faces[0])"
   ],
   "id": "8a0da5653da761ec",
   "outputs": [],
   "execution_count": null
  },
  {
   "metadata": {},
   "cell_type": "code",
   "source": [
    "import cv2\n",
    "\n",
    "# Detect the face in the first frame with Viola Jones algorithm\n",
    "frame1 = frames[0].copy()\n",
    "\n",
    "# Draw a rectangle around the face\n",
    "cv2.rectangle(frame1, (face1[0], face1[1]), (face1[0] + face1[2], face1[1] + face1[3]), (255, 0, 0), 2)\n",
    "\n",
    "# Draw a rectangle around the chest region\n",
    "cv2.rectangle(frame1, (roi[0], roi[1]), (roi[0] + roi[2], roi[1] + roi[3]), (255, 0, 0), 2)\n",
    "\n",
    "plt.figure(figsize=(5, 5))\n",
    "plt.imshow(frame1, cmap='gray')\n",
    "plt.title('Face and chest detection')\n",
    "plt.show()"
   ],
   "id": "e9dd3fc49a3e741a",
   "outputs": [],
   "execution_count": null
  },
  {
   "metadata": {},
   "cell_type": "markdown",
   "source": "## Calculate the average pixel intensity in the chest region",
   "id": "d8aa5640c525d9f3"
  },
  {
   "metadata": {},
   "cell_type": "code",
   "source": [
    "import respiration.extractor.pixel_intensity as pixel_intensity\n",
    "\n",
    "# Calculate the average pixel intensity in the chest region\n",
    "average_pixels = pixel_intensity.average_pixel_intensity(frames, roi)"
   ],
   "id": "5e5dbfa56a4f39e",
   "outputs": [],
   "execution_count": null
  },
  {
   "metadata": {},
   "cell_type": "code",
   "source": [
    "import plotly.express as px\n",
    "\n",
    "# Plot the average pixel intensity in the chest region\n",
    "fig = px.line(x=range(len(average_pixels)), y=average_pixels,\n",
    "              title='Average pixel intensity in the chest region')\n",
    "fig.show()"
   ],
   "id": "e1b4f6d5ebba2db0",
   "outputs": [],
   "execution_count": null
  },
  {
   "metadata": {},
   "cell_type": "markdown",
   "source": "## Calculate the respiratory rate",
   "id": "bc9cf3c807268ff4"
  },
  {
   "metadata": {},
   "cell_type": "code",
   "source": [
    "from respiration.analysis import FrequencyExtractor\n",
    "import respiration.analysis.fft as fft\n",
    "\n",
    "lowpass = 0.08\n",
    "highpass = 0.6\n",
    "\n",
    "# Calculate the fast fourier transform of the average pixel intensity\n",
    "frequencies, pixels_fft = fft.fft_spectrum(average_pixels, video_params.fps, lowpass, highpass)"
   ],
   "id": "2285ee0b3b90a1e4",
   "outputs": [],
   "execution_count": null
  },
  {
   "metadata": {},
   "cell_type": "code",
   "source": [
    "import numpy as np\n",
    "\n",
    "# Plot the filtered frequency spectrum\n",
    "fig = px.line(x=frequencies, y=np.abs(pixels_fft), title='Filtered Frequency spectrum')\n",
    "fig.show()"
   ],
   "id": "ce90aea6f60da4e3",
   "outputs": [],
   "execution_count": null
  },
  {
   "metadata": {},
   "cell_type": "code",
   "source": [
    "# Find the frequency with the highest amplitude\n",
    "peak_freq = frequencies[np.argmax(np.abs(pixels_fft))]\n",
    "peak_freq, peak_freq * 60"
   ],
   "id": "4bb7d6ace798f928",
   "outputs": [],
   "execution_count": null
  }
 ],
 "metadata": {
  "kernelspec": {
   "display_name": "Python 3",
   "language": "python",
   "name": "python3"
  },
  "language_info": {
   "codemirror_mode": {
    "name": "ipython",
    "version": 2
   },
   "file_extension": ".py",
   "mimetype": "text/x-python",
   "name": "python",
   "nbconvert_exporter": "python",
   "pygments_lexer": "ipython2",
   "version": "2.7.6"
  }
 },
 "nbformat": 4,
 "nbformat_minor": 5
}
