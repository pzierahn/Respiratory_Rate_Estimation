{
 "cells": [
  {
   "metadata": {},
   "cell_type": "markdown",
   "source": [
    "# Extract the respiration signals from a video\n",
    "\n",
    "This notebook extracts the raw signals for each fine-tuned EfficientPhys models."
   ],
   "id": "156541bc5c985cd6"
  },
  {
   "metadata": {},
   "cell_type": "code",
   "source": [
    "import os\n",
    "\n",
    "import numpy as np\n",
    "\n",
    "models_dirs = [\n",
    "    # Trained 5 epochs with MSE loss\n",
    "    os.path.join('..', 'models', 'efficeint_phys_fine_tuned', '20240503_174905'),\n",
    "]"
   ],
   "id": "41913a5f51b91d3",
   "outputs": [],
   "execution_count": null
  },
  {
   "metadata": {},
   "cell_type": "code",
   "source": [
    "import respiration.utils as utils\n",
    "\n",
    "device = utils.get_torch_device()\n",
    "dim = 72\n",
    "frame_depth = 20"
   ],
   "id": "58f776cb0661ee85",
   "outputs": [],
   "execution_count": null
  },
  {
   "metadata": {},
   "cell_type": "code",
   "source": [
    "model_info = []\n",
    "\n",
    "for model_dir in models_dirs:\n",
    "    manifest_path = os.path.join(model_dir, 'manifest.json')\n",
    "    manifest = utils.read_json(manifest_path)\n",
    "\n",
    "    for tuned_model in manifest['tuned_models']:\n",
    "        model_info.append({\n",
    "            'id': manifest['id'],\n",
    "            'base_model': manifest['base_model'],\n",
    "            'loss_fn': manifest['loss_fn'],\n",
    "            'model': tuned_model['model'],\n",
    "            'epoch': tuned_model['epoch'],\n",
    "            'validation_loss': tuned_model['validation_loss'],\n",
    "        })"
   ],
   "id": "8ee6b5058c138735",
   "outputs": [],
   "execution_count": null
  },
  {
   "metadata": {},
   "cell_type": "code",
   "source": [
    "import pandas as pd\n",
    "\n",
    "model_df = pd.DataFrame(model_info)\n",
    "model_df"
   ],
   "id": "e3e8df9b87b41a22",
   "outputs": [],
   "execution_count": null
  },
  {
   "metadata": {},
   "cell_type": "code",
   "source": [
    "import torch\n",
    "from respiration.extractor.efficient_phys import EfficientPhys\n",
    "\n",
    "\n",
    "def load_model(path) -> EfficientPhys:\n",
    "    # Wrap modul in nn.DataParallel\n",
    "    model = EfficientPhys(img_size=dim, frame_depth=frame_depth)\n",
    "    # Fix model loading: Some key have an extra 'module.' prefix\n",
    "    model = torch.nn.DataParallel(model)\n",
    "    model.to(device)\n",
    "    model.load_state_dict(torch.load(path, map_location=device))\n",
    "\n",
    "    _ = model.eval()\n",
    "\n",
    "    return model"
   ],
   "id": "6ecec9681f539815",
   "outputs": [],
   "execution_count": null
  },
  {
   "metadata": {},
   "cell_type": "code",
   "source": [
    "import respiration.dataset as repository\n",
    "\n",
    "dataset = repository.from_default()"
   ],
   "id": "3eabcd4e01b673c5",
   "outputs": [],
   "execution_count": null
  },
  {
   "metadata": {},
   "cell_type": "code",
   "source": [
    "def predict_signal(model: EfficientPhys, subject: str, setting: str) -> tuple[np.ndarray, int]:\n",
    "    video_path = dataset.get_video_path(subject, setting)\n",
    "    frame_count = utils.get_frame_count(video_path)\n",
    "\n",
    "    chunk_size = (frame_count // frame_depth) * frame_depth - (frame_depth - 1)\n",
    "    # chunk_size = frame_depth * 20 + 1\n",
    "\n",
    "    frames, meta = utils.read_video_rgb(video_path, chunk_size)\n",
    "    frames = utils.down_sample_video(frames, dim)\n",
    "\n",
    "    frames = torch.tensor(frames, dtype=torch.float32, device=device).permute(0, 3, 1, 2)\n",
    "\n",
    "    with torch.no_grad():\n",
    "        prediction = model(frames).cpu().detach().numpy().squeeze()\n",
    "\n",
    "    return prediction, chunk_size"
   ],
   "id": "bd644920d8c07d93",
   "outputs": [],
   "execution_count": null
  },
  {
   "metadata": {},
   "cell_type": "code",
   "source": [
    "predictions = []\n",
    "\n",
    "for model_dir in models_dirs:\n",
    "    manifest_path = os.path.join(model_dir, 'manifest.json')\n",
    "    manifest = utils.read_json(manifest_path)\n",
    "\n",
    "    best_model = manifest['tuned_models'][-1]\n",
    "    model_path = os.path.join(model_dir, best_model['model'])\n",
    "\n",
    "    model = load_model(model_path)\n",
    "\n",
    "    for scenario in manifest['testing_scenarios']:\n",
    "        if not dataset.contains(scenario[0], scenario[1]):\n",
    "            print(f\"Skipping {scenario[0]} - {scenario[1]}\")\n",
    "            continue\n",
    "\n",
    "        print(f\"Processing {scenario[0]} - {scenario[1]}\")\n",
    "        prediction, chunks = predict_signal(model, scenario[0], scenario[1])\n",
    "\n",
    "        predictions.append({\n",
    "            'id': manifest['id'],\n",
    "            'subject': scenario[0],\n",
    "            'setting': scenario[1],\n",
    "            'chunk_size': chunks,\n",
    "            'prediction': prediction,\n",
    "        })"
   ],
   "id": "89f8ceedd4fdbdcb",
   "outputs": [],
   "execution_count": null
  },
  {
   "metadata": {},
   "cell_type": "code",
   "source": [
    "prediction_df = pd.DataFrame(predictions)\n",
    "\n",
    "evaluation_dir = os.path.join('..', 'evaluation', 'efficeint_phys_fine_tuned')\n",
    "if not os.path.exists(evaluation_dir):\n",
    "    os.makedirs(evaluation_dir)\n",
    "\n",
    "evaluation_path = os.path.join(evaluation_dir, 'predictions.csv')\n",
    "prediction_df.to_csv(evaluation_path, index=False)\n",
    "\n",
    "prediction_df"
   ],
   "id": "ab2b7b98a1d93f49",
   "outputs": [],
   "execution_count": null
  }
 ],
 "metadata": {
  "kernelspec": {
   "display_name": "Python 3",
   "language": "python",
   "name": "python3"
  },
  "language_info": {
   "codemirror_mode": {
    "name": "ipython",
    "version": 2
   },
   "file_extension": ".py",
   "mimetype": "text/x-python",
   "name": "python",
   "nbconvert_exporter": "python",
   "pygments_lexer": "ipython2",
   "version": "2.7.6"
  }
 },
 "nbformat": 4,
 "nbformat_minor": 5
}
