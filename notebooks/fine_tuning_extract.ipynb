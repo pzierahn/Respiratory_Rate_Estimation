{
 "cells": [
  {
   "metadata": {},
   "cell_type": "markdown",
   "source": [
    "# Extract the respiration signals from a video\n",
    "\n",
    "This notebook extracts the raw signals for each fine-tuned EfficientPhys models."
   ],
   "id": "156541bc5c985cd6"
  },
  {
   "metadata": {
    "ExecuteTime": {
     "end_time": "2024-05-03T17:29:20.839199Z",
     "start_time": "2024-05-03T17:29:20.691668Z"
    }
   },
   "cell_type": "code",
   "source": [
    "import os\n",
    "\n",
    "import numpy as np\n",
    "\n",
    "models_dirs = [\n",
    "    # Trained 5 epochs with MSE loss\n",
    "    os.path.join('..', 'models', 'efficeint_phys_fine_tuned', '20240503_174905'),\n",
    "    # Trained 5 epochs with SoftDWT loss\n",
    "    os.path.join('..', 'models', 'efficeint_phys_fine_tuned', '20240503_190048'),\n",
    "]"
   ],
   "id": "41913a5f51b91d3",
   "outputs": [],
   "execution_count": 1
  },
  {
   "metadata": {
    "ExecuteTime": {
     "end_time": "2024-05-03T17:29:25.269438Z",
     "start_time": "2024-05-03T17:29:20.840063Z"
    }
   },
   "cell_type": "code",
   "source": [
    "import respiration.utils as utils\n",
    "\n",
    "device = utils.get_torch_device()\n",
    "dim = 72\n",
    "frame_depth = 20"
   ],
   "id": "58f776cb0661ee85",
   "outputs": [],
   "execution_count": 2
  },
  {
   "metadata": {
    "ExecuteTime": {
     "end_time": "2024-05-03T17:29:25.272580Z",
     "start_time": "2024-05-03T17:29:25.270070Z"
    }
   },
   "cell_type": "code",
   "source": [
    "model_info = []\n",
    "\n",
    "for model_dir in models_dirs:\n",
    "    manifest_path = os.path.join(model_dir, 'manifest.json')\n",
    "    manifest = utils.read_json(manifest_path)\n",
    "\n",
    "    for tuned_model in manifest['tuned_models']:\n",
    "        model_info.append({\n",
    "            'id': manifest['id'],\n",
    "            'base_model': manifest['base_model'],\n",
    "            'loss_fn': manifest['loss_fn'],\n",
    "            'model': tuned_model['model'],\n",
    "            'epoch': tuned_model['epoch'],\n",
    "            'validation_loss': tuned_model['validation_loss'],\n",
    "        })"
   ],
   "id": "8ee6b5058c138735",
   "outputs": [],
   "execution_count": 3
  },
  {
   "metadata": {
    "ExecuteTime": {
     "end_time": "2024-05-03T17:29:25.280640Z",
     "start_time": "2024-05-03T17:29:25.273177Z"
    }
   },
   "cell_type": "code",
   "source": [
    "import pandas as pd\n",
    "\n",
    "model_df = pd.DataFrame(model_info)\n",
    "model_df"
   ],
   "id": "e3e8df9b87b41a22",
   "outputs": [
    {
     "data": {
      "text/plain": [
       "                id     base_model   loss_fn                        model  \\\n",
       "0  20240503_174905  EfficientPhys       mse  model_20240503_174905_0.pth   \n",
       "1  20240503_174905  EfficientPhys       mse  model_20240503_174905_4.pth   \n",
       "2  20240503_190048  EfficientPhys  soft_dwt  model_20240503_190048_0.pth   \n",
       "3  20240503_190048  EfficientPhys  soft_dwt  model_20240503_190048_1.pth   \n",
       "\n",
       "   epoch  validation_loss  \n",
       "0      0         0.225236  \n",
       "1      4         0.076533  \n",
       "2      0       293.527710  \n",
       "3      1       166.856186  "
      ],
      "text/html": [
       "<div>\n",
       "<style scoped>\n",
       "    .dataframe tbody tr th:only-of-type {\n",
       "        vertical-align: middle;\n",
       "    }\n",
       "\n",
       "    .dataframe tbody tr th {\n",
       "        vertical-align: top;\n",
       "    }\n",
       "\n",
       "    .dataframe thead th {\n",
       "        text-align: right;\n",
       "    }\n",
       "</style>\n",
       "<table border=\"1\" class=\"dataframe\">\n",
       "  <thead>\n",
       "    <tr style=\"text-align: right;\">\n",
       "      <th></th>\n",
       "      <th>id</th>\n",
       "      <th>base_model</th>\n",
       "      <th>loss_fn</th>\n",
       "      <th>model</th>\n",
       "      <th>epoch</th>\n",
       "      <th>validation_loss</th>\n",
       "    </tr>\n",
       "  </thead>\n",
       "  <tbody>\n",
       "    <tr>\n",
       "      <th>0</th>\n",
       "      <td>20240503_174905</td>\n",
       "      <td>EfficientPhys</td>\n",
       "      <td>mse</td>\n",
       "      <td>model_20240503_174905_0.pth</td>\n",
       "      <td>0</td>\n",
       "      <td>0.225236</td>\n",
       "    </tr>\n",
       "    <tr>\n",
       "      <th>1</th>\n",
       "      <td>20240503_174905</td>\n",
       "      <td>EfficientPhys</td>\n",
       "      <td>mse</td>\n",
       "      <td>model_20240503_174905_4.pth</td>\n",
       "      <td>4</td>\n",
       "      <td>0.076533</td>\n",
       "    </tr>\n",
       "    <tr>\n",
       "      <th>2</th>\n",
       "      <td>20240503_190048</td>\n",
       "      <td>EfficientPhys</td>\n",
       "      <td>soft_dwt</td>\n",
       "      <td>model_20240503_190048_0.pth</td>\n",
       "      <td>0</td>\n",
       "      <td>293.527710</td>\n",
       "    </tr>\n",
       "    <tr>\n",
       "      <th>3</th>\n",
       "      <td>20240503_190048</td>\n",
       "      <td>EfficientPhys</td>\n",
       "      <td>soft_dwt</td>\n",
       "      <td>model_20240503_190048_1.pth</td>\n",
       "      <td>1</td>\n",
       "      <td>166.856186</td>\n",
       "    </tr>\n",
       "  </tbody>\n",
       "</table>\n",
       "</div>"
      ]
     },
     "execution_count": 4,
     "metadata": {},
     "output_type": "execute_result"
    }
   ],
   "execution_count": 4
  },
  {
   "metadata": {
    "ExecuteTime": {
     "end_time": "2024-05-03T17:29:25.285055Z",
     "start_time": "2024-05-03T17:29:25.281825Z"
    }
   },
   "cell_type": "code",
   "source": [
    "import torch\n",
    "from respiration.extractor.efficient_phys import EfficientPhys\n",
    "\n",
    "\n",
    "def load_model(path) -> EfficientPhys:\n",
    "    # Wrap modul in nn.DataParallel\n",
    "    model = EfficientPhys(img_size=dim, frame_depth=frame_depth)\n",
    "    # Fix model loading: Some key have an extra 'module.' prefix\n",
    "    model = torch.nn.DataParallel(model)\n",
    "    model.to(device)\n",
    "    model.load_state_dict(torch.load(path, map_location=device))\n",
    "\n",
    "    _ = model.eval()\n",
    "\n",
    "    return model"
   ],
   "id": "6ecec9681f539815",
   "outputs": [],
   "execution_count": 5
  },
  {
   "metadata": {
    "ExecuteTime": {
     "end_time": "2024-05-03T17:29:25.286824Z",
     "start_time": "2024-05-03T17:29:25.285629Z"
    }
   },
   "cell_type": "code",
   "source": [
    "import respiration.dataset as repository\n",
    "\n",
    "dataset = repository.from_default()"
   ],
   "id": "3eabcd4e01b673c5",
   "outputs": [],
   "execution_count": 6
  },
  {
   "metadata": {
    "ExecuteTime": {
     "end_time": "2024-05-03T17:29:25.289313Z",
     "start_time": "2024-05-03T17:29:25.287297Z"
    }
   },
   "cell_type": "code",
   "source": [
    "def predict_signal(model: EfficientPhys, subject: str, setting: str) -> tuple[np.ndarray, int, int]:\n",
    "    video_path = dataset.get_video_path(subject, setting)\n",
    "    frame_count = utils.get_frame_count(video_path)\n",
    "\n",
    "    chunk_size = (frame_count // frame_depth) * frame_depth - (frame_depth - 1)\n",
    "    # chunk_size = frame_depth * 20 + 1\n",
    "\n",
    "    frames, meta = utils.read_video_rgb(video_path, chunk_size)\n",
    "    frames = utils.down_sample_video(frames, dim)\n",
    "\n",
    "    frames = torch.tensor(frames, dtype=torch.float32, device=device).permute(0, 3, 1, 2)\n",
    "\n",
    "    with torch.no_grad():\n",
    "        prediction = model(frames).cpu().detach().numpy().squeeze()\n",
    "        \n",
    "    del frames\n",
    "\n",
    "    return prediction, chunk_size, meta.fps"
   ],
   "id": "bd644920d8c07d93",
   "outputs": [],
   "execution_count": 7
  },
  {
   "metadata": {
    "ExecuteTime": {
     "end_time": "2024-05-03T17:31:24.749230Z",
     "start_time": "2024-05-03T17:29:25.289838Z"
    }
   },
   "cell_type": "code",
   "source": [
    "predictions = []\n",
    "\n",
    "for model_dir in models_dirs:\n",
    "    manifest_path = os.path.join(model_dir, 'manifest.json')\n",
    "    manifest = utils.read_json(manifest_path)\n",
    "\n",
    "    best_model = manifest['tuned_models'][-1]\n",
    "    model_path = os.path.join(model_dir, best_model['model'])\n",
    "\n",
    "    model = load_model(model_path)\n",
    "\n",
    "    for scenario in manifest['testing_scenarios']:\n",
    "        if not dataset.contains(scenario[0], scenario[1]):\n",
    "            print(f'Skipping {scenario[0]} - {scenario[1]}')\n",
    "            continue\n",
    "\n",
    "        print(f'Processing {scenario[0]} - {scenario[1]}')\n",
    "        prediction, chunks, fps = predict_signal(model, scenario[0], scenario[1])\n",
    "\n",
    "        predictions.append({\n",
    "            'id': manifest['id'],\n",
    "            'subject': scenario[0],\n",
    "            'setting': scenario[1],\n",
    "            'chunk_size': chunks,\n",
    "            'fps': fps,\n",
    "            'prediction': prediction.tolist(),\n",
    "        })"
   ],
   "id": "89f8ceedd4fdbdcb",
   "outputs": [
    {
     "name": "stdout",
     "output_type": "stream",
     "text": [
      "Processing Proband26 - 101_natural_lighting\n",
      "Processing Proband26 - 101_natural_lighting\n"
     ]
    }
   ],
   "execution_count": 8
  },
  {
   "metadata": {
    "ExecuteTime": {
     "end_time": "2024-05-03T17:31:25.187884Z",
     "start_time": "2024-05-03T17:31:24.858830Z"
    }
   },
   "cell_type": "code",
   "source": [
    "prediction_df = pd.DataFrame(predictions)\n",
    "\n",
    "evaluation_dir = os.path.join('..', 'evaluation', 'efficeint_phys_fine_tuned')\n",
    "if not os.path.exists(evaluation_dir):\n",
    "    os.makedirs(evaluation_dir)\n",
    "\n",
    "evaluation_path = os.path.join(evaluation_dir, 'predictions.csv')\n",
    "prediction_df.to_csv(evaluation_path, index=False)\n",
    "\n",
    "prediction_df"
   ],
   "id": "ab2b7b98a1d93f49",
   "outputs": [
    {
     "data": {
      "text/plain": [
       "                id    subject               setting  chunk_size  fps  \\\n",
       "0  20240503_174905  Proband26  101_natural_lighting        3581   30   \n",
       "1  20240503_190048  Proband26  101_natural_lighting        3581   30   \n",
       "\n",
       "                                          prediction  \n",
       "0  [0.17320716381072998, 0.10809916257858276, 0.1...  \n",
       "1  [-0.37972742319107056, -0.2880082130432129, -0...  "
      ],
      "text/html": [
       "<div>\n",
       "<style scoped>\n",
       "    .dataframe tbody tr th:only-of-type {\n",
       "        vertical-align: middle;\n",
       "    }\n",
       "\n",
       "    .dataframe tbody tr th {\n",
       "        vertical-align: top;\n",
       "    }\n",
       "\n",
       "    .dataframe thead th {\n",
       "        text-align: right;\n",
       "    }\n",
       "</style>\n",
       "<table border=\"1\" class=\"dataframe\">\n",
       "  <thead>\n",
       "    <tr style=\"text-align: right;\">\n",
       "      <th></th>\n",
       "      <th>id</th>\n",
       "      <th>subject</th>\n",
       "      <th>setting</th>\n",
       "      <th>chunk_size</th>\n",
       "      <th>fps</th>\n",
       "      <th>prediction</th>\n",
       "    </tr>\n",
       "  </thead>\n",
       "  <tbody>\n",
       "    <tr>\n",
       "      <th>0</th>\n",
       "      <td>20240503_174905</td>\n",
       "      <td>Proband26</td>\n",
       "      <td>101_natural_lighting</td>\n",
       "      <td>3581</td>\n",
       "      <td>30</td>\n",
       "      <td>[0.17320716381072998, 0.10809916257858276, 0.1...</td>\n",
       "    </tr>\n",
       "    <tr>\n",
       "      <th>1</th>\n",
       "      <td>20240503_190048</td>\n",
       "      <td>Proband26</td>\n",
       "      <td>101_natural_lighting</td>\n",
       "      <td>3581</td>\n",
       "      <td>30</td>\n",
       "      <td>[-0.37972742319107056, -0.2880082130432129, -0...</td>\n",
       "    </tr>\n",
       "  </tbody>\n",
       "</table>\n",
       "</div>"
      ]
     },
     "execution_count": 9,
     "metadata": {},
     "output_type": "execute_result"
    }
   ],
   "execution_count": 9
  }
 ],
 "metadata": {
  "kernelspec": {
   "display_name": "Python 3",
   "language": "python",
   "name": "python3"
  },
  "language_info": {
   "codemirror_mode": {
    "name": "ipython",
    "version": 2
   },
   "file_extension": ".py",
   "mimetype": "text/x-python",
   "name": "python",
   "nbconvert_exporter": "python",
   "pygments_lexer": "ipython2",
   "version": "2.7.6"
  }
 },
 "nbformat": 4,
 "nbformat_minor": 5
}
