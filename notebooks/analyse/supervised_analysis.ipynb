{
 "cells": [
  {
   "metadata": {},
   "cell_type": "markdown",
   "source": "# Analysis of unsupervised models",
   "id": "ab8bdee78031cc65"
  },
  {
   "cell_type": "code",
   "id": "initial_id",
   "metadata": {
    "collapsed": true,
    "ExecuteTime": {
     "end_time": "2024-05-05T19:05:06.259568Z",
     "start_time": "2024-05-05T19:05:04.861841Z"
    }
   },
   "source": [
    "import os\n",
    "\n",
    "import numpy as np\n",
    "import pandas as pd\n",
    "\n",
    "evaluation_dir = os.path.join(os.getcwd(), '..', '..', 'evaluation')\n",
    "predictions_file = os.path.join(evaluation_dir, 'supervised.csv')\n",
    "\n",
    "predictions = pd.read_csv(predictions_file)\n",
    "predictions['signal'] = predictions['signal'].apply(eval).apply(np.array)\n",
    "predictions['duration'] = pd.to_timedelta(predictions['duration'])\n",
    "\n",
    "ground_truth_file = os.path.join(evaluation_dir, 'ground_truth.csv')\n",
    "ground_truth = pd.read_csv(ground_truth_file)\n",
    "ground_truth['signal'] = ground_truth['signal'].apply(eval).apply(np.array)\n",
    "\n",
    "predictions.head()"
   ],
   "outputs": [
    {
     "data": {
      "text/plain": [
       "     subject               setting     method         execution_time  \\\n",
       "0  Proband01  101_natural_lighting   mtts_can 0 days 00:00:09.877512   \n",
       "1  Proband01  101_natural_lighting  big_small 0 days 00:03:24.014127   \n",
       "2  Proband02  101_natural_lighting   mtts_can 0 days 00:00:16.431936   \n",
       "3  Proband02  101_natural_lighting  big_small 0 days 00:02:37.844673   \n",
       "4  Proband03  101_natural_lighting   mtts_can 0 days 00:00:23.953848   \n",
       "\n",
       "   sample_rate                                             signal  \n",
       "0           30  [0.5544167160987854, 0.9687221050262451, 1.162...  \n",
       "1           30  [0.07677064090967178, 0.07124900072813034, -0....  \n",
       "2           30  [0.2787117063999176, 0.13486619293689728, 0.48...  \n",
       "3           30  [-0.5299593210220337, -0.5200148224830627, -0....  \n",
       "4           30  [-0.07859578728675842, -0.4248553514480591, -0...  "
      ],
      "text/html": [
       "<div>\n",
       "<style scoped>\n",
       "    .dataframe tbody tr th:only-of-type {\n",
       "        vertical-align: middle;\n",
       "    }\n",
       "\n",
       "    .dataframe tbody tr th {\n",
       "        vertical-align: top;\n",
       "    }\n",
       "\n",
       "    .dataframe thead th {\n",
       "        text-align: right;\n",
       "    }\n",
       "</style>\n",
       "<table border=\"1\" class=\"dataframe\">\n",
       "  <thead>\n",
       "    <tr style=\"text-align: right;\">\n",
       "      <th></th>\n",
       "      <th>subject</th>\n",
       "      <th>setting</th>\n",
       "      <th>method</th>\n",
       "      <th>execution_time</th>\n",
       "      <th>sample_rate</th>\n",
       "      <th>signal</th>\n",
       "    </tr>\n",
       "  </thead>\n",
       "  <tbody>\n",
       "    <tr>\n",
       "      <th>0</th>\n",
       "      <td>Proband01</td>\n",
       "      <td>101_natural_lighting</td>\n",
       "      <td>mtts_can</td>\n",
       "      <td>0 days 00:00:09.877512</td>\n",
       "      <td>30</td>\n",
       "      <td>[0.5544167160987854, 0.9687221050262451, 1.162...</td>\n",
       "    </tr>\n",
       "    <tr>\n",
       "      <th>1</th>\n",
       "      <td>Proband01</td>\n",
       "      <td>101_natural_lighting</td>\n",
       "      <td>big_small</td>\n",
       "      <td>0 days 00:03:24.014127</td>\n",
       "      <td>30</td>\n",
       "      <td>[0.07677064090967178, 0.07124900072813034, -0....</td>\n",
       "    </tr>\n",
       "    <tr>\n",
       "      <th>2</th>\n",
       "      <td>Proband02</td>\n",
       "      <td>101_natural_lighting</td>\n",
       "      <td>mtts_can</td>\n",
       "      <td>0 days 00:00:16.431936</td>\n",
       "      <td>30</td>\n",
       "      <td>[0.2787117063999176, 0.13486619293689728, 0.48...</td>\n",
       "    </tr>\n",
       "    <tr>\n",
       "      <th>3</th>\n",
       "      <td>Proband02</td>\n",
       "      <td>101_natural_lighting</td>\n",
       "      <td>big_small</td>\n",
       "      <td>0 days 00:02:37.844673</td>\n",
       "      <td>30</td>\n",
       "      <td>[-0.5299593210220337, -0.5200148224830627, -0....</td>\n",
       "    </tr>\n",
       "    <tr>\n",
       "      <th>4</th>\n",
       "      <td>Proband03</td>\n",
       "      <td>101_natural_lighting</td>\n",
       "      <td>mtts_can</td>\n",
       "      <td>0 days 00:00:23.953848</td>\n",
       "      <td>30</td>\n",
       "      <td>[-0.07859578728675842, -0.4248553514480591, -0...</td>\n",
       "    </tr>\n",
       "  </tbody>\n",
       "</table>\n",
       "</div>"
      ]
     },
     "execution_count": 1,
     "metadata": {},
     "output_type": "execute_result"
    }
   ],
   "execution_count": 1
  },
  {
   "metadata": {},
   "cell_type": "markdown",
   "source": "## Frequency extraction evaluation",
   "id": "dac9f58f30a88636"
  },
  {
   "metadata": {
    "jupyter": {
     "is_executing": true
    },
    "ExecuteTime": {
     "start_time": "2024-05-05T19:07:03.411254Z"
    }
   },
   "cell_type": "code",
   "source": [
    "import respiration.analysis as analysis\n",
    "import tqdm.auto as tqdm\n",
    "\n",
    "lowpass = 0.08\n",
    "highpass = 0.6\n",
    "\n",
    "analysis_results = []\n",
    "\n",
    "for index, row in tqdm.tqdm(predictions.iterrows(), total=len(predictions)):\n",
    "    subject, setting = row['subject'], row['setting']\n",
    "\n",
    "    # Get the ground truth signal and sampling rate\n",
    "    gt_signal, gt_sampling_rate = ground_truth[\n",
    "        (ground_truth['subject'] == subject) &\n",
    "        (ground_truth['setting'] == setting)\n",
    "        ][['signal', 'sample_rate']].values[0]\n",
    "\n",
    "    prediction, sampling_rate = row['signal'], row['sample_rate']\n",
    "\n",
    "    compare = analysis.SignalCompare(\n",
    "        prediction,\n",
    "        sampling_rate,\n",
    "        gt_signal,\n",
    "        gt_sampling_rate,\n",
    "    )\n",
    "\n",
    "    for metric, result in compare.distances().items():\n",
    "        analysis_results.append({\n",
    "            'subject': subject,\n",
    "            'setting': setting,\n",
    "            'method': row['method'],\n",
    "            'metric': metric,\n",
    "            'result': result,\n",
    "        })\n",
    "\n",
    "analysis_results = pd.DataFrame(analysis_results)"
   ],
   "id": "51983551b157c2c1",
   "outputs": [
    {
     "data": {
      "text/plain": [
       "  0%|          | 0/52 [00:00<?, ?it/s]"
      ],
      "application/vnd.jupyter.widget-view+json": {
       "version_major": 2,
       "version_minor": 0,
       "model_id": "3bafec78d82744d39e83b0d8d68ce03f"
      }
     },
     "metadata": {},
     "output_type": "display_data"
    }
   ],
   "execution_count": null
  },
  {
   "metadata": {
    "ExecuteTime": {
     "end_time": "2024-05-05T19:05:27.040300Z",
     "start_time": "2024-05-05T19:05:27.040179Z"
    }
   },
   "cell_type": "code",
   "source": "analysis_results",
   "id": "c5721645c908577",
   "outputs": [],
   "execution_count": null
  }
 ],
 "metadata": {
  "kernelspec": {
   "display_name": "Python 3",
   "language": "python",
   "name": "python3"
  },
  "language_info": {
   "codemirror_mode": {
    "name": "ipython",
    "version": 2
   },
   "file_extension": ".py",
   "mimetype": "text/x-python",
   "name": "python",
   "nbconvert_exporter": "python",
   "pygments_lexer": "ipython2",
   "version": "2.7.6"
  }
 },
 "nbformat": 4,
 "nbformat_minor": 5
}
