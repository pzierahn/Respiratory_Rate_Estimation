{
 "cells": [
  {
   "metadata": {},
   "cell_type": "markdown",
   "source": "# Combine analysis results",
   "id": "c94be0da1a891e6a"
  },
  {
   "cell_type": "code",
   "id": "initial_id",
   "metadata": {
    "collapsed": true
   },
   "source": [
    "import os\n",
    "import pandas as pd\n",
    "\n",
    "figure_dir = os.path.join('..', '..', 'figures')\n",
    "os.makedirs(figure_dir, exist_ok=True)\n",
    "\n",
    "evaluation_dir = os.path.join('..', '..', 'evaluation')\n",
    "fine_tuned_path = os.path.join(evaluation_dir, 'efficeint_phys_fine_tuned', 'analysis.csv')\n",
    "pretrained_path = os.path.join(evaluation_dir, 'pretrained', 'analysis.csv')\n",
    "unsupervised_path = os.path.join(evaluation_dir, 'unsupervised', 'analysis.csv')\n",
    "\n",
    "fine_tuned = pd.read_csv(fine_tuned_path)\n",
    "pretrained = pd.read_csv(pretrained_path)\n",
    "unsupervised = pd.read_csv(unsupervised_path)"
   ],
   "outputs": [],
   "execution_count": null
  },
  {
   "metadata": {},
   "cell_type": "markdown",
   "source": "## Harmonize analysis results",
   "id": "9406c34f8aa86289"
  },
  {
   "metadata": {},
   "cell_type": "code",
   "source": [
    "# Only keep roi==chest, because it is the most accurate\n",
    "unsupervised = unsupervised[unsupervised['roi'] == 'chest']\n",
    "\n",
    "# Remove roi column\n",
    "unsupervised = unsupervised.drop(columns=['roi'])\n",
    "\n",
    "# Rename method to model\n",
    "unsupervised = unsupervised.rename(columns={'method': 'model'})"
   ],
   "id": "2d762b7b5ee40cdb",
   "outputs": [],
   "execution_count": null
  },
  {
   "metadata": {},
   "cell_type": "code",
   "source": [
    "# Rename model_id to model\n",
    "fine_tuned = fine_tuned.rename(columns={'model_id': 'model'})"
   ],
   "id": "a8f4baeb98e0d0ae",
   "outputs": [],
   "execution_count": null
  },
  {
   "metadata": {},
   "cell_type": "code",
   "source": [
    "# Merge all dataframes\n",
    "analysis = pd.concat([fine_tuned, pretrained, unsupervised])\n",
    "\n",
    "metrics = [\n",
    "    'pk_error',\n",
    "    'cp_error',\n",
    "    'nfcp_error',\n",
    "    'fft_error',\n",
    "    'distance_mse',\n",
    "    'distance_pearson',\n",
    "    'distance_dtw',\n",
    "]\n",
    "\n",
    "# Only keep relevant metrics\n",
    "analysis = analysis[analysis['metric'].isin(metrics)]"
   ],
   "id": "54badc2ce30e41ee",
   "outputs": [],
   "execution_count": null
  },
  {
   "metadata": {},
   "cell_type": "markdown",
   "source": "## Compare all models",
   "id": "3ff5d94c779387f7"
  },
  {
   "metadata": {},
   "cell_type": "code",
   "source": "analysis",
   "id": "804dbdea67a61535",
   "outputs": [],
   "execution_count": null
  },
  {
   "metadata": {},
   "cell_type": "code",
   "source": [
    "model_scores = []\n",
    "\n",
    "for model in analysis['model'].unique():\n",
    "    model_data = analysis[analysis['model'] == model]\n",
    "\n",
    "    for metric in metrics:\n",
    "        metric_data = model_data[model_data['metric'] == metric]\n",
    "        if len(metric_data) != 0:\n",
    "            model_scores.append({\n",
    "                'model': model,\n",
    "                'metric': metric,\n",
    "                'mean': metric_data['result'].mean(),\n",
    "                'std': metric_data['result'].std(),\n",
    "            })\n",
    "\n",
    "model_scores = pd.DataFrame(model_scores)\n",
    "model_scores"
   ],
   "id": "4085ef53254ae319",
   "outputs": [],
   "execution_count": null
  },
  {
   "metadata": {},
   "cell_type": "code",
   "source": [
    "# Determine the best model for each metric\n",
    "best_models = []\n",
    "\n",
    "for metric in metrics:\n",
    "    metric_data = model_scores[model_scores['metric'] == metric]\n",
    "\n",
    "    if metric == \"distance_pearson\":\n",
    "        value = metric_data['mean'].max()\n",
    "    else:\n",
    "        value = metric_data['mean'].min()\n",
    "\n",
    "    best_model = metric_data[metric_data['mean'] == value]\n",
    "    best_models.append(best_model)\n",
    "\n",
    "best_models = pd.concat(best_models)\n",
    "best_models"
   ],
   "id": "f6e933a136d5acdd",
   "outputs": [],
   "execution_count": null
  },
  {
   "metadata": {},
   "cell_type": "code",
   "source": [
    "import matplotlib.pyplot as plt\n",
    "\n",
    "fig, axes = plt.subplots(len(metrics), 1, figsize=(20, 20))\n",
    "\n",
    "# Add some space between the plots\n",
    "fig.tight_layout(pad=10.0)\n",
    "\n",
    "# Add some space between the plots\n",
    "fig.tight_layout(pad=5.0)\n",
    "\n",
    "fig.suptitle('Comparison of models')\n",
    "\n",
    "for idx, metric in enumerate(metrics):\n",
    "    ax = axes[idx]\n",
    "    scores = model_scores[model_scores['metric'] == metric]\n",
    "\n",
    "    for _, data in scores.iterrows():\n",
    "        ax.bar(data['model'], data['mean'], yerr=data['std'], capsize=5)\n",
    "\n",
    "    ax.set_title(metric)\n",
    "    ax.set_ylabel(metric)\n",
    "    ax.set_xlabel('Model')\n",
    "\n",
    "    # Rotate the x-axis labels\n",
    "    for tick in ax.get_xticklabels():\n",
    "        tick.set_rotation(0)\n",
    "\n",
    "# Store the plot as svg\n",
    "plot_file = os.path.join(figure_dir, 'model_comparison.svg')\n",
    "plt.savefig(plot_file, format='svg')"
   ],
   "id": "2f346dfac4bc9270",
   "outputs": [],
   "execution_count": null
  }
 ],
 "metadata": {
  "kernelspec": {
   "display_name": "Python 3",
   "language": "python",
   "name": "python3"
  },
  "language_info": {
   "codemirror_mode": {
    "name": "ipython",
    "version": 2
   },
   "file_extension": ".py",
   "mimetype": "text/x-python",
   "name": "python",
   "nbconvert_exporter": "python",
   "pygments_lexer": "ipython2",
   "version": "2.7.6"
  }
 },
 "nbformat": 4,
 "nbformat_minor": 5
}
