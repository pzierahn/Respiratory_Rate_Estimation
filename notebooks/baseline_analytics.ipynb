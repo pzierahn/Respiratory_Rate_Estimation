{
 "cells": [
  {
   "metadata": {},
   "cell_type": "markdown",
   "source": "# Evaluation of the baseline model",
   "id": "38e956b3ed09bf01"
  },
  {
   "cell_type": "code",
   "id": "initial_id",
   "metadata": {
    "collapsed": true,
    "ExecuteTime": {
     "end_time": "2024-04-14T16:20:08.293138Z",
     "start_time": "2024-04-14T16:20:07.936135Z"
    }
   },
   "source": [
    "import numpy as np\n",
    "import pandas as pd\n",
    "import json\n",
    "\n",
    "evaluation_path = '../evaluation/baseline'\n",
    "\n",
    "# Read the data\n",
    "evaluation = pd.read_csv(f'{evaluation_path}/baseline_evaluation.csv')\n",
    "\n",
    "metadata = json.load(open(f'{evaluation_path}/baseline_hyperparameters.json'))"
   ],
   "outputs": [],
   "execution_count": 1
  },
  {
   "metadata": {
    "ExecuteTime": {
     "end_time": "2024-04-14T16:20:08.298185Z",
     "start_time": "2024-04-14T16:20:08.295044Z"
    }
   },
   "cell_type": "code",
   "source": [
    "from datetime import datetime as dt\n",
    "\n",
    "start_time = dt.strptime(metadata['start_time'], '%Y-%m-%d %H:%M:%S.%f')\n",
    "end_time = dt.strptime(metadata['end_time'], '%Y-%m-%d %H:%M:%S.%f')\n",
    "\n",
    "# Calculate the duration of the evaluation\n",
    "duration = end_time - start_time\n",
    "\n",
    "print(f'The evaluation took {duration.seconds // 60} minutes')"
   ],
   "id": "53dc0a31a3e13f54",
   "outputs": [
    {
     "name": "stdout",
     "output_type": "stream",
     "text": [
      "The evaluation took 135 minutes\n"
     ]
    }
   ],
   "execution_count": 2
  },
  {
   "metadata": {
    "ExecuteTime": {
     "end_time": "2024-04-14T16:20:08.304301Z",
     "start_time": "2024-04-14T16:20:08.299412Z"
    }
   },
   "cell_type": "code",
   "source": [
    "# Calculate the absolute error\n",
    "evaluation['abs_error'] = np.abs(evaluation['estimated_respiration_rate'] - evaluation['gt_respiration_rate'])"
   ],
   "id": "15c0994368722a99",
   "outputs": [],
   "execution_count": 3
  },
  {
   "metadata": {
    "ExecuteTime": {
     "end_time": "2024-04-14T16:20:08.316584Z",
     "start_time": "2024-04-14T16:20:08.306548Z"
    }
   },
   "cell_type": "code",
   "source": "evaluation",
   "id": "cc4c126c4c62f1ab",
   "outputs": [
    {
     "data": {
      "text/plain": [
       "       subject                        scenario  estimated_respiration_rate  \\\n",
       "0    Proband01            101_natural_lighting                        21.0   \n",
       "1    Proband01    103_abrupt_changing_lighting                         6.0   \n",
       "2    Proband01  104_dim_lighting_auto_exposure                         7.0   \n",
       "3    Proband01               201_shouldercheck                        20.0   \n",
       "4    Proband01              202_scale_movement                        10.0   \n",
       "..         ...                             ...                         ...   \n",
       "148  Proband26    103_abrupt_changing_lighting                        16.0   \n",
       "149  Proband26  104_dim_lighting_auto_exposure                         6.0   \n",
       "150  Proband26               201_shouldercheck                        17.5   \n",
       "151  Proband26              202_scale_movement                        20.0   \n",
       "152  Proband26        203_translation_movement                        10.0   \n",
       "\n",
       "     estimated_freq  gt_respiration_rate   gt_freq  abs_error  \n",
       "0          0.350000            22.473282  0.374555   1.473282  \n",
       "1          0.100000            22.470424  0.374507  16.470424  \n",
       "2          0.116667            21.487982  0.358133  14.487982  \n",
       "3          0.333333            21.021006  0.350350   1.021006  \n",
       "4          0.166667            20.994278  0.349905  10.994278  \n",
       "..              ...                  ...       ...        ...  \n",
       "148        0.266667            16.089385  0.268156   0.089385  \n",
       "149        0.100000            13.164043  0.219401   7.164043  \n",
       "150        0.291667            17.565438  0.292757   0.065438  \n",
       "151        0.333333            10.246506  0.170775   9.753494  \n",
       "152        0.166667            15.120030  0.252001   5.120030  \n",
       "\n",
       "[153 rows x 7 columns]"
      ],
      "text/html": [
       "<div>\n",
       "<style scoped>\n",
       "    .dataframe tbody tr th:only-of-type {\n",
       "        vertical-align: middle;\n",
       "    }\n",
       "\n",
       "    .dataframe tbody tr th {\n",
       "        vertical-align: top;\n",
       "    }\n",
       "\n",
       "    .dataframe thead th {\n",
       "        text-align: right;\n",
       "    }\n",
       "</style>\n",
       "<table border=\"1\" class=\"dataframe\">\n",
       "  <thead>\n",
       "    <tr style=\"text-align: right;\">\n",
       "      <th></th>\n",
       "      <th>subject</th>\n",
       "      <th>scenario</th>\n",
       "      <th>estimated_respiration_rate</th>\n",
       "      <th>estimated_freq</th>\n",
       "      <th>gt_respiration_rate</th>\n",
       "      <th>gt_freq</th>\n",
       "      <th>abs_error</th>\n",
       "    </tr>\n",
       "  </thead>\n",
       "  <tbody>\n",
       "    <tr>\n",
       "      <th>0</th>\n",
       "      <td>Proband01</td>\n",
       "      <td>101_natural_lighting</td>\n",
       "      <td>21.0</td>\n",
       "      <td>0.350000</td>\n",
       "      <td>22.473282</td>\n",
       "      <td>0.374555</td>\n",
       "      <td>1.473282</td>\n",
       "    </tr>\n",
       "    <tr>\n",
       "      <th>1</th>\n",
       "      <td>Proband01</td>\n",
       "      <td>103_abrupt_changing_lighting</td>\n",
       "      <td>6.0</td>\n",
       "      <td>0.100000</td>\n",
       "      <td>22.470424</td>\n",
       "      <td>0.374507</td>\n",
       "      <td>16.470424</td>\n",
       "    </tr>\n",
       "    <tr>\n",
       "      <th>2</th>\n",
       "      <td>Proband01</td>\n",
       "      <td>104_dim_lighting_auto_exposure</td>\n",
       "      <td>7.0</td>\n",
       "      <td>0.116667</td>\n",
       "      <td>21.487982</td>\n",
       "      <td>0.358133</td>\n",
       "      <td>14.487982</td>\n",
       "    </tr>\n",
       "    <tr>\n",
       "      <th>3</th>\n",
       "      <td>Proband01</td>\n",
       "      <td>201_shouldercheck</td>\n",
       "      <td>20.0</td>\n",
       "      <td>0.333333</td>\n",
       "      <td>21.021006</td>\n",
       "      <td>0.350350</td>\n",
       "      <td>1.021006</td>\n",
       "    </tr>\n",
       "    <tr>\n",
       "      <th>4</th>\n",
       "      <td>Proband01</td>\n",
       "      <td>202_scale_movement</td>\n",
       "      <td>10.0</td>\n",
       "      <td>0.166667</td>\n",
       "      <td>20.994278</td>\n",
       "      <td>0.349905</td>\n",
       "      <td>10.994278</td>\n",
       "    </tr>\n",
       "    <tr>\n",
       "      <th>...</th>\n",
       "      <td>...</td>\n",
       "      <td>...</td>\n",
       "      <td>...</td>\n",
       "      <td>...</td>\n",
       "      <td>...</td>\n",
       "      <td>...</td>\n",
       "      <td>...</td>\n",
       "    </tr>\n",
       "    <tr>\n",
       "      <th>148</th>\n",
       "      <td>Proband26</td>\n",
       "      <td>103_abrupt_changing_lighting</td>\n",
       "      <td>16.0</td>\n",
       "      <td>0.266667</td>\n",
       "      <td>16.089385</td>\n",
       "      <td>0.268156</td>\n",
       "      <td>0.089385</td>\n",
       "    </tr>\n",
       "    <tr>\n",
       "      <th>149</th>\n",
       "      <td>Proband26</td>\n",
       "      <td>104_dim_lighting_auto_exposure</td>\n",
       "      <td>6.0</td>\n",
       "      <td>0.100000</td>\n",
       "      <td>13.164043</td>\n",
       "      <td>0.219401</td>\n",
       "      <td>7.164043</td>\n",
       "    </tr>\n",
       "    <tr>\n",
       "      <th>150</th>\n",
       "      <td>Proband26</td>\n",
       "      <td>201_shouldercheck</td>\n",
       "      <td>17.5</td>\n",
       "      <td>0.291667</td>\n",
       "      <td>17.565438</td>\n",
       "      <td>0.292757</td>\n",
       "      <td>0.065438</td>\n",
       "    </tr>\n",
       "    <tr>\n",
       "      <th>151</th>\n",
       "      <td>Proband26</td>\n",
       "      <td>202_scale_movement</td>\n",
       "      <td>20.0</td>\n",
       "      <td>0.333333</td>\n",
       "      <td>10.246506</td>\n",
       "      <td>0.170775</td>\n",
       "      <td>9.753494</td>\n",
       "    </tr>\n",
       "    <tr>\n",
       "      <th>152</th>\n",
       "      <td>Proband26</td>\n",
       "      <td>203_translation_movement</td>\n",
       "      <td>10.0</td>\n",
       "      <td>0.166667</td>\n",
       "      <td>15.120030</td>\n",
       "      <td>0.252001</td>\n",
       "      <td>5.120030</td>\n",
       "    </tr>\n",
       "  </tbody>\n",
       "</table>\n",
       "<p>153 rows × 7 columns</p>\n",
       "</div>"
      ]
     },
     "execution_count": 4,
     "metadata": {},
     "output_type": "execute_result"
    }
   ],
   "execution_count": 4
  },
  {
   "metadata": {
    "ExecuteTime": {
     "end_time": "2024-04-14T16:20:08.323705Z",
     "start_time": "2024-04-14T16:20:08.318102Z"
    }
   },
   "cell_type": "code",
   "source": [
    "scenarios = evaluation['scenario'].unique()\n",
    "\n",
    "results = []\n",
    "\n",
    "for scenario in scenarios:\n",
    "    # Select the data for the scenario\n",
    "    scenario_data = evaluation[evaluation['scenario'] == scenario]\n",
    "\n",
    "    # Mean absolute error\n",
    "    mae = scenario_data['abs_error'].mean()\n",
    "\n",
    "    # Root mean squared error\n",
    "    rmse = np.sqrt((scenario_data['abs_error'] ** 2).mean())\n",
    "\n",
    "    # Mean squared error\n",
    "    mse = (scenario_data['abs_error'] ** 2).mean()\n",
    "\n",
    "    results.append({\n",
    "        'scenario': scenario,\n",
    "        'mae': mae,\n",
    "        'rmse': rmse,\n",
    "        'mse': mse\n",
    "    })"
   ],
   "id": "b45d5431df6315e9",
   "outputs": [],
   "execution_count": 5
  },
  {
   "metadata": {
    "ExecuteTime": {
     "end_time": "2024-04-14T16:20:08.330663Z",
     "start_time": "2024-04-14T16:20:08.324904Z"
    }
   },
   "cell_type": "code",
   "source": [
    "evaluation_results = pd.DataFrame(results)\n",
    "evaluation_results"
   ],
   "id": "756389bcfe27cbf3",
   "outputs": [
    {
     "data": {
      "text/plain": [
       "                         scenario       mae       rmse         mse\n",
       "0            101_natural_lighting  3.393401   5.590020   31.248329\n",
       "1    103_abrupt_changing_lighting  6.069299   8.058307   64.936308\n",
       "2  104_dim_lighting_auto_exposure  8.919607  10.447098  109.141867\n",
       "3               201_shouldercheck  5.432034   7.440209   55.356706\n",
       "4              202_scale_movement  4.075567   5.997595   35.971150\n",
       "5        203_translation_movement  4.699256   5.951162   35.416333"
      ],
      "text/html": [
       "<div>\n",
       "<style scoped>\n",
       "    .dataframe tbody tr th:only-of-type {\n",
       "        vertical-align: middle;\n",
       "    }\n",
       "\n",
       "    .dataframe tbody tr th {\n",
       "        vertical-align: top;\n",
       "    }\n",
       "\n",
       "    .dataframe thead th {\n",
       "        text-align: right;\n",
       "    }\n",
       "</style>\n",
       "<table border=\"1\" class=\"dataframe\">\n",
       "  <thead>\n",
       "    <tr style=\"text-align: right;\">\n",
       "      <th></th>\n",
       "      <th>scenario</th>\n",
       "      <th>mae</th>\n",
       "      <th>rmse</th>\n",
       "      <th>mse</th>\n",
       "    </tr>\n",
       "  </thead>\n",
       "  <tbody>\n",
       "    <tr>\n",
       "      <th>0</th>\n",
       "      <td>101_natural_lighting</td>\n",
       "      <td>3.393401</td>\n",
       "      <td>5.590020</td>\n",
       "      <td>31.248329</td>\n",
       "    </tr>\n",
       "    <tr>\n",
       "      <th>1</th>\n",
       "      <td>103_abrupt_changing_lighting</td>\n",
       "      <td>6.069299</td>\n",
       "      <td>8.058307</td>\n",
       "      <td>64.936308</td>\n",
       "    </tr>\n",
       "    <tr>\n",
       "      <th>2</th>\n",
       "      <td>104_dim_lighting_auto_exposure</td>\n",
       "      <td>8.919607</td>\n",
       "      <td>10.447098</td>\n",
       "      <td>109.141867</td>\n",
       "    </tr>\n",
       "    <tr>\n",
       "      <th>3</th>\n",
       "      <td>201_shouldercheck</td>\n",
       "      <td>5.432034</td>\n",
       "      <td>7.440209</td>\n",
       "      <td>55.356706</td>\n",
       "    </tr>\n",
       "    <tr>\n",
       "      <th>4</th>\n",
       "      <td>202_scale_movement</td>\n",
       "      <td>4.075567</td>\n",
       "      <td>5.997595</td>\n",
       "      <td>35.971150</td>\n",
       "    </tr>\n",
       "    <tr>\n",
       "      <th>5</th>\n",
       "      <td>203_translation_movement</td>\n",
       "      <td>4.699256</td>\n",
       "      <td>5.951162</td>\n",
       "      <td>35.416333</td>\n",
       "    </tr>\n",
       "  </tbody>\n",
       "</table>\n",
       "</div>"
      ]
     },
     "execution_count": 6,
     "metadata": {},
     "output_type": "execute_result"
    }
   ],
   "execution_count": 6
  },
  {
   "metadata": {
    "ExecuteTime": {
     "end_time": "2024-04-14T16:21:12.452709Z",
     "start_time": "2024-04-14T16:21:12.448734Z"
    }
   },
   "cell_type": "code",
   "source": [
    "# Calculate the overall MAE, RMSE, and MSE\n",
    "overall_results = {\n",
    "    'overall_mae': evaluation_results['mae'].mean(),\n",
    "    'overall_rmse': evaluation_results['rmse'].mean(),\n",
    "    'overall_mse': evaluation_results['mse'].mean()\n",
    "}\n",
    "\n",
    "overall_results"
   ],
   "id": "7a6e6bc2100f01cd",
   "outputs": [
    {
     "data": {
      "text/plain": [
       "{'overall_mae': 5.431527447614652,\n",
       " 'overall_rmse': 7.24739869598162,\n",
       " 'overall_mse': 55.34511551339981}"
      ]
     },
     "execution_count": 7,
     "metadata": {},
     "output_type": "execute_result"
    }
   ],
   "execution_count": 7
  }
 ],
 "metadata": {
  "kernelspec": {
   "display_name": "Python 3",
   "language": "python",
   "name": "python3"
  },
  "language_info": {
   "codemirror_mode": {
    "name": "ipython",
    "version": 2
   },
   "file_extension": ".py",
   "mimetype": "text/x-python",
   "name": "python",
   "nbconvert_exporter": "python",
   "pygments_lexer": "ipython2",
   "version": "2.7.6"
  }
 },
 "nbformat": 4,
 "nbformat_minor": 5
}
