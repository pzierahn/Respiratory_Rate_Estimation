{
 "cells": [
  {
   "metadata": {},
   "cell_type": "markdown",
   "source": "# Evaluation of the baseline model",
   "id": "38e956b3ed09bf01"
  },
  {
   "cell_type": "code",
   "id": "initial_id",
   "metadata": {
    "collapsed": true
   },
   "source": [
    "import numpy as np\n",
    "import pandas as pd\n",
    "import json\n",
    "\n",
    "evaluation_path = '../evaluation/baseline'\n",
    "\n",
    "# Read the data\n",
    "evaluation = pd.read_csv(f'{evaluation_path}/baseline_evaluation.csv')\n",
    "\n",
    "metadata = json.load(open(f'{evaluation_path}/baseline_hyperparameters.json'))"
   ],
   "outputs": [],
   "execution_count": null
  },
  {
   "metadata": {},
   "cell_type": "code",
   "source": [
    "from datetime import datetime as dt\n",
    "\n",
    "start_time = dt.strptime(metadata['start_time'], '%Y-%m-%d %H:%M:%S.%f')\n",
    "end_time = dt.strptime(metadata['end_time'], '%Y-%m-%d %H:%M:%S.%f')\n",
    "\n",
    "# Calculate the duration of the evaluation\n",
    "duration = end_time - start_time\n",
    "\n",
    "print(f'The evaluation took {duration.seconds // 60} minutes')"
   ],
   "id": "53dc0a31a3e13f54",
   "outputs": [],
   "execution_count": null
  },
  {
   "metadata": {},
   "cell_type": "code",
   "source": [
    "# Calculate the absolute error\n",
    "evaluation['abs_error'] = np.abs(evaluation['estimated_respiration_rate'] - evaluation['gt_respiration_rate'])"
   ],
   "id": "15c0994368722a99",
   "outputs": [],
   "execution_count": null
  },
  {
   "metadata": {},
   "cell_type": "code",
   "source": "evaluation",
   "id": "cc4c126c4c62f1ab",
   "outputs": [],
   "execution_count": null
  },
  {
   "metadata": {},
   "cell_type": "code",
   "source": [
    "scenarios = evaluation['scenario'].unique()\n",
    "\n",
    "results = []\n",
    "\n",
    "for scenario in scenarios:\n",
    "    # Select the data for the scenario\n",
    "    scenario_data = evaluation[evaluation['scenario'] == scenario]\n",
    "\n",
    "    # Mean absolute error\n",
    "    mae = scenario_data['abs_error'].mean()\n",
    "\n",
    "    # Root mean squared error\n",
    "    rmse = np.sqrt((scenario_data['abs_error'] ** 2).mean())\n",
    "\n",
    "    # Mean squared error\n",
    "    mse = (scenario_data['abs_error'] ** 2).mean()\n",
    "\n",
    "    results.append({\n",
    "        'scenario': scenario,\n",
    "        'mae': mae,\n",
    "        'rmse': rmse,\n",
    "        'mse': mse\n",
    "    })"
   ],
   "id": "b45d5431df6315e9",
   "outputs": [],
   "execution_count": null
  },
  {
   "metadata": {},
   "cell_type": "code",
   "source": [
    "evaluation_results = pd.DataFrame(results)\n",
    "evaluation_results"
   ],
   "id": "756389bcfe27cbf3",
   "outputs": [],
   "execution_count": null
  },
  {
   "metadata": {},
   "cell_type": "code",
   "source": [
    "# Calculate the overall MAE, RMSE, and MSE\n",
    "overall_results = {\n",
    "    'overall_mae': evaluation_results['mae'].mean(),\n",
    "    'overall_rmse': evaluation_results['rmse'].mean(),\n",
    "    'overall_mse': evaluation_results['mse'].mean()\n",
    "}\n",
    "\n",
    "overall_results"
   ],
   "id": "7a6e6bc2100f01cd",
   "outputs": [],
   "execution_count": null
  }
 ],
 "metadata": {
  "kernelspec": {
   "display_name": "Python 3",
   "language": "python",
   "name": "python3"
  },
  "language_info": {
   "codemirror_mode": {
    "name": "ipython",
    "version": 2
   },
   "file_extension": ".py",
   "mimetype": "text/x-python",
   "name": "python",
   "nbconvert_exporter": "python",
   "pygments_lexer": "ipython2",
   "version": "2.7.6"
  }
 },
 "nbformat": 4,
 "nbformat_minor": 5
}
