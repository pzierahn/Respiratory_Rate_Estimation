{
 "cells": [
  {
   "cell_type": "markdown",
   "id": "29e8feb5a154ad",
   "metadata": {},
   "source": "# Baseline model evaluation"
  },
  {
   "cell_type": "code",
   "id": "initial_id",
   "metadata": {
    "collapsed": true
   },
   "source": [
    "import os\n",
    "import respiratory_extraction.utils as utils\n",
    "\n",
    "data_path = os.path.join(os.getcwd(), '..', 'data', 'subjects')\n",
    "dataset = utils.Dataset(data_path)\n",
    "\n",
    "subjects = dataset.get_subjects()\n",
    "subjects"
   ],
   "outputs": [],
   "execution_count": null
  },
  {
   "cell_type": "code",
   "id": "fbaabf772d852710",
   "metadata": {},
   "source": [
    "# The scenarios in which the subjects were recorded\n",
    "# scenarios = dataset.get_scenarios()\n",
    "scenarios = [\n",
    "    '101_natural_lighting',\n",
    "    # '102_artificial_lighting',\n",
    "]\n",
    "scenarios"
   ],
   "outputs": [],
   "execution_count": null
  },
  {
   "metadata": {},
   "cell_type": "code",
   "source": [
    "from datetime import datetime\n",
    "\n",
    "hyperparameters = {\n",
    "    # The minimum frequency to consider in the FFT. Default is 0.1 Hz (6 breaths per minute)\n",
    "    'min_freq': 0.1,\n",
    "    # The maximum frequency to consider in the FFT. Default is 0.6 Hz (36 breaths per minute)\n",
    "    'max_freq': 0.6,\n",
    "}\n",
    "\n",
    "evaluation_metadata = {\n",
    "    'model': 'baseline',\n",
    "    'start_time': datetime.now(),\n",
    "    'hyperparameters': hyperparameters,\n",
    "    'subjects': subjects,\n",
    "    'scenarios': scenarios,\n",
    "}"
   ],
   "id": "d6e2ab154d5334d9",
   "outputs": [],
   "execution_count": null
  },
  {
   "cell_type": "markdown",
   "id": "15fe3c711c95659a",
   "metadata": {},
   "source": [
    "## Display the first frame of each scenario for the first subject"
   ]
  },
  {
   "cell_type": "code",
   "id": "2aba3e680aa178da",
   "metadata": {},
   "source": [
    "import respiratory_extraction.models.baseline as baseline\n",
    "\n",
    "evaluation_entries = []\n",
    "faulty_scenarios = []\n",
    "\n",
    "for subject in subjects:\n",
    "    for idx, scenario in enumerate(scenarios):\n",
    "        print(f'Processing {subject} - {scenario}')\n",
    "\n",
    "        frames, params = dataset.read_video_gray(subject, scenario)\n",
    "\n",
    "        faces = baseline.face_detection(frames[0])\n",
    "        if len(faces) != 1:\n",
    "            print(f'No face detected in {subject} - {scenario}')\n",
    "            faulty_scenarios.append((subject, scenario))\n",
    "            continue\n",
    "\n",
    "        # First face position and size\n",
    "        face1 = faces[0]\n",
    "\n",
    "        # Calculate the region of interest (ROI) based on the face\n",
    "        roi = baseline.calculate_roi_from_face(face1[0], face1[1], face1[2], face1[3])\n",
    "\n",
    "        # Calculate the average pixel intensity in the chest region\n",
    "        average_pixels = baseline.average_pixel_intensity(frames, roi)\n",
    "\n",
    "        # Calculate the fast fourier transform of the average pixel intensity\n",
    "        pixels_fft, freq = baseline.calculate_fft(\n",
    "            average_pixels,\n",
    "            params.fps,\n",
    "            min_freq=hyperparameters['min_freq'],\n",
    "            max_freq=hyperparameters['max_freq'],\n",
    "        )\n",
    "\n",
    "        # Calculate the respiratory rate\n",
    "        max_freq, breathing_rate = baseline.calculate_respiratory_rate(pixels_fft, freq)\n",
    "\n",
    "        # Read the ground truth data from unisens directory\n",
    "        gt_signal, gt_sample_rate = dataset.read_unisens_entry(subject, scenario, '3_Thorax')\n",
    "        # Calculate the fast fourier transform of the ground truth signal\n",
    "        gt_fft, gt_freq = baseline.calculate_fft(gt_signal, gt_sample_rate)\n",
    "        gt_max_freq, gt_breathing_rate = baseline.calculate_respiratory_rate(gt_fft, gt_freq)\n",
    "\n",
    "        # Append the evaluation entry\n",
    "        evaluation_entries.append({\n",
    "            'subject': subject,\n",
    "            'scenario': scenario,\n",
    "            'estimated_respiration_rate': breathing_rate,\n",
    "            'estimated_freq': max_freq,\n",
    "            'gt_respiration_rate': gt_breathing_rate,\n",
    "            'gt_freq': gt_max_freq,\n",
    "        })\n",
    "\n",
    "        # Garbage collect the frames\n",
    "        del frames"
   ],
   "outputs": [],
   "execution_count": null
  },
  {
   "metadata": {},
   "cell_type": "code",
   "source": "faulty_scenarios",
   "id": "c5cc8fa22b77f648",
   "outputs": [],
   "execution_count": null
  },
  {
   "metadata": {},
   "cell_type": "code",
   "source": "evaluation_metadata['end_time'] = datetime.now()",
   "id": "4361f0aa4df2465",
   "outputs": [],
   "execution_count": null
  },
  {
   "metadata": {},
   "cell_type": "code",
   "source": [
    "import pandas as pd\n",
    "\n",
    "evaluation_df = pd.DataFrame(evaluation_entries)\n",
    "evaluation_df.head()"
   ],
   "id": "e94ff7cb59c2a3ea",
   "outputs": [],
   "execution_count": null
  },
  {
   "metadata": {},
   "cell_type": "code",
   "source": [
    "evaluation_dir = os.path.join(os.getcwd(), '..', 'evaluation', 'baseline')\n",
    "if not os.path.exists(evaluation_dir):\n",
    "    os.makedirs(evaluation_dir)\n",
    "\n",
    "# Save the evaluation dataframe\n",
    "csv_path = os.path.join(evaluation_dir, 'baseline_evaluation.csv')\n",
    "evaluation_df.to_csv(csv_path, index=False)\n",
    "\n",
    "# Save the hyperparameters as prettified json\n",
    "json_path = os.path.join(evaluation_dir, 'baseline_hyperparameters.json')\n",
    "utils.write_json(json_path, evaluation_metadata)"
   ],
   "id": "3806544e615aa349",
   "outputs": [],
   "execution_count": null
  }
 ],
 "metadata": {
  "kernelspec": {
   "display_name": "Python 3",
   "language": "python",
   "name": "python3"
  },
  "language_info": {
   "codemirror_mode": {
    "name": "ipython",
    "version": 2
   },
   "file_extension": ".py",
   "mimetype": "text/x-python",
   "name": "python",
   "nbconvert_exporter": "python",
   "pygments_lexer": "ipython2",
   "version": "2.7.6"
  }
 },
 "nbformat": 4,
 "nbformat_minor": 5
}
