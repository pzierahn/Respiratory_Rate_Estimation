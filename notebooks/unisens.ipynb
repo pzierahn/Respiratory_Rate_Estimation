{
 "cells": [
  {
   "cell_type": "code",
   "execution_count": null,
   "id": "initial_id",
   "metadata": {
    "collapsed": true
   },
   "outputs": [],
   "source": [
    "!pip install -U git+https://github.com/Unisens/pyunisens"
   ]
  },
  {
   "cell_type": "code",
   "outputs": [],
   "source": [
    "import unisens\n",
    "\n",
    "# folder containing the unisens.xml file\n",
    "data_path = '/media/hdd2/07_Datenbank_Smarthome/Testaufnahmen/Proband01/101_natural_lighting/synced_Logitech HD Pro Webcam C920'\n",
    "data = unisens.Unisens(data_path, readonly=True)"
   ],
   "metadata": {
    "collapsed": false
   },
   "id": "678be87f64dd9725",
   "execution_count": null
  },
  {
   "cell_type": "code",
   "outputs": [],
   "source": [
    "# SPO2      --> oxygen saturation\n",
    "# Pleth     --> plethysmogram\n",
    "# Pulse     --> pulse rate\n",
    "# EKG       --> electrocardiogram\n",
    "# Lux Meter --> light intensity"
   ],
   "metadata": {
    "collapsed": false
   },
   "id": "91c9c9eb5a4ccc3b"
  },
  {
   "cell_type": "code",
   "outputs": [],
   "source": [
    "print(data['camera LED raw'].attrib)"
   ],
   "metadata": {
    "collapsed": false
   },
   "id": "2d5fbbf31a11c691",
   "execution_count": null
  },
  {
   "cell_type": "code",
   "outputs": [],
   "source": [
    "for key in data['6_Pulse.bin']:\n",
    "    print(key)"
   ],
   "metadata": {
    "collapsed": false
   },
   "id": "e6c10bc4905a94de",
   "execution_count": null
  },
  {
   "cell_type": "code",
   "outputs": [],
   "source": [
    "pulse_data = data['IMU_linear_Acc_X'].get_data()\n",
    "print(type(pulse_data))\n",
    "print(pulse_data.shape)"
   ],
   "metadata": {
    "collapsed": false
   },
   "id": "44df0f285dfd523a",
   "execution_count": null
  },
  {
   "cell_type": "code",
   "outputs": [],
   "source": [
    "# Create an interactive plot of the pulse data\n",
    "import plotly.express as px\n",
    "\n",
    "pulse_data_flat = pulse_data.flatten()\n",
    "fig = px.line(x=range(len(pulse_data_flat)), y=pulse_data_flat)\n",
    "fig.show()"
   ],
   "metadata": {
    "collapsed": false
   },
   "id": "bef642a9b264c2b3",
   "execution_count": null
  }
 ],
 "metadata": {
  "kernelspec": {
   "display_name": "Python 3",
   "language": "python",
   "name": "python3"
  },
  "language_info": {
   "codemirror_mode": {
    "name": "ipython",
    "version": 2
   },
   "file_extension": ".py",
   "mimetype": "text/x-python",
   "name": "python",
   "nbconvert_exporter": "python",
   "pygments_lexer": "ipython2",
   "version": "2.7.6"
  }
 },
 "nbformat": 4,
 "nbformat_minor": 5
}
