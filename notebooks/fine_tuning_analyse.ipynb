{
 "cells": [
  {
   "metadata": {},
   "cell_type": "markdown",
   "source": "# Analyze Fine-Tuned EfficientPhys Models",
   "id": "156541bc5c985cd6"
  },
  {
   "metadata": {},
   "cell_type": "code",
   "source": [
    "import os\n",
    "import numpy as np\n",
    "import pandas as pd\n",
    "\n",
    "evaluation_dir = os.path.join('..', 'evaluation', 'efficeint_phys_fine_tuned')\n",
    "evaluation_path = os.path.join(evaluation_dir, 'predictions.csv')\n",
    "\n",
    "df = pd.read_csv(evaluation_path)\n",
    "df['prediction'] = df['prediction'].apply(eval).apply(np.array)"
   ],
   "id": "36f66e8a71704a30",
   "outputs": [],
   "execution_count": null
  },
  {
   "metadata": {},
   "cell_type": "code",
   "source": "df",
   "id": "3c049d5de449d5a1",
   "outputs": [],
   "execution_count": null
  },
  {
   "metadata": {},
   "cell_type": "code",
   "source": [
    "import matplotlib.pyplot as plt\n",
    "import respiration.dataset as repository\n",
    "import respiration.preprocessing as preprocessing\n",
    "\n",
    "dataset = repository.from_default()\n",
    "\n",
    "subject = 'Proband26'\n",
    "settings = df[df['subject'] == subject]['setting'].unique()\n",
    "\n",
    "fig, axs = plt.subplots(2, 1, figsize=(20, 10))\n",
    "\n",
    "for idx, row in df.iterrows():\n",
    "    prediction = row['prediction']\n",
    "    prediction = preprocessing.standard_processing(prediction, 30)\n",
    "    axs[0].plot(prediction)\n",
    "    break\n",
    "\n",
    "gt_signal, sampling_rate = dataset.get_ground_truth_rr_signal(subject, settings[0])\n",
    "gt_signal = preprocessing.standard_processing(gt_signal, sampling_rate)\n",
    "axs[1].plot(gt_signal)"
   ],
   "id": "8608121169d15e65",
   "outputs": [],
   "execution_count": null
  }
 ],
 "metadata": {
  "kernelspec": {
   "display_name": "Python 3",
   "language": "python",
   "name": "python3"
  },
  "language_info": {
   "codemirror_mode": {
    "name": "ipython",
    "version": 2
   },
   "file_extension": ".py",
   "mimetype": "text/x-python",
   "name": "python",
   "nbconvert_exporter": "python",
   "pygments_lexer": "ipython2",
   "version": "2.7.6"
  }
 },
 "nbformat": 4,
 "nbformat_minor": 5
}
