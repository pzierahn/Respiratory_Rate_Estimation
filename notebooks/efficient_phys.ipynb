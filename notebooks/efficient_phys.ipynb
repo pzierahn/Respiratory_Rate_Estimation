{
 "cells": [
  {
   "metadata": {},
   "cell_type": "code",
   "source": [
    "import respiration.dataset as repository\n",
    "\n",
    "dataset = repository.from_default()\n",
    "\n",
    "subject = 'Proband05'\n",
    "scenario = '101_natural_lighting'"
   ],
   "id": "4b78c47457679ff0",
   "outputs": [],
   "execution_count": null
  },
  {
   "metadata": {},
   "cell_type": "code",
   "source": "frames, meta = dataset.get_video_rgb(subject, scenario)",
   "id": "a61011c940742495",
   "outputs": [],
   "execution_count": null
  },
  {
   "metadata": {},
   "cell_type": "code",
   "source": [
    "import respiration.utils as utils\n",
    "\n",
    "device = utils.get_torch_device()"
   ],
   "id": "42faa5548dc370fe",
   "outputs": [],
   "execution_count": null
  },
  {
   "metadata": {},
   "cell_type": "code",
   "source": [
    "import os\n",
    "import torch\n",
    "from respiration.extractor.efficient_phys import EfficientPhys\n",
    "\n",
    "model_checkpoint = os.path.join('..', 'data', 'rPPG-Toolbox', 'PURE_EfficientPhys.pth')\n",
    "\n",
    "dim = 72\n",
    "frame_depth = 20\n",
    "\n",
    "# Wrap modul in nn.DataParallel\n",
    "model = EfficientPhys(img_size=dim, frame_depth=frame_depth)\n",
    "# Fix model loading: Some key have an extra 'module.' prefix\n",
    "model = torch.nn.DataParallel(model)\n",
    "model.to(device)\n",
    "\n",
    "key_matching = model.load_state_dict(torch.load(model_checkpoint, map_location=device))"
   ],
   "id": "c4dc5f528d1e36c8",
   "outputs": [],
   "execution_count": null
  },
  {
   "metadata": {},
   "cell_type": "code",
   "source": "model.eval()",
   "id": "2b6a2d6c736de2a1",
   "outputs": [],
   "execution_count": null
  },
  {
   "metadata": {},
   "cell_type": "code",
   "source": [
    "total_frames = len(frames)\n",
    "(total_frames // frame_depth) * frame_depth"
   ],
   "id": "b4d9099dfacf3c3f",
   "outputs": [],
   "execution_count": null
  },
  {
   "metadata": {},
   "cell_type": "code",
   "source": [
    "# chunk_size = (frames.shape[0] // frame_depth) * frame_depth - (frame_depth - 1)\n",
    "chunk_size = frame_depth * 100 + 1\n",
    "frames_chunk = frames[:chunk_size]\n",
    "\n",
    "frames_chunk = utils.down_sample_video(frames_chunk, dim)\n",
    "frames_chunk = torch.tensor(frames_chunk, dtype=torch.float32, device=device).permute(0, 3, 1, 2)\n",
    "\n",
    "frames_chunk.shape"
   ],
   "id": "eb1efff9deba6f4e",
   "outputs": [],
   "execution_count": null
  },
  {
   "metadata": {},
   "cell_type": "code",
   "source": [
    "out = model(frames_chunk)\n",
    "out.shape"
   ],
   "id": "732ea4ed2896ad42",
   "outputs": [],
   "execution_count": null
  },
  {
   "metadata": {},
   "cell_type": "code",
   "source": "out = out.cpu().detach().numpy().squeeze()",
   "id": "cf2c4e7ba1b81318",
   "outputs": [],
   "execution_count": null
  },
  {
   "metadata": {},
   "cell_type": "code",
   "source": [
    "import matplotlib.pyplot as plt\n",
    "\n",
    "plt.plot(out)\n",
    "plt.show()"
   ],
   "id": "898103c27d98fe3f",
   "outputs": [],
   "execution_count": null
  },
  {
   "metadata": {},
   "cell_type": "code",
   "source": [
    "import respiration.preprocessing as preprocessing\n",
    "\n",
    "detrended = preprocessing.detrend_tarvainen(out)\n",
    "filtered = preprocessing.butterworth_filter(detrended, meta.fps, 0.75, 2.5)\n",
    "\n",
    "plt.plot(filtered)\n",
    "plt.show()"
   ],
   "id": "d77455275f824a6f",
   "outputs": [],
   "execution_count": null
  },
  {
   "metadata": {},
   "cell_type": "code",
   "source": [
    "pulse, _ = dataset.get_unisens_entry(subject, scenario, utils.VitalSigns.pulse)\n",
    "pulse = preprocessing.detrend_tarvainen(pulse)\n",
    "pulse = preprocessing.butterworth_filter(pulse, meta.fps, 0.75, 2.5)\n",
    "\n",
    "pulse = preprocessing.resample_signal(pulse, len(frames))[:chunk_size - 1]"
   ],
   "id": "100bd04d0f12211a",
   "outputs": [],
   "execution_count": null
  },
  {
   "metadata": {},
   "cell_type": "code",
   "source": [
    "_, axs = plt.subplots(2, 1, figsize=(10, 10))\n",
    "\n",
    "axs[0].plot(filtered)\n",
    "axs[0].set_title('rPPG')\n",
    "\n",
    "axs[1].plot(pulse)\n",
    "axs[1].set_title('Pulse')\n",
    "\n",
    "plt.show()"
   ],
   "id": "ffd4a3349945fc1b",
   "outputs": [],
   "execution_count": null
  },
  {
   "metadata": {},
   "cell_type": "code",
   "source": [
    "import respiration.analysis as analysis\n",
    "\n",
    "print('Pearson:', analysis.pearson_correlation(filtered, pulse))\n",
    "print('MSE:', analysis.distance_mse(filtered, pulse))"
   ],
   "id": "4357253e7ff08f45",
   "outputs": [],
   "execution_count": null
  }
 ],
 "metadata": {
  "kernelspec": {
   "display_name": "Python 3",
   "language": "python",
   "name": "python3"
  },
  "language_info": {
   "codemirror_mode": {
    "name": "ipython",
    "version": 2
   },
   "file_extension": ".py",
   "mimetype": "text/x-python",
   "name": "python",
   "nbconvert_exporter": "python",
   "pygments_lexer": "ipython2",
   "version": "2.7.6"
  }
 },
 "nbformat": 4,
 "nbformat_minor": 5
}
