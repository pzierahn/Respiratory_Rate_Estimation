{
 "cells": [
  {
   "metadata": {},
   "cell_type": "markdown",
   "source": [
    "# DeepPhys: rPPG Estimation\n",
    "\n",
    "This notebook demonstrates the use of the DeepPhys model for remote photoplethysmography (rPPG) estimation. The model is based on the paper [DeepPhys: Video-Based Physiological Measurement Using Convolutional Attention Networks](https://arxiv.org/abs/1805.07888) by Weixuan Chen and Daniel McDuff. The model is implemented in PyTorch.\n",
    "\n",
    "The rPPG signal is later used to estimate the respiratory rate of the subject."
   ],
   "id": "d6b5056fdfa6d020"
  },
  {
   "metadata": {},
   "cell_type": "markdown",
   "source": "## Load the DeepPhys model",
   "id": "978f3e3a378bef2c"
  },
  {
   "metadata": {},
   "cell_type": "code",
   "source": [
    "import torch\n",
    "import respiration.utils as utils\n",
    "\n",
    "from respiration.extractor.deep_phys import DeepPhys\n",
    "\n",
    "device = utils.get_torch_device()\n",
    "\n",
    "dim = 72\n",
    "\n",
    "model = DeepPhys(img_size=dim)\n",
    "model = torch.nn.DataParallel(model).to(device)\n",
    "\n",
    "model_path = utils.file_path('data', 'rPPG-Toolbox', 'BP4D_PseudoLabel_DeepPhys.pth')\n",
    "model.load_state_dict(torch.load(model_path, map_location=device))\n",
    "\n",
    "model = model.module.to(device)"
   ],
   "id": "d2958b0b9246d65b",
   "outputs": [],
   "execution_count": null
  },
  {
   "metadata": {},
   "cell_type": "markdown",
   "source": "## Load the test video",
   "id": "a031b52a7fb097bd"
  },
  {
   "metadata": {},
   "cell_type": "code",
   "source": [
    "from respiration.dataset import VitalCamSet\n",
    "\n",
    "dataset = VitalCamSet()\n",
    "\n",
    "subject = 'Proband21'\n",
    "setting = '101_natural_lighting'\n",
    "\n",
    "frames, meta = dataset.get_video_rgb(subject, setting, show_progress=True)\n",
    "\n",
    "pleth = dataset.get_vital_sign(subject, setting, utils.VitalSigns.pleth)\n",
    "breath = dataset.get_vital_sign(subject, setting, utils.VitalSigns.thorax_abdomen)"
   ],
   "id": "d8cc8d0ebbecc797",
   "outputs": [],
   "execution_count": null
  },
  {
   "metadata": {},
   "cell_type": "code",
   "source": [
    "import respiration.extractor.mtts_can.preprocess as preprocess\n",
    "\n",
    "raw, diff = preprocess.preprocess_video_frames(frames, dim)\n",
    "\n",
    "# Permute from (T, H, W, C) to (T, C, H, W)\n",
    "diff = torch.tensor(diff).permute(0, 3, 1, 2)\n",
    "raw = torch.tensor(raw).permute(0, 3, 1, 2)\n",
    "\n",
    "print(diff.shape, raw.shape)\n",
    "\n",
    "# Stack the two channels\n",
    "frames_chunk = torch.cat((diff, raw), dim=1).to(device)\n",
    "frames_chunk.shape"
   ],
   "id": "ee3b14321e204777",
   "outputs": [],
   "execution_count": null
  },
  {
   "metadata": {},
   "cell_type": "code",
   "source": [
    "import matplotlib.pyplot as plt\n",
    "\n",
    "fig, axs = plt.subplots(1, 2, figsize=(20, 6))\n",
    "\n",
    "# Permute from (C, H, W) to (H, W, C)\n",
    "diff_frame = diff[0].permute(1, 2, 0)\n",
    "raw_frame = raw[0].permute(1, 2, 0)\n",
    "\n",
    "# Normalize the frames\n",
    "diff_frame = (diff_frame - diff_frame.min()) / (diff_frame.max() - diff_frame.min())\n",
    "raw_frame = (raw_frame - raw_frame.min()) / (raw_frame.max() - raw_frame.min())\n",
    "\n",
    "axs[0].imshow(diff_frame)\n",
    "axs[0].set_title('Diff channel')\n",
    "\n",
    "axs[1].imshow(raw_frame)\n",
    "axs[1].set_title('Raw channel')\n",
    "\n",
    "plt.show()"
   ],
   "id": "6edb9b4d9de9f8ae",
   "outputs": [],
   "execution_count": null
  },
  {
   "metadata": {},
   "cell_type": "code",
   "source": [
    "with torch.no_grad():\n",
    "    output = model(frames_chunk)\n",
    "\n",
    "prediction = output.cpu().detach().numpy().squeeze()\n",
    "prediction.shape"
   ],
   "id": "534d3ee7fb8f8ef8",
   "outputs": [],
   "execution_count": null
  },
  {
   "metadata": {},
   "cell_type": "code",
   "source": [
    "import numpy as np\n",
    "import respiration.analysis as analysis\n",
    "\n",
    "comparator = analysis.SignalComparator(\n",
    "    prediction,\n",
    "    pleth[1:len(prediction) + 1],\n",
    "    sample_rate=meta.fps,\n",
    "    lowpass=0.7,\n",
    "    highpass=2.5,\n",
    "    detrend_tarvainen=False,\n",
    "    filter_signal=True,\n",
    "    normalize_signal=True,\n",
    ")"
   ],
   "id": "794d161c86a6878b",
   "outputs": [],
   "execution_count": null
  },
  {
   "metadata": {},
   "cell_type": "code",
   "source": "comparator.errors()",
   "id": "f7dad71c6ce600f7",
   "outputs": [],
   "execution_count": null
  },
  {
   "metadata": {},
   "cell_type": "code",
   "source": [
    "import matplotlib.pyplot as plt\n",
    "\n",
    "plt.figure(figsize=(20, 6))\n",
    "\n",
    "# Plot the predicted rPPG signal\n",
    "plt.plot(comparator.prediction, label='Predicted rPPG signal')\n",
    "plt.plot(comparator.ground_truth, label='Ground truth pleth signal')\n",
    "\n",
    "plt.title('rPPG estimation using DeepPhys')\n",
    "plt.xlabel('Frame')\n",
    "plt.ylabel('Signal value')\n",
    "\n",
    "plt.legend()\n",
    "plt.show()"
   ],
   "id": "d6d527cd17e2c08",
   "outputs": [],
   "execution_count": null
  },
  {
   "metadata": {},
   "cell_type": "markdown",
   "source": "## Use sliding window to estimate the error and correlation",
   "id": "4e7311b2f4d8c166"
  },
  {
   "metadata": {},
   "cell_type": "code",
   "source": [
    "import respiration.preprocessing as preprocessing\n",
    "\n",
    "prediction_filtered = preprocessing.butterworth_filter(prediction, meta.fps, order=6, lowpass=0.7, highpass=2.5)"
   ],
   "id": "b2bc4eb610ab8a13",
   "outputs": [],
   "execution_count": null
  },
  {
   "metadata": {},
   "cell_type": "code",
   "source": [
    "import respiration.analysis as analysis\n",
    "\n",
    "# Divide the signal into 30-second windows with a 1-second stride\n",
    "window_size = 30 * meta.fps\n",
    "stride = meta.fps\n",
    "\n",
    "prediction_results = []\n",
    "\n",
    "for inx in range(0, len(prediction_filtered) - window_size, stride):\n",
    "    prediction_window = prediction_filtered[inx:inx + window_size]\n",
    "    gt_window = pleth[inx:inx + window_size]\n",
    "\n",
    "    freq_pred = analysis.frequency_from_psd(prediction_window, meta.fps)\n",
    "    freq_gt = analysis.frequency_from_psd(gt_window, meta.fps)\n",
    "\n",
    "    prediction_results.append({\n",
    "        'freq_pred': freq_pred,\n",
    "        'freq_gt': freq_gt,\n",
    "    })"
   ],
   "id": "5cb72f5e52abb608",
   "outputs": [],
   "execution_count": null
  },
  {
   "metadata": {},
   "cell_type": "code",
   "source": [
    "import pandas as pd\n",
    "\n",
    "df = pd.DataFrame(prediction_results)\n",
    "df"
   ],
   "id": "6d8addfb52497849",
   "outputs": [],
   "execution_count": null
  },
  {
   "metadata": {},
   "cell_type": "code",
   "source": [
    "# Calculate the mean absolute error\n",
    "mae = (df['freq_pred'] - df['freq_gt']).abs().mean()\n",
    "mae"
   ],
   "id": "9780aa324a3f0a8a",
   "outputs": [],
   "execution_count": null
  },
  {
   "metadata": {},
   "cell_type": "code",
   "source": [
    "# Calculate the mean absolute percentage error\n",
    "mape = ((df['freq_pred'] - df['freq_gt']).abs() / df['freq_gt']).mean() * 100\n",
    "mape"
   ],
   "id": "c75045badac9150a",
   "outputs": [],
   "execution_count": null
  },
  {
   "metadata": {},
   "cell_type": "code",
   "source": [
    "import scipy.stats as stats\n",
    "\n",
    "# Calculate the Pearson correlation coefficient and the p-value for testing non-correlation\n",
    "corr, p_value = stats.pearsonr(df['freq_pred'], df['freq_gt'])\n",
    "corr, p_value"
   ],
   "id": "a7b7a78fdccae76a",
   "outputs": [],
   "execution_count": null
  }
 ],
 "metadata": {
  "kernelspec": {
   "display_name": "Python 3",
   "language": "python",
   "name": "python3"
  },
  "language_info": {
   "codemirror_mode": {
    "name": "ipython",
    "version": 2
   },
   "file_extension": ".py",
   "mimetype": "text/x-python",
   "name": "python",
   "nbconvert_exporter": "python",
   "pygments_lexer": "ipython2",
   "version": "2.7.6"
  }
 },
 "nbformat": 4,
 "nbformat_minor": 5
}
