{
 "cells": [
  {
   "metadata": {},
   "cell_type": "markdown",
   "source": [
    "# TS-CAN: rPPG Estimation\n",
    "\n",
    "This notebook demonstrates the use of the TS-CAN model for remote photoplethysmography (rPPG) estimation. The model is based on the paper [Multi-Task Temporal Shift Attention Networks for On-Device Contactless Vitals Measurement](https://arxiv.org/abs/2006.03790) by Xin Liu and Josh Fromm. The model is implemented in PyTorch.\n",
    "\n",
    "The rPPG signal is later used to estimate the respiratory rate of the subject."
   ],
   "id": "d6b5056fdfa6d020"
  },
  {
   "metadata": {},
   "cell_type": "markdown",
   "source": "## Load the TS-CAN model",
   "id": "978f3e3a378bef2c"
  },
  {
   "metadata": {},
   "cell_type": "code",
   "source": [
    "import torch\n",
    "import respiration.utils as utils\n",
    "from respiration.extractor.ts_can import TSCAN\n",
    "\n",
    "device = torch.device('cpu')\n",
    "\n",
    "dim = 72\n",
    "\n",
    "model = TSCAN(img_size=dim)\n",
    "model = torch.nn.DataParallel(model).to(device)\n",
    "\n",
    "model_path = utils.file_path('data', 'rPPG-Toolbox', 'BP4D_PseudoLabel_TSCAN.pth')\n",
    "model.load_state_dict(torch.load(model_path, map_location=device))\n",
    "\n",
    "model = model.module.to(device)"
   ],
   "id": "d2958b0b9246d65b",
   "outputs": [],
   "execution_count": null
  },
  {
   "metadata": {},
   "cell_type": "markdown",
   "source": "## Load the test video",
   "id": "a031b52a7fb097bd"
  },
  {
   "metadata": {},
   "cell_type": "code",
   "source": [
    "from respiration.dataset import VitalCamSet\n",
    "\n",
    "dataset = VitalCamSet()\n",
    "\n",
    "subject = 'Proband21'\n",
    "setting = '101_natural_lighting'\n",
    "\n",
    "frames, meta = dataset.get_video_rgb(subject, setting, show_progress=True)\n",
    "\n",
    "pleth = dataset.get_vital_sign(subject, setting, utils.VitalSigns.pleth)\n",
    "breath = dataset.get_vital_sign(subject, setting, utils.VitalSigns.thorax_abdomen)"
   ],
   "id": "d8cc8d0ebbecc797",
   "outputs": [],
   "execution_count": null
  },
  {
   "metadata": {},
   "cell_type": "code",
   "source": [
    "import respiration.extractor.mtts_can.preprocess as preprocess\n",
    "\n",
    "raw, diff = preprocess.preprocess_video_frames(frames, dim)\n",
    "\n",
    "frame_depth = 20\n",
    "\n",
    "# The model expects a number of frames that is a multiple of frame_depth\n",
    "cut_off = (raw.shape[0] // frame_depth) * frame_depth\n",
    "input_resized = raw[:cut_off]\n",
    "input_normalized = diff[:cut_off]\n",
    "\n",
    "# Permute from (T, H, W, C) to (T, C, H, W)\n",
    "input_resized = torch.tensor(input_resized).permute(0, 3, 1, 2)\n",
    "input_normalized = torch.tensor(input_normalized).permute(0, 3, 1, 2)\n",
    "\n",
    "print(input_resized.shape, input_normalized.shape)\n",
    "\n",
    "# Stack the two channels\n",
    "frames_chunk = torch.cat((input_normalized, input_resized), dim=1).to(device)\n",
    "frames_chunk.shape"
   ],
   "id": "ee3b14321e204777",
   "outputs": [],
   "execution_count": null
  },
  {
   "metadata": {},
   "cell_type": "code",
   "source": [
    "import matplotlib.pyplot as plt\n",
    "\n",
    "fig, axs = plt.subplots(1, 2, figsize=(20, 6))\n",
    "\n",
    "# Permute from (C, H, W) to (H, W, C)\n",
    "diff_frame = input_normalized[0].permute(1, 2, 0)\n",
    "raw_frame = input_resized[0].permute(1, 2, 0)\n",
    "\n",
    "# Normalize the frames\n",
    "diff_frame = (diff_frame - diff_frame.min()) / (diff_frame.max() - diff_frame.min())\n",
    "raw_frame = (raw_frame - raw_frame.min()) / (raw_frame.max() - raw_frame.min())\n",
    "\n",
    "axs[0].imshow(diff_frame)\n",
    "axs[0].set_title('Diff channel')\n",
    "\n",
    "axs[1].imshow(raw_frame)\n",
    "axs[1].set_title('Raw channel')\n",
    "\n",
    "plt.show()"
   ],
   "id": "6edb9b4d9de9f8ae",
   "outputs": [],
   "execution_count": null
  },
  {
   "metadata": {},
   "cell_type": "code",
   "source": [
    "with torch.no_grad():\n",
    "    output = model(frames_chunk)\n",
    "\n",
    "prediction = output.cpu().detach().numpy().squeeze()\n",
    "prediction.shape"
   ],
   "id": "534d3ee7fb8f8ef8",
   "outputs": [],
   "execution_count": null
  },
  {
   "metadata": {},
   "cell_type": "markdown",
   "source": "## Compare the predicted rPPG signal with the ground truth",
   "id": "92975b30af87b85"
  },
  {
   "metadata": {},
   "cell_type": "code",
   "source": [
    "import respiration.analysis as analysis\n",
    "\n",
    "comparator = analysis.SignalComparator(\n",
    "    prediction,\n",
    "    breath[1:len(prediction) + 1],\n",
    "    sample_rate=meta.fps,\n",
    "    lowpass=0.08,\n",
    "    highpass=0.5,\n",
    "    detrend_tarvainen=False,\n",
    "    filter_signal=True,\n",
    "    normalize_signal=True,\n",
    ")"
   ],
   "id": "794d161c86a6878b",
   "outputs": [],
   "execution_count": null
  },
  {
   "metadata": {},
   "cell_type": "code",
   "source": "comparator.errors()",
   "id": "f7dad71c6ce600f7",
   "outputs": [],
   "execution_count": null
  },
  {
   "metadata": {},
   "cell_type": "code",
   "source": [
    "import matplotlib.pyplot as plt\n",
    "\n",
    "plt.figure(figsize=(20, 6))\n",
    "\n",
    "# Plot the predicted rPPG signal\n",
    "plt.plot(comparator.prediction, label='Predicted rPPG signal')\n",
    "plt.plot(comparator.ground_truth, label='Ground truth pleth signal')\n",
    "\n",
    "plt.title('rPPG estimation using DeepPhys')\n",
    "plt.xlabel('Frame')\n",
    "plt.ylabel('Signal value')\n",
    "\n",
    "plt.legend()\n",
    "plt.show()"
   ],
   "id": "d6d527cd17e2c08",
   "outputs": [],
   "execution_count": null
  }
 ],
 "metadata": {
  "kernelspec": {
   "display_name": "Python 3",
   "language": "python",
   "name": "python3"
  },
  "language_info": {
   "codemirror_mode": {
    "name": "ipython",
    "version": 2
   },
   "file_extension": ".py",
   "mimetype": "text/x-python",
   "name": "python",
   "nbconvert_exporter": "python",
   "pygments_lexer": "ipython2",
   "version": "2.7.6"
  }
 },
 "nbformat": 4,
 "nbformat_minor": 5
}
