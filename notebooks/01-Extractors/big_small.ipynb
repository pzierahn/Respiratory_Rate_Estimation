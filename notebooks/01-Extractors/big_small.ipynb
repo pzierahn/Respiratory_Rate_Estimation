{
 "cells": [
  {
   "metadata": {},
   "cell_type": "markdown",
   "source": [
    "# Extract Respiration Signal with Big-Small Model\n",
    "\n",
    "This notebook demonstrates how to extract the respiration signal from a video using the Big-Small model."
   ],
   "id": "52f6c1718f03adc8"
  },
  {
   "metadata": {},
   "cell_type": "code",
   "source": [
    "from respiration.dataset import VitalCamSet\n",
    "\n",
    "dataset = VitalCamSet()\n",
    "\n",
    "subject = 'Proband05'\n",
    "scenario = '101_natural_lighting'"
   ],
   "id": "4b78c47457679ff0",
   "outputs": [],
   "execution_count": null
  },
  {
   "metadata": {},
   "cell_type": "code",
   "source": [
    "frames, meta = dataset.get_video_rgb(\n",
    "    subject,\n",
    "    scenario,\n",
    "    num_frames=30 * 12,\n",
    "    show_progress=True,\n",
    ")"
   ],
   "id": "a61011c940742495",
   "outputs": [],
   "execution_count": null
  },
  {
   "metadata": {},
   "cell_type": "code",
   "source": [
    "import respiration.utils as utils\n",
    "from respiration.extractor.big_small import *\n",
    "\n",
    "device = utils.get_torch_device()\n",
    "model, key_matching = load_model(device=device)\n",
    "key_matching"
   ],
   "id": "c4dc5f528d1e36c8",
   "outputs": [],
   "execution_count": null
  },
  {
   "metadata": {},
   "cell_type": "code",
   "source": "device",
   "id": "1eed9e0521a1b7a8",
   "outputs": [],
   "execution_count": null
  },
  {
   "metadata": {},
   "cell_type": "code",
   "source": [
    "# Preprocess the frames to big and small frames\n",
    "big, small = preprocess_frames(frames)\n",
    "\n",
    "# Garbage collection\n",
    "del frames"
   ],
   "id": "c9cfc5b066807c1",
   "outputs": [],
   "execution_count": null
  },
  {
   "metadata": {},
   "cell_type": "code",
   "source": [
    "# Show the first big and small frame\n",
    "import matplotlib.pyplot as plt\n",
    "\n",
    "_, axs = plt.subplots(1, 2, figsize=(15, 5))\n",
    "\n",
    "axs[0].imshow(big[1])\n",
    "axs[0].set_title('Big Frame')\n",
    "\n",
    "axs[1].imshow(small[1])\n",
    "axs[1].set_title('Small Frame')"
   ],
   "id": "798792a41bcdf4f1",
   "outputs": [],
   "execution_count": null
  },
  {
   "metadata": {},
   "cell_type": "code",
   "source": [
    "# Create tensors from the frames\n",
    "big, small = convert_to_input(big, small, device)"
   ],
   "id": "f6e72af9225b6bed",
   "outputs": [],
   "execution_count": null
  },
  {
   "metadata": {},
   "cell_type": "code",
   "source": [
    "model.eval()\n",
    "\n",
    "with torch.no_grad():\n",
    "    au_out, bvp_out, resp_out = model((big, small))\n",
    "\n",
    "prediction = resp_out.cpu().numpy().squeeze()"
   ],
   "id": "f4da6f5049773234",
   "outputs": [],
   "execution_count": null
  },
  {
   "metadata": {},
   "cell_type": "code",
   "source": [
    "import respiration.analysis as analysis\n",
    "\n",
    "respiration_gt = dataset.get_breathing_signal(subject, scenario)\n",
    "\n",
    "# Cut the ground truth signal to the same length as the prediction\n",
    "respiration_gt = respiration_gt[:len(prediction)]\n",
    "\n",
    "compare = analysis.SignalComparator(\n",
    "    prediction,\n",
    "    respiration_gt,\n",
    "    meta.fps,\n",
    ")"
   ],
   "id": "6ea84aca0bd934a0",
   "outputs": [],
   "execution_count": null
  },
  {
   "metadata": {},
   "cell_type": "code",
   "source": "compare.errors()",
   "id": "f244746af20cd6f1",
   "outputs": [],
   "execution_count": null
  },
  {
   "metadata": {},
   "cell_type": "code",
   "source": "compare.signal_distances()",
   "id": "240297f08c7b0ff6",
   "outputs": [],
   "execution_count": null
  },
  {
   "metadata": {},
   "cell_type": "code",
   "source": [
    "# Plot the signals\n",
    "_ = plt.figure(figsize=(20, 6))\n",
    "plt.plot(compare.prediction, label='Prediction')\n",
    "plt.plot(compare.ground_truth, label='Ground Truth')\n",
    "plt.legend()\n",
    "plt.show()"
   ],
   "id": "95b80dc0f0dd5f47",
   "outputs": [],
   "execution_count": null
  }
 ],
 "metadata": {
  "kernelspec": {
   "display_name": "Python 3",
   "language": "python",
   "name": "python3"
  },
  "language_info": {
   "codemirror_mode": {
    "name": "ipython",
    "version": 2
   },
   "file_extension": ".py",
   "mimetype": "text/x-python",
   "name": "python",
   "nbconvert_exporter": "python",
   "pygments_lexer": "ipython2",
   "version": "2.7.6"
  }
 },
 "nbformat": 4,
 "nbformat_minor": 5
}
