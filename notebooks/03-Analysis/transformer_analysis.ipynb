{
 "cells": [
  {
   "metadata": {},
   "cell_type": "markdown",
   "source": "# Analyze Transformer Models",
   "id": "156541bc5c985cd6"
  },
  {
   "metadata": {},
   "cell_type": "markdown",
   "source": "## Load the Predictions",
   "id": "f6fbc6544ceaedce"
  },
  {
   "metadata": {
    "ExecuteTime": {
     "end_time": "2024-05-12T06:37:05.612781Z",
     "start_time": "2024-05-12T06:37:03.881750Z"
    }
   },
   "cell_type": "code",
   "source": [
    "import numpy as np\n",
    "import pandas as pd\n",
    "import respiration.utils as utils\n",
    "\n",
    "signals_path = utils.file_path('outputs', 'signals')\n",
    "predictions_path = utils.join_paths(signals_path, 'transformer_predictions.csv')\n",
    "\n",
    "prediction = pd.read_csv(predictions_path)\n",
    "prediction['signal'] = prediction['signal'].apply(eval).apply(np.array)"
   ],
   "id": "36f66e8a71704a30",
   "outputs": [],
   "execution_count": 1
  },
  {
   "metadata": {
    "ExecuteTime": {
     "end_time": "2024-05-12T06:37:05.620200Z",
     "start_time": "2024-05-12T06:37:05.613593Z"
    }
   },
   "cell_type": "code",
   "source": "prediction.head()",
   "id": "3c049d5de449d5a1",
   "outputs": [
    {
     "data": {
      "text/plain": [
       "             model    subject               setting                duration  \\\n",
       "0  20240511_194544  Proband01  101_natural_lighting  0 days 00:00:01.582158   \n",
       "1  20240511_190518  Proband01  101_natural_lighting  0 days 00:00:01.591153   \n",
       "2  20240511_194544  Proband02  101_natural_lighting  0 days 00:00:01.593130   \n",
       "3  20240511_190518  Proband02  101_natural_lighting  0 days 00:00:01.591145   \n",
       "4  20240511_194544  Proband03  101_natural_lighting  0 days 00:00:01.594567   \n",
       "\n",
       "                                              signal  \n",
       "0  [0.00039531197398900986, 0.0033566197380423546...  \n",
       "1  [0.0029753046110272408, 0.003130626864731312, ...  \n",
       "2  [0.002729683183133602, 0.004241614602506161, 0...  \n",
       "3  [0.00292003620415926, -0.0018318099901080132, ...  \n",
       "4  [0.00039146747440099716, -0.000941650010645389...  "
      ],
      "text/html": [
       "<div>\n",
       "<style scoped>\n",
       "    .dataframe tbody tr th:only-of-type {\n",
       "        vertical-align: middle;\n",
       "    }\n",
       "\n",
       "    .dataframe tbody tr th {\n",
       "        vertical-align: top;\n",
       "    }\n",
       "\n",
       "    .dataframe thead th {\n",
       "        text-align: right;\n",
       "    }\n",
       "</style>\n",
       "<table border=\"1\" class=\"dataframe\">\n",
       "  <thead>\n",
       "    <tr style=\"text-align: right;\">\n",
       "      <th></th>\n",
       "      <th>model</th>\n",
       "      <th>subject</th>\n",
       "      <th>setting</th>\n",
       "      <th>duration</th>\n",
       "      <th>signal</th>\n",
       "    </tr>\n",
       "  </thead>\n",
       "  <tbody>\n",
       "    <tr>\n",
       "      <th>0</th>\n",
       "      <td>20240511_194544</td>\n",
       "      <td>Proband01</td>\n",
       "      <td>101_natural_lighting</td>\n",
       "      <td>0 days 00:00:01.582158</td>\n",
       "      <td>[0.00039531197398900986, 0.0033566197380423546...</td>\n",
       "    </tr>\n",
       "    <tr>\n",
       "      <th>1</th>\n",
       "      <td>20240511_190518</td>\n",
       "      <td>Proband01</td>\n",
       "      <td>101_natural_lighting</td>\n",
       "      <td>0 days 00:00:01.591153</td>\n",
       "      <td>[0.0029753046110272408, 0.003130626864731312, ...</td>\n",
       "    </tr>\n",
       "    <tr>\n",
       "      <th>2</th>\n",
       "      <td>20240511_194544</td>\n",
       "      <td>Proband02</td>\n",
       "      <td>101_natural_lighting</td>\n",
       "      <td>0 days 00:00:01.593130</td>\n",
       "      <td>[0.002729683183133602, 0.004241614602506161, 0...</td>\n",
       "    </tr>\n",
       "    <tr>\n",
       "      <th>3</th>\n",
       "      <td>20240511_190518</td>\n",
       "      <td>Proband02</td>\n",
       "      <td>101_natural_lighting</td>\n",
       "      <td>0 days 00:00:01.591145</td>\n",
       "      <td>[0.00292003620415926, -0.0018318099901080132, ...</td>\n",
       "    </tr>\n",
       "    <tr>\n",
       "      <th>4</th>\n",
       "      <td>20240511_194544</td>\n",
       "      <td>Proband03</td>\n",
       "      <td>101_natural_lighting</td>\n",
       "      <td>0 days 00:00:01.594567</td>\n",
       "      <td>[0.00039146747440099716, -0.000941650010645389...</td>\n",
       "    </tr>\n",
       "  </tbody>\n",
       "</table>\n",
       "</div>"
      ]
     },
     "execution_count": 2,
     "metadata": {},
     "output_type": "execute_result"
    }
   ],
   "execution_count": 2
  },
  {
   "metadata": {},
   "cell_type": "markdown",
   "source": "## Get the Ground Truth RR Signal",
   "id": "e925da72b92c6338"
  },
  {
   "metadata": {
    "ExecuteTime": {
     "end_time": "2024-05-12T06:37:05.736920Z",
     "start_time": "2024-05-12T06:37:05.620586Z"
    }
   },
   "cell_type": "code",
   "source": [
    "ground_truth_file = utils.join_paths(signals_path, 'respiration_gt.csv')\n",
    "ground_truth = pd.read_csv(ground_truth_file)\n",
    "ground_truth['signal'] = ground_truth['signal'].apply(eval).apply(np.array)\n",
    "ground_truth.head()"
   ],
   "id": "aa5deabe3ffec84d",
   "outputs": [
    {
     "data": {
      "text/plain": [
       "     subject               setting  \\\n",
       "0  Proband01  101_natural_lighting   \n",
       "1  Proband02  101_natural_lighting   \n",
       "2  Proband03  101_natural_lighting   \n",
       "3  Proband04  101_natural_lighting   \n",
       "4  Proband05  101_natural_lighting   \n",
       "\n",
       "                                              signal  \n",
       "0  [6059.713310369678, 6680.352219172085, 6483.68...  \n",
       "1  [-32.842349471658856, -2038.812437786393, -133...  \n",
       "2  [-1296.558040724748, -782.3809097047636, -954....  \n",
       "3  [1959.6682933757063, 2771.8349143575556, 2765....  \n",
       "4  [-1583.2997360384775, -261.8138707427685, -822...  "
      ],
      "text/html": [
       "<div>\n",
       "<style scoped>\n",
       "    .dataframe tbody tr th:only-of-type {\n",
       "        vertical-align: middle;\n",
       "    }\n",
       "\n",
       "    .dataframe tbody tr th {\n",
       "        vertical-align: top;\n",
       "    }\n",
       "\n",
       "    .dataframe thead th {\n",
       "        text-align: right;\n",
       "    }\n",
       "</style>\n",
       "<table border=\"1\" class=\"dataframe\">\n",
       "  <thead>\n",
       "    <tr style=\"text-align: right;\">\n",
       "      <th></th>\n",
       "      <th>subject</th>\n",
       "      <th>setting</th>\n",
       "      <th>signal</th>\n",
       "    </tr>\n",
       "  </thead>\n",
       "  <tbody>\n",
       "    <tr>\n",
       "      <th>0</th>\n",
       "      <td>Proband01</td>\n",
       "      <td>101_natural_lighting</td>\n",
       "      <td>[6059.713310369678, 6680.352219172085, 6483.68...</td>\n",
       "    </tr>\n",
       "    <tr>\n",
       "      <th>1</th>\n",
       "      <td>Proband02</td>\n",
       "      <td>101_natural_lighting</td>\n",
       "      <td>[-32.842349471658856, -2038.812437786393, -133...</td>\n",
       "    </tr>\n",
       "    <tr>\n",
       "      <th>2</th>\n",
       "      <td>Proband03</td>\n",
       "      <td>101_natural_lighting</td>\n",
       "      <td>[-1296.558040724748, -782.3809097047636, -954....</td>\n",
       "    </tr>\n",
       "    <tr>\n",
       "      <th>3</th>\n",
       "      <td>Proband04</td>\n",
       "      <td>101_natural_lighting</td>\n",
       "      <td>[1959.6682933757063, 2771.8349143575556, 2765....</td>\n",
       "    </tr>\n",
       "    <tr>\n",
       "      <th>4</th>\n",
       "      <td>Proband05</td>\n",
       "      <td>101_natural_lighting</td>\n",
       "      <td>[-1583.2997360384775, -261.8138707427685, -822...</td>\n",
       "    </tr>\n",
       "  </tbody>\n",
       "</table>\n",
       "</div>"
      ]
     },
     "execution_count": 3,
     "metadata": {},
     "output_type": "execute_result"
    }
   ],
   "execution_count": 3
  },
  {
   "metadata": {},
   "cell_type": "markdown",
   "source": "## Analyze the Performance of the Model",
   "id": "cda20c512d3a9b55"
  },
  {
   "metadata": {
    "ExecuteTime": {
     "end_time": "2024-05-12T06:37:05.739809Z",
     "start_time": "2024-05-12T06:37:05.737536Z"
    }
   },
   "cell_type": "code",
   "source": [
    "models = prediction['model'].unique()\n",
    "models"
   ],
   "id": "8608121169d15e65",
   "outputs": [
    {
     "data": {
      "text/plain": [
       "array(['20240511_194544', '20240511_190518'], dtype=object)"
      ]
     },
     "execution_count": 4,
     "metadata": {},
     "output_type": "execute_result"
    }
   ],
   "execution_count": 4
  },
  {
   "metadata": {
    "ExecuteTime": {
     "end_time": "2024-05-12T06:37:05.746508Z",
     "start_time": "2024-05-12T06:37:05.740416Z"
    }
   },
   "cell_type": "code",
   "source": [
    "# The testing scenarios are the same for each model\n",
    "manifest_path = utils.file_path('models', 'transformer', '20240511_190518', 'manifest.json')\n",
    "manifest = utils.read_json(manifest_path)\n",
    "testing_scenarios = manifest['testing_scenarios']\n",
    "testing_scenarios"
   ],
   "id": "fee54e5734b5e884",
   "outputs": [
    {
     "data": {
      "text/plain": [
       "[['Proband21', '101_natural_lighting'],\n",
       " ['Proband22', '101_natural_lighting'],\n",
       " ['Proband23', '101_natural_lighting'],\n",
       " ['Proband24', '101_natural_lighting'],\n",
       " ['Proband25', '101_natural_lighting'],\n",
       " ['Proband26', '101_natural_lighting']]"
      ]
     },
     "execution_count": 5,
     "metadata": {},
     "output_type": "execute_result"
    }
   ],
   "execution_count": 5
  },
  {
   "metadata": {
    "ExecuteTime": {
     "end_time": "2024-05-12T06:37:22.539552Z",
     "start_time": "2024-05-12T06:37:05.746915Z"
    }
   },
   "cell_type": "code",
   "source": [
    "import os\n",
    "from tqdm.auto import tqdm\n",
    "import respiration.analysis as analysis\n",
    "\n",
    "analysis_dir = utils.dir_path('outputs', 'analysis', mkdir=True)\n",
    "analysis_file = os.path.join(analysis_dir, 'transformer_analysis.csv')\n",
    "\n",
    "if os.path.exists(analysis_file):\n",
    "    analysis_results = pd.read_csv(analysis_file)\n",
    "else:\n",
    "    analysis_results = []\n",
    "\n",
    "    for model_id in tqdm(models):\n",
    "        for (subject, setting) in testing_scenarios:\n",
    "            scenario = prediction[(prediction['model'] == model_id) &\n",
    "                                  (prediction['subject'] == subject) &\n",
    "                                  (prediction['setting'] == setting)].iloc[0]\n",
    "            prediction_signal = scenario['signal']\n",
    "\n",
    "            scenario_gt = ground_truth[(ground_truth['subject'] == subject) &\n",
    "                                       (ground_truth['setting'] == setting)].iloc[0]\n",
    "\n",
    "            # Cut the signal to the same length\n",
    "            gt_signal = scenario_gt['signal'][1:len(prediction_signal) + 1]\n",
    "\n",
    "            comparator = analysis.SignalComparator(\n",
    "                prediction_signal,\n",
    "                gt_signal,\n",
    "                30,\n",
    "            )\n",
    "\n",
    "            for metric, result in comparator.all_results().items():\n",
    "                analysis_results.append({\n",
    "                    'model_id': model_id,\n",
    "                    'subject': subject,\n",
    "                    'setting': setting,\n",
    "                    'metric': metric,\n",
    "                    'prediction': result['prediction'],\n",
    "                    'ground_truth': result['ground_truth'],\n",
    "                })\n",
    "\n",
    "    analysis_results = pd.DataFrame(analysis_results)\n",
    "    analysis_results.to_csv(analysis_file, index=False)"
   ],
   "id": "f0391e364567af4e",
   "outputs": [
    {
     "data": {
      "text/plain": [
       "  0%|          | 0/2 [00:00<?, ?it/s]"
      ],
      "application/vnd.jupyter.widget-view+json": {
       "version_major": 2,
       "version_minor": 0,
       "model_id": "ee55c0045d734ffd9c1867b337c32907"
      }
     },
     "metadata": {},
     "output_type": "display_data"
    }
   ],
   "execution_count": 6
  },
  {
   "metadata": {
    "ExecuteTime": {
     "end_time": "2024-05-12T06:37:22.545187Z",
     "start_time": "2024-05-12T06:37:22.540148Z"
    }
   },
   "cell_type": "code",
   "source": "analysis_results.head()",
   "id": "81b36bd3dbff6ed3",
   "outputs": [
    {
     "data": {
      "text/plain": [
       "          model_id    subject               setting metric  prediction  \\\n",
       "0  20240511_194544  Proband21  101_natural_lighting     pk        29.0   \n",
       "1  20240511_194544  Proband21  101_natural_lighting     cp        33.0   \n",
       "2  20240511_194544  Proband21  101_natural_lighting   nfcp        35.0   \n",
       "3  20240511_194544  Proband21  101_natural_lighting    psd         5.0   \n",
       "4  20240511_194544  Proband22  101_natural_lighting     pk        30.0   \n",
       "\n",
       "   ground_truth  \n",
       "0          26.0  \n",
       "1          26.0  \n",
       "2          28.0  \n",
       "3          21.0  \n",
       "4          27.0  "
      ],
      "text/html": [
       "<div>\n",
       "<style scoped>\n",
       "    .dataframe tbody tr th:only-of-type {\n",
       "        vertical-align: middle;\n",
       "    }\n",
       "\n",
       "    .dataframe tbody tr th {\n",
       "        vertical-align: top;\n",
       "    }\n",
       "\n",
       "    .dataframe thead th {\n",
       "        text-align: right;\n",
       "    }\n",
       "</style>\n",
       "<table border=\"1\" class=\"dataframe\">\n",
       "  <thead>\n",
       "    <tr style=\"text-align: right;\">\n",
       "      <th></th>\n",
       "      <th>model_id</th>\n",
       "      <th>subject</th>\n",
       "      <th>setting</th>\n",
       "      <th>metric</th>\n",
       "      <th>prediction</th>\n",
       "      <th>ground_truth</th>\n",
       "    </tr>\n",
       "  </thead>\n",
       "  <tbody>\n",
       "    <tr>\n",
       "      <th>0</th>\n",
       "      <td>20240511_194544</td>\n",
       "      <td>Proband21</td>\n",
       "      <td>101_natural_lighting</td>\n",
       "      <td>pk</td>\n",
       "      <td>29.0</td>\n",
       "      <td>26.0</td>\n",
       "    </tr>\n",
       "    <tr>\n",
       "      <th>1</th>\n",
       "      <td>20240511_194544</td>\n",
       "      <td>Proband21</td>\n",
       "      <td>101_natural_lighting</td>\n",
       "      <td>cp</td>\n",
       "      <td>33.0</td>\n",
       "      <td>26.0</td>\n",
       "    </tr>\n",
       "    <tr>\n",
       "      <th>2</th>\n",
       "      <td>20240511_194544</td>\n",
       "      <td>Proband21</td>\n",
       "      <td>101_natural_lighting</td>\n",
       "      <td>nfcp</td>\n",
       "      <td>35.0</td>\n",
       "      <td>28.0</td>\n",
       "    </tr>\n",
       "    <tr>\n",
       "      <th>3</th>\n",
       "      <td>20240511_194544</td>\n",
       "      <td>Proband21</td>\n",
       "      <td>101_natural_lighting</td>\n",
       "      <td>psd</td>\n",
       "      <td>5.0</td>\n",
       "      <td>21.0</td>\n",
       "    </tr>\n",
       "    <tr>\n",
       "      <th>4</th>\n",
       "      <td>20240511_194544</td>\n",
       "      <td>Proband22</td>\n",
       "      <td>101_natural_lighting</td>\n",
       "      <td>pk</td>\n",
       "      <td>30.0</td>\n",
       "      <td>27.0</td>\n",
       "    </tr>\n",
       "  </tbody>\n",
       "</table>\n",
       "</div>"
      ]
     },
     "execution_count": 7,
     "metadata": {},
     "output_type": "execute_result"
    }
   ],
   "execution_count": 7
  },
  {
   "metadata": {
    "ExecuteTime": {
     "end_time": "2024-05-12T06:37:22.564542Z",
     "start_time": "2024-05-12T06:37:22.545773Z"
    }
   },
   "cell_type": "code",
   "source": "analysis_results['error'] = (analysis_results['prediction'] - analysis_results['ground_truth']).abs()",
   "id": "28676123a8a7c73e",
   "outputs": [],
   "execution_count": 8
  },
  {
   "metadata": {
    "ExecuteTime": {
     "end_time": "2024-05-12T06:37:22.639655Z",
     "start_time": "2024-05-12T06:37:22.564982Z"
    }
   },
   "cell_type": "code",
   "source": [
    "# Plot the pk metrics error for each model\n",
    "import matplotlib.pyplot as plt\n",
    "\n",
    "models = prediction['model'].unique()\n",
    "metrics = analysis_results['metric'].unique()\n",
    "\n",
    "fig = plt.figure(figsize=(20, 5))\n",
    "for model_id in models:\n",
    "    model_results = analysis_results[\n",
    "        (analysis_results['model_id'] == model_id) &\n",
    "        (analysis_results['metric'] == 'pk')\n",
    "        ]\n",
    "\n",
    "    # Plot the mean error for each model\n",
    "    mean_error = model_results['error'].mean()\n",
    "    plt.bar(model_id, mean_error, label=model_id)\n",
    "\n",
    "plt.xlabel('Model')\n",
    "plt.ylabel('Mean Error')\n",
    "plt.title('Mean Error for Fine-Tuned Models')\n",
    "\n",
    "plt.show()"
   ],
   "id": "446b5e7658d3d393",
   "outputs": [
    {
     "data": {
      "text/plain": [
       "<Figure size 2000x500 with 1 Axes>"
      ],
      "image/png": "[encoded data removed]"
     },
     "metadata": {},
     "output_type": "display_data"
    }
   ],
   "execution_count": 9
  },
  {
   "metadata": {
    "ExecuteTime": {
     "end_time": "2024-05-12T06:37:22.650666Z",
     "start_time": "2024-05-12T06:37:22.640277Z"
    }
   },
   "cell_type": "code",
   "source": [
    "import scipy.stats as stats\n",
    "\n",
    "correlations = []\n",
    "\n",
    "for model in models:\n",
    "    model_data = analysis_results[analysis_results['model_id'] == model]\n",
    "\n",
    "    for metric in metrics:\n",
    "        metric_data = model_data[model_data['metric'] == metric]\n",
    "\n",
    "        if len(metric_data) != 0:\n",
    "            correlation, p_value = stats.pearsonr(metric_data['prediction'], metric_data['ground_truth'])\n",
    "            rmse = ((metric_data['prediction'] - metric_data['ground_truth']) ** 2).mean() ** 0.5\n",
    "\n",
    "            correlations.append({\n",
    "                'model': model,\n",
    "                'metric': metric,\n",
    "                'correlation': correlation,\n",
    "                'p_value': p_value,\n",
    "                'rmse': rmse\n",
    "            })\n",
    "\n",
    "correlations = pd.DataFrame(correlations)\n",
    "correlations"
   ],
   "id": "a325c3d5007c0c31",
   "outputs": [
    {
     "data": {
      "text/plain": [
       "             model metric  correlation   p_value       rmse\n",
       "0  20240511_194544     pk     0.302372  0.560265   4.123106\n",
       "1  20240511_194544     cp     0.138675  0.793321   6.879922\n",
       "2  20240511_194544   nfcp     0.068339  0.897650   8.246211\n",
       "3  20240511_194544    psd     0.303664  0.558504  15.921683\n",
       "4  20240511_190518     pk     0.345271  0.502674   3.674235\n",
       "5  20240511_190518     cp     0.754082  0.083278   6.595453\n",
       "6  20240511_190518   nfcp     0.555064  0.252911   8.124038\n",
       "7  20240511_190518    psd     0.732516  0.097752  15.427249"
      ],
      "text/html": [
       "<div>\n",
       "<style scoped>\n",
       "    .dataframe tbody tr th:only-of-type {\n",
       "        vertical-align: middle;\n",
       "    }\n",
       "\n",
       "    .dataframe tbody tr th {\n",
       "        vertical-align: top;\n",
       "    }\n",
       "\n",
       "    .dataframe thead th {\n",
       "        text-align: right;\n",
       "    }\n",
       "</style>\n",
       "<table border=\"1\" class=\"dataframe\">\n",
       "  <thead>\n",
       "    <tr style=\"text-align: right;\">\n",
       "      <th></th>\n",
       "      <th>model</th>\n",
       "      <th>metric</th>\n",
       "      <th>correlation</th>\n",
       "      <th>p_value</th>\n",
       "      <th>rmse</th>\n",
       "    </tr>\n",
       "  </thead>\n",
       "  <tbody>\n",
       "    <tr>\n",
       "      <th>0</th>\n",
       "      <td>20240511_194544</td>\n",
       "      <td>pk</td>\n",
       "      <td>0.302372</td>\n",
       "      <td>0.560265</td>\n",
       "      <td>4.123106</td>\n",
       "    </tr>\n",
       "    <tr>\n",
       "      <th>1</th>\n",
       "      <td>20240511_194544</td>\n",
       "      <td>cp</td>\n",
       "      <td>0.138675</td>\n",
       "      <td>0.793321</td>\n",
       "      <td>6.879922</td>\n",
       "    </tr>\n",
       "    <tr>\n",
       "      <th>2</th>\n",
       "      <td>20240511_194544</td>\n",
       "      <td>nfcp</td>\n",
       "      <td>0.068339</td>\n",
       "      <td>0.897650</td>\n",
       "      <td>8.246211</td>\n",
       "    </tr>\n",
       "    <tr>\n",
       "      <th>3</th>\n",
       "      <td>20240511_194544</td>\n",
       "      <td>psd</td>\n",
       "      <td>0.303664</td>\n",
       "      <td>0.558504</td>\n",
       "      <td>15.921683</td>\n",
       "    </tr>\n",
       "    <tr>\n",
       "      <th>4</th>\n",
       "      <td>20240511_190518</td>\n",
       "      <td>pk</td>\n",
       "      <td>0.345271</td>\n",
       "      <td>0.502674</td>\n",
       "      <td>3.674235</td>\n",
       "    </tr>\n",
       "    <tr>\n",
       "      <th>5</th>\n",
       "      <td>20240511_190518</td>\n",
       "      <td>cp</td>\n",
       "      <td>0.754082</td>\n",
       "      <td>0.083278</td>\n",
       "      <td>6.595453</td>\n",
       "    </tr>\n",
       "    <tr>\n",
       "      <th>6</th>\n",
       "      <td>20240511_190518</td>\n",
       "      <td>nfcp</td>\n",
       "      <td>0.555064</td>\n",
       "      <td>0.252911</td>\n",
       "      <td>8.124038</td>\n",
       "    </tr>\n",
       "    <tr>\n",
       "      <th>7</th>\n",
       "      <td>20240511_190518</td>\n",
       "      <td>psd</td>\n",
       "      <td>0.732516</td>\n",
       "      <td>0.097752</td>\n",
       "      <td>15.427249</td>\n",
       "    </tr>\n",
       "  </tbody>\n",
       "</table>\n",
       "</div>"
      ]
     },
     "execution_count": 10,
     "metadata": {},
     "output_type": "execute_result"
    }
   ],
   "execution_count": 10
  }
 ],
 "metadata": {
  "kernelspec": {
   "display_name": "Python 3",
   "language": "python",
   "name": "python3"
  },
  "language_info": {
   "codemirror_mode": {
    "name": "ipython",
    "version": 2
   },
   "file_extension": ".py",
   "mimetype": "text/x-python",
   "name": "python",
   "nbconvert_exporter": "python",
   "pygments_lexer": "ipython2",
   "version": "2.7.6"
  }
 },
 "nbformat": 4,
 "nbformat_minor": 5
}
