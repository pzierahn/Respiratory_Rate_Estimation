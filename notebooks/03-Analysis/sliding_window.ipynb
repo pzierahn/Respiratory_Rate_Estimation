{
 "cells": [
  {
   "metadata": {},
   "cell_type": "markdown",
   "source": [
    "# Evaluate the performance of the different models by using a sliding window approach\n",
    "\n",
    "Steps:\n",
    "1. Load the ground truth signals and harmonize the data\n",
    "2. Evaluate the performance of the different models by using a sliding window approach"
   ],
   "id": "858d2eaef54d2b36"
  },
  {
   "metadata": {},
   "cell_type": "markdown",
   "source": "## Step 1: Load the ground truth signals and harmonize the data",
   "id": "d5de492f4255dbcf"
  },
  {
   "cell_type": "code",
   "id": "db3bfc6b2e01322a",
   "metadata": {
    "collapsed": true
   },
   "source": [
    "import numpy as np\n",
    "import pandas as pd\n",
    "import respiration.utils as utils\n",
    "\n",
    "signals_dir = utils.dir_path('outputs', 'signals')"
   ],
   "outputs": [],
   "execution_count": null
  },
  {
   "metadata": {},
   "cell_type": "code",
   "source": [
    "raft_file = utils.join_paths(signals_dir, 'raft_predictions.csv')\n",
    "raft_predictions = pd.read_csv(raft_file)\n",
    "raft_predictions['signal'] = raft_predictions['signal_v'].apply(eval).apply(np.array)\n",
    "\n",
    "# Only keep the chest roi predictions\n",
    "raft_predictions = raft_predictions[raft_predictions['roi'] == 'chest']\n",
    "\n",
    "# Only keep the columns that are needed\n",
    "raft_predictions = raft_predictions[['subject', 'setting', 'model', 'signal']]\n",
    "\n",
    "raft_predictions.head()"
   ],
   "id": "9e7ad8144746a824",
   "outputs": [],
   "execution_count": null
  },
  {
   "metadata": {},
   "cell_type": "code",
   "source": [
    "pretrained_file = utils.join_paths(signals_dir, 'pretrained_predictions.csv')\n",
    "pretrained_predictions = pd.read_csv(pretrained_file)\n",
    "pretrained_predictions['signal'] = pretrained_predictions['signal'].apply(eval).apply(np.array)\n",
    "\n",
    "# Only keep the columns that are needed\n",
    "pretrained_predictions = pretrained_predictions[['subject', 'setting', 'model', 'signal']]\n",
    "\n",
    "pretrained_predictions.head()"
   ],
   "id": "initial_id",
   "outputs": [],
   "execution_count": null
  },
  {
   "metadata": {},
   "cell_type": "markdown",
   "source": "## Step 2: Evaluate the performance of the different models by using a sliding window approach",
   "id": "37e70d5e3a50c222"
  },
  {
   "metadata": {},
   "cell_type": "code",
   "source": [
    "predictions = pd.concat([raft_predictions, pretrained_predictions])\n",
    "len(predictions)"
   ],
   "id": "4cfae15900d907fe",
   "outputs": [],
   "execution_count": null
  },
  {
   "metadata": {},
   "cell_type": "code",
   "source": [
    "from respiration.dataset import VitalCamSet\n",
    "\n",
    "dataset = VitalCamSet()"
   ],
   "id": "42dfbd471b70b5f9",
   "outputs": [],
   "execution_count": null
  },
  {
   "metadata": {},
   "cell_type": "code",
   "source": [
    "import itertools\n",
    "import scipy.stats as stats\n",
    "from respiration.analysis import sliding_window_psd\n",
    "\n",
    "# rPPG lowpass and highpass frequencies\n",
    "lowpass = 0.7\n",
    "highpass = 2.5\n",
    "\n",
    "# Breathing lowpass and highpass frequencies\n",
    "# lowpass = 0.08\n",
    "# highpass = 0.5\n",
    "\n",
    "for model in predictions['model'].unique():\n",
    "    model_predictions = predictions[predictions['model'] == model]\n",
    "\n",
    "    gt_psds = []\n",
    "    pred_psds = []\n",
    "\n",
    "    subjects = model_predictions['subject'].unique()\n",
    "    settings = model_predictions['setting'].unique()\n",
    "\n",
    "    for (subject, setting) in itertools.product(subjects, settings):\n",
    "        # Get the predicted signal\n",
    "        pred_signal = model_predictions[\n",
    "            (model_predictions['subject'] == subject) &\n",
    "            (model_predictions['setting'] == setting)]['signal'].values[0]\n",
    "\n",
    "        # Get the ground truth signal\n",
    "        gt_signal = dataset.get_vital_sign(subject, setting, utils.VitalSigns.pleth)\n",
    "\n",
    "        prediction_windows = sliding_window_psd(pred_signal, 30, lowpass, highpass, window_size=30)\n",
    "        gt_psds.extend(prediction_windows)\n",
    "\n",
    "        gt_windows = sliding_window_psd(gt_signal, 30, lowpass, highpass, window_size=30)\n",
    "        pred_psds.extend(gt_windows)\n",
    "\n",
    "    gt_psds = np.array(gt_psds)\n",
    "    pred_psds = np.array(pred_psds)\n",
    "\n",
    "    print(f'Model: {model}')\n",
    "    mse = np.mean((gt_psds - pred_psds) ** 2)\n",
    "    print(f'MSE: {mse}')\n",
    "\n",
    "    mae = np.mean(np.abs(gt_psds - pred_psds))\n",
    "    print(f'MAE: {mae}')\n",
    "\n",
    "    corr, p = stats.pearsonr(gt_psds.flatten(), pred_psds.flatten())\n",
    "    print(f'Correlation: {corr}, p-value: {p}')\n",
    "    print()\n",
    "    #break"
   ],
   "id": "46d1f0a04a332bc3",
   "outputs": [],
   "execution_count": null
  }
 ],
 "metadata": {
  "kernelspec": {
   "display_name": "Python 3",
   "language": "python",
   "name": "python3"
  },
  "language_info": {
   "codemirror_mode": {
    "name": "ipython",
    "version": 2
   },
   "file_extension": ".py",
   "mimetype": "text/x-python",
   "name": "python",
   "nbconvert_exporter": "python",
   "pygments_lexer": "ipython2",
   "version": "2.7.6"
  }
 },
 "nbformat": 4,
 "nbformat_minor": 5
}
