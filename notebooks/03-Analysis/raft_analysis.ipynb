{
 "cells": [
  {
   "metadata": {},
   "cell_type": "markdown",
   "source": "# Analysis of unsupervised models",
   "id": "ab8bdee78031cc65"
  },
  {
   "cell_type": "code",
   "id": "initial_id",
   "metadata": {
    "collapsed": true
   },
   "source": [
    "import numpy as np\n",
    "import pandas as pd\n",
    "import respiration.utils as utils\n",
    "\n",
    "signals_dir = utils.dir_path('outputs', 'signals')\n",
    "\n",
    "ground_truth_file = utils.join_paths(signals_dir, 'respiration_gt.csv')\n",
    "ground_truth = pd.read_csv(ground_truth_file)\n",
    "ground_truth['signal'] = ground_truth['signal'].apply(eval).apply(np.array)\n",
    "\n",
    "predictions_file = utils.join_paths(signals_dir, 'raft_predictions.csv')\n",
    "predictions = pd.read_csv(predictions_file)\n",
    "predictions['signal_uv'] = predictions['signal_uv'].apply(eval).apply(np.array)\n",
    "predictions['signal_uv_std'] = predictions['signal_uv_std'].apply(eval).apply(np.array)\n",
    "predictions['signal_v'] = predictions['signal_v'].apply(eval).apply(np.array)\n",
    "predictions['signal_v_std'] = predictions['signal_v_std'].apply(eval).apply(np.array)\n",
    "predictions.head()"
   ],
   "outputs": [],
   "execution_count": null
  },
  {
   "metadata": {},
   "cell_type": "markdown",
   "source": "## Get the BPM for each prediction and ground truth signal",
   "id": "dac9f58f30a88636"
  },
  {
   "metadata": {},
   "cell_type": "code",
   "source": [
    "import os\n",
    "from tqdm.auto import tqdm\n",
    "import respiration.analysis as analysis\n",
    "\n",
    "analysis_dir = utils.dir_path('outputs', 'analysis', mkdir=True)\n",
    "analysis_file = utils.join_paths(analysis_dir, 'raft_analysis.csv')\n",
    "\n",
    "signal_directions = [\n",
    "    'signal_uv',  # Amplitudes of the motion vectors in the horizontal and vertical directions\n",
    "    'signal_v',  # Amplitudes of the motion vectors in the vertical direction\n",
    "]\n",
    "\n",
    "if os.path.exists(analysis_file):\n",
    "    analysis_results = pd.read_csv(analysis_file)\n",
    "else:\n",
    "    analysis_results = []\n",
    "\n",
    "    for index, row in tqdm(predictions.iterrows(), total=len(predictions)):\n",
    "        subject, setting = row['subject'], row['setting']\n",
    "\n",
    "        # Get the ground truth signal and sampling rate\n",
    "        gt_signal = ground_truth[\n",
    "            (ground_truth['subject'] == subject) &\n",
    "            (ground_truth['setting'] == setting)\n",
    "            ]['signal'].values[0]\n",
    "\n",
    "        for signal_direction in signal_directions:\n",
    "\n",
    "            prediction, sampling_rate = row[signal_direction], row['sampling_rate']\n",
    "            comparator = analysis.SignalComparator(\n",
    "                prediction,\n",
    "                gt_signal,\n",
    "                sampling_rate,\n",
    "            )\n",
    "\n",
    "            for metric, result in comparator.all_results().items():\n",
    "                analysis_results.append({\n",
    "                    'subject': subject,\n",
    "                    'setting': setting,\n",
    "                    'model': row['model'],\n",
    "                    'roi': row['roi'],\n",
    "                    'signal_direction': signal_direction,\n",
    "                    'metric': metric,\n",
    "                    'prediction': result['prediction'],\n",
    "                    'ground_truth': result['ground_truth'],\n",
    "                })\n",
    "\n",
    "    analysis_results = pd.DataFrame(analysis_results)\n",
    "    analysis_results.to_csv(analysis_file, index=False)"
   ],
   "id": "51983551b157c2c1",
   "outputs": [],
   "execution_count": null
  },
  {
   "metadata": {},
   "cell_type": "code",
   "source": "analysis_results.head()",
   "id": "c5721645c908577",
   "outputs": [],
   "execution_count": null
  },
  {
   "metadata": {},
   "cell_type": "markdown",
   "source": "## Get the mean and standard deviation of the results",
   "id": "e79ce56665489c58"
  },
  {
   "metadata": {},
   "cell_type": "code",
   "source": [
    "method_results = []\n",
    "\n",
    "metrics = analysis_results['metric'].unique()\n",
    "models = analysis_results['model'].unique()\n",
    "rois = analysis_results['roi'].unique()\n",
    "\n",
    "for model in models:\n",
    "    for metric in metrics:\n",
    "        for signal_direction in signal_directions:\n",
    "            for roi in rois:\n",
    "                data = analysis_results[\n",
    "                    (analysis_results['model'] == model) &\n",
    "                    (analysis_results['metric'] == metric) &\n",
    "                    (analysis_results['roi'] == roi) &\n",
    "                    (analysis_results['signal_direction'] == signal_direction)\n",
    "                    ]\n",
    "\n",
    "                error = (data['prediction'] - data['ground_truth']).abs()\n",
    "\n",
    "                method_results.append({\n",
    "                    'model': model,\n",
    "                    'metric': metric,\n",
    "                    'roi': roi,\n",
    "                    'signal_direction': signal_direction,\n",
    "                    'mean_error': error.mean(),\n",
    "                    'std_error': error.std(),\n",
    "                })\n",
    "\n",
    "method_results = pd.DataFrame(method_results)"
   ],
   "id": "7b11b05e47022078",
   "outputs": [],
   "execution_count": null
  },
  {
   "metadata": {},
   "cell_type": "code",
   "source": "method_results",
   "id": "32692a39b67e1503",
   "outputs": [],
   "execution_count": null
  },
  {
   "metadata": {},
   "cell_type": "code",
   "source": [
    "# Group the results by signal direction. Calculate the mean and standard deviation of the error for each metric\n",
    "grouped_results = method_results.groupby(['signal_direction', 'roi']).agg({\n",
    "    'mean_error': 'mean',\n",
    "    'std_error': 'mean',\n",
    "}).reset_index()\n",
    "grouped_results"
   ],
   "id": "c32dae2c65dc40cd",
   "outputs": [],
   "execution_count": null
  }
 ],
 "metadata": {
  "kernelspec": {
   "display_name": "Python 3",
   "language": "python",
   "name": "python3"
  },
  "language_info": {
   "codemirror_mode": {
    "name": "ipython",
    "version": 2
   },
   "file_extension": ".py",
   "mimetype": "text/x-python",
   "name": "python",
   "nbconvert_exporter": "python",
   "pygments_lexer": "ipython2",
   "version": "2.7.6"
  }
 },
 "nbformat": 4,
 "nbformat_minor": 5
}
