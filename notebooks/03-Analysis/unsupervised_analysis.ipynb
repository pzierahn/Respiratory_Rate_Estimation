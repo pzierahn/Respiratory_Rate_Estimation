{
 "cells": [
  {
   "metadata": {},
   "cell_type": "markdown",
   "source": "# Analysis of unsupervised models",
   "id": "ab8bdee78031cc65"
  },
  {
   "cell_type": "code",
   "id": "initial_id",
   "metadata": {
    "collapsed": true
   },
   "source": [
    "import numpy as np\n",
    "import pandas as pd\n",
    "import respiration.utils as utils\n",
    "\n",
    "evaluation_dir = utils.dir_path('outputs', 'signals')\n",
    "\n",
    "predictions_file = utils.join_paths(evaluation_dir, 'unsupervised_predictions.csv')\n",
    "predictions = pd.read_csv(predictions_file)\n",
    "predictions['signal'] = predictions['signal'].apply(eval).apply(np.array)\n",
    "predictions['duration'] = pd.to_timedelta(predictions['duration'])\n",
    "predictions.head()"
   ],
   "outputs": [],
   "execution_count": null
  },
  {
   "metadata": {},
   "cell_type": "markdown",
   "source": "## Compare the predictions to the ground truth",
   "id": "dac9f58f30a88636"
  },
  {
   "metadata": {},
   "cell_type": "code",
   "source": [
    "import os\n",
    "import tqdm.auto as tqdm\n",
    "import respiration.analysis as analysis\n",
    "\n",
    "from respiration.dataset import VitalCamSet\n",
    "\n",
    "analysis_dir = utils.dir_path('outputs', 'analysis', mkdir=True)\n",
    "analysis_file = utils.join_paths(analysis_dir, 'unsupervised_analysis.csv')\n",
    "\n",
    "dataset = VitalCamSet()\n",
    "\n",
    "if os.path.exists(analysis_file):\n",
    "    analysis_results = pd.read_csv(analysis_file)\n",
    "else:\n",
    "    analysis_results = []\n",
    "\n",
    "    for index, row in tqdm.tqdm(predictions.iterrows(), total=len(predictions)):\n",
    "        subject, setting = row['subject'], row['setting']\n",
    "\n",
    "        # Get the ground truth signal and sampling rate\n",
    "        gt_signal = dataset.get_breathing_signal(subject, setting)\n",
    "\n",
    "        prediction, sampling_rate = row['signal'], row['sampling_rate']\n",
    "\n",
    "        comparator = analysis.SignalComparator(\n",
    "            prediction,\n",
    "            gt_signal,\n",
    "            sampling_rate,\n",
    "        )\n",
    "\n",
    "        for metric, result in comparator.all_results().items():\n",
    "            analysis_results.append({\n",
    "                'subject': subject,\n",
    "                'setting': setting,\n",
    "                'method': row['method'],\n",
    "                'roi': row['roi'],\n",
    "                'metric': metric,\n",
    "                'prediction': result['prediction'],\n",
    "                'ground_truth': result['ground_truth'],\n",
    "            })\n",
    "\n",
    "    analysis_results = pd.DataFrame(analysis_results)\n",
    "    analysis_results.to_csv(analysis_file, index=False)"
   ],
   "id": "51983551b157c2c1",
   "outputs": [],
   "execution_count": null
  },
  {
   "metadata": {},
   "cell_type": "code",
   "source": "analysis_results",
   "id": "c5721645c908577",
   "outputs": [],
   "execution_count": null
  }
 ],
 "metadata": {
  "kernelspec": {
   "display_name": "Python 3",
   "language": "python",
   "name": "python3"
  },
  "language_info": {
   "codemirror_mode": {
    "name": "ipython",
    "version": 2
   },
   "file_extension": ".py",
   "mimetype": "text/x-python",
   "name": "python",
   "nbconvert_exporter": "python",
   "pygments_lexer": "ipython2",
   "version": "2.7.6"
  }
 },
 "nbformat": 4,
 "nbformat_minor": 5
}
