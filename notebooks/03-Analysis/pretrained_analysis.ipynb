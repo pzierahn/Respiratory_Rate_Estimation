{
 "cells": [
  {
   "metadata": {},
   "cell_type": "markdown",
   "source": "# Analysis of supervised models",
   "id": "ab8bdee78031cc65"
  },
  {
   "cell_type": "code",
   "id": "initial_id",
   "metadata": {
    "collapsed": true
   },
   "source": [
    "import numpy as np\n",
    "import pandas as pd\n",
    "import respiration.utils as utils\n",
    "\n",
    "signals_dir = utils.dir_path('outputs', 'signals')\n",
    "\n",
    "ground_truth_file = utils.join_paths(signals_dir, 'respiration_gt.csv')\n",
    "ground_truth = pd.read_csv(ground_truth_file)\n",
    "ground_truth['signal'] = ground_truth['signal'].apply(eval).apply(np.array)\n",
    "\n",
    "predictions_file = utils.join_paths(signals_dir, 'pretrained_predictions.csv')\n",
    "predictions = pd.read_csv(predictions_file)\n",
    "predictions['signal'] = predictions['signal'].apply(eval).apply(np.array)\n",
    "predictions['duration'] = pd.to_timedelta(predictions['duration'])\n",
    "predictions.head()"
   ],
   "outputs": [],
   "execution_count": null
  },
  {
   "metadata": {},
   "cell_type": "markdown",
   "source": "## Compare the predictions with the ground truth",
   "id": "dac9f58f30a88636"
  },
  {
   "metadata": {},
   "cell_type": "code",
   "source": [
    "import os\n",
    "from tqdm.auto import tqdm\n",
    "import respiration.analysis as analysis\n",
    "\n",
    "analysis_dir = utils.dir_path('outputs', 'analysis', mkdir=True)\n",
    "analysis_file = utils.join_paths(analysis_dir, 'pretrained_analysis.csv')\n",
    "\n",
    "if os.path.exists(analysis_file):\n",
    "    analysis_results = pd.read_csv(analysis_file)\n",
    "else:\n",
    "    analysis_results = []\n",
    "\n",
    "    for index, prediction in tqdm(predictions.iterrows(), total=len(predictions)):\n",
    "        subject, setting = prediction['subject'], prediction['setting']\n",
    "\n",
    "        # Get the ground truth signal and sampling rate\n",
    "        gt_signal = ground_truth[\n",
    "            (ground_truth['subject'] == subject) &\n",
    "            (ground_truth['setting'] == setting)\n",
    "            ]['signal'].values[0]\n",
    "\n",
    "        predicted_signal = prediction['signal']\n",
    "\n",
    "        # Check if model is big_small\n",
    "        if prediction['model'] == 'big_small':\n",
    "            # Use the cumulative sum of the waveform to get the signal\n",
    "            predicted_signal = np.cumsum(predicted_signal)\n",
    "\n",
    "        # Cut the ground truth signal to the same length as the prediction\n",
    "        gt_signal = gt_signal[:len(predicted_signal)]\n",
    "\n",
    "        comparator = analysis.SignalComparator(\n",
    "            predicted_signal,\n",
    "            gt_signal,\n",
    "            prediction['sampling_rate'],\n",
    "        )\n",
    "\n",
    "        for metric, result in comparator.all_results().items():\n",
    "            analysis_results.append({\n",
    "                'subject': subject,\n",
    "                'setting': setting,\n",
    "                'model': prediction['model'],\n",
    "                'metric': metric,\n",
    "                'prediction': result['prediction'],\n",
    "                'ground_truth': result['ground_truth'],\n",
    "            })\n",
    "\n",
    "    analysis_results = pd.DataFrame(analysis_results)\n",
    "    analysis_results.to_csv(analysis_file, index=False)"
   ],
   "id": "51983551b157c2c1",
   "outputs": [],
   "execution_count": null
  },
  {
   "metadata": {},
   "cell_type": "code",
   "source": "analysis_results.head()",
   "id": "c5721645c908577",
   "outputs": [],
   "execution_count": null
  }
 ],
 "metadata": {
  "kernelspec": {
   "display_name": "Python 3",
   "language": "python",
   "name": "python3"
  },
  "language_info": {
   "codemirror_mode": {
    "name": "ipython",
    "version": 2
   },
   "file_extension": ".py",
   "mimetype": "text/x-python",
   "name": "python",
   "nbconvert_exporter": "python",
   "pygments_lexer": "ipython2",
   "version": "2.7.6"
  }
 },
 "nbformat": 4,
 "nbformat_minor": 5
}
