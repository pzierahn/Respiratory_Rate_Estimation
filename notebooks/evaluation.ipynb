{
 "cells": [
  {
   "cell_type": "code",
   "id": "initial_id",
   "metadata": {
    "collapsed": true
   },
   "source": [
    "import os\n",
    "\n",
    "import numpy as np\n",
    "import pandas as pd\n",
    "\n",
    "evaluation_dir = os.path.join(os.getcwd(), '..', 'evaluation', 'signals-2024-04-20')\n",
    "predictions_file = os.path.join(evaluation_dir, 'predictions.csv')\n",
    "\n",
    "predictions = pd.read_csv(predictions_file)\n",
    "predictions['signal'] = predictions['signal'].apply(eval).apply(np.array)\n",
    "predictions['execution_time'] = pd.to_timedelta(predictions['execution_time'])\n",
    "\n",
    "ground_truth_file = os.path.join(evaluation_dir, 'ground_truth.csv')\n",
    "ground_truth = pd.read_csv(ground_truth_file)\n",
    "ground_truth['signal'] = ground_truth['signal'].apply(eval).apply(np.array)\n",
    "\n",
    "predictions.head()"
   ],
   "outputs": [],
   "execution_count": null
  },
  {
   "metadata": {},
   "cell_type": "markdown",
   "source": "## Frequency extraction evaluation",
   "id": "dac9f58f30a88636"
  },
  {
   "metadata": {},
   "cell_type": "code",
   "source": [
    "import respiration.analysis as analysis\n",
    "\n",
    "lowpass = 0.08\n",
    "highpass = 0.6\n",
    "\n",
    "bpm_results = []\n",
    "\n",
    "for index, row in predictions.iterrows():\n",
    "    subject, scenario = row['subject'], row['scenario']\n",
    "\n",
    "    # Get the ground truth signal and sampling rate\n",
    "    gt_signal, gt_sampling_rate = ground_truth[\n",
    "        (ground_truth['subject'] == subject) &\n",
    "        (ground_truth['scenario'] == scenario)\n",
    "        ][['signal', 'sampling_rate']].values[0]\n",
    "\n",
    "    gt_extractor = analysis.FrequencyExtractor(\n",
    "        gt_signal,\n",
    "        gt_sampling_rate,\n",
    "        lowpass,\n",
    "        highpass)\n",
    "\n",
    "    gt_frequencies = {\n",
    "        'fft': gt_extractor.frequency_from_fft(),\n",
    "        'pc': gt_extractor.frequency_from_peaks(),\n",
    "        'cp': gt_extractor.frequency_from_crossing_point(),\n",
    "        'nfcp': gt_extractor.frequency_from_nfcp(),\n",
    "    }\n",
    "\n",
    "    frequency_extractor = analysis.FrequencyExtractor(\n",
    "        row['signal'],\n",
    "        row['sampling_rate'],\n",
    "        lowpass,\n",
    "        highpass)\n",
    "\n",
    "    predicted_frequencies = {\n",
    "        'fft': frequency_extractor.frequency_from_fft(),\n",
    "        'pc': frequency_extractor.frequency_from_peaks(),\n",
    "        'cp': frequency_extractor.frequency_from_crossing_point(),\n",
    "        'nfcp': frequency_extractor.frequency_from_nfcp(),\n",
    "    }\n",
    "\n",
    "    for method in gt_frequencies.keys():\n",
    "        # The frequency is in Hz, we want to convert it to bpm\n",
    "        predicted_bpm = predicted_frequencies[method] * 60\n",
    "        gt_bpm = gt_frequencies[method] * 60\n",
    "\n",
    "        bpm_results.append({\n",
    "            'subject': subject,\n",
    "            'scenario': scenario,\n",
    "            'strategy': row['method'],\n",
    "            'roi': row['roi'],\n",
    "            'method': method,\n",
    "            'gt_bpm': predicted_bpm,\n",
    "            'predicted_bpm': gt_bpm,\n",
    "            'error_bpm': round(abs(gt_bpm - predicted_bpm), 2),\n",
    "        })"
   ],
   "id": "51983551b157c2c1",
   "outputs": [],
   "execution_count": null
  },
  {
   "metadata": {},
   "cell_type": "code",
   "source": [
    "bpm_results_df = pd.DataFrame(bpm_results)\n",
    "bpm_results_df"
   ],
   "id": "c5721645c908577",
   "outputs": [],
   "execution_count": null
  },
  {
   "metadata": {},
   "cell_type": "markdown",
   "source": "## Distance evaluation",
   "id": "7108950595631fa8"
  },
  {
   "metadata": {},
   "cell_type": "code",
   "source": [
    "import respiration.preprocessing as preprocessing\n",
    "\n",
    "distance_results = []\n",
    "\n",
    "for index, row in predictions.iterrows():\n",
    "    subject, scenario = row['subject'], row['scenario']\n",
    "\n",
    "    # Get the ground truth signal and sampling rate\n",
    "    gt_signal, gt_sampling_rate = ground_truth[\n",
    "        (ground_truth['subject'] == subject) &\n",
    "        (ground_truth['scenario'] == scenario)\n",
    "        ][['signal', 'sampling_rate']].values[0]\n",
    "\n",
    "    gt_processed = preprocessing.standard_processing(gt_signal, gt_sampling_rate)\n",
    "    gt_signal = preprocessing.resample_signal(gt_processed, len(row['signal']))\n",
    "\n",
    "    prediction_processed = preprocessing.standard_processing(row['signal'], row['sampling_rate'])\n",
    "\n",
    "    distance_results.append({\n",
    "        'subject': subject,\n",
    "        'scenario': scenario,\n",
    "        'strategy': row['method'],\n",
    "        'roi': row['roi'],\n",
    "        'distance_mse': analysis.distance_mse(gt_signal, prediction_processed),\n",
    "        'distance_euclidean': analysis.distance_euclidean(gt_signal, prediction_processed),\n",
    "        'pearson_correlation': analysis.pearson_correlation(gt_signal, prediction_processed),\n",
    "    })"
   ],
   "id": "ab03225595d72370",
   "outputs": [],
   "execution_count": null
  },
  {
   "metadata": {},
   "cell_type": "code",
   "source": [
    "distance_df = pd.DataFrame(distance_results)\n",
    "distance_df['distance_mse'] = abs(distance_df['distance_mse'])\n",
    "distance_df['distance_euclidean'] = abs(distance_df['distance_euclidean'])\n",
    "distance_df['pearson_correlation'] = abs(distance_df['pearson_correlation'])\n",
    "\n",
    "distance_df"
   ],
   "id": "de146479968da497",
   "outputs": [],
   "execution_count": null
  },
  {
   "metadata": {},
   "cell_type": "code",
   "source": [
    "# Average the pearson correlation for each strategy\n",
    "of_pearson = distance_df[\n",
    "    (distance_df['strategy'] == 'optical_flow') &\n",
    "    (distance_df['roi'] == 'chest')]['pearson_correlation'].mean()\n",
    "\n",
    "pi_pearson = distance_df[\n",
    "    (distance_df['strategy'] == 'pixel_intensity') &\n",
    "    (distance_df['roi'] == 'chest')]['pearson_correlation'].mean()\n",
    "\n",
    "mtts_pearson = distance_df[distance_df['strategy'] == 'mtts_can']['pearson_correlation'].mean()\n",
    "\n",
    "print(f'optical_flow correlation:    {of_pearson:.2f}')\n",
    "print(f'pixel_intensity correlation: {pi_pearson:.2f}')\n",
    "print(f'mtts_can correlation:        {mtts_pearson:.2f}')"
   ],
   "id": "3dd3184582103d32",
   "outputs": [],
   "execution_count": null
  },
  {
   "metadata": {},
   "cell_type": "code",
   "source": "distance_df[distance_df['strategy'] == 'mtts_can']",
   "id": "dd0dbb23f318eb85",
   "outputs": [],
   "execution_count": null
  }
 ],
 "metadata": {
  "kernelspec": {
   "display_name": "Python 3",
   "language": "python",
   "name": "python3"
  },
  "language_info": {
   "codemirror_mode": {
    "name": "ipython",
    "version": 2
   },
   "file_extension": ".py",
   "mimetype": "text/x-python",
   "name": "python",
   "nbconvert_exporter": "python",
   "pygments_lexer": "ipython2",
   "version": "2.7.6"
  }
 },
 "nbformat": 4,
 "nbformat_minor": 5
}
