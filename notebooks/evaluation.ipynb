{
 "cells": [
  {
   "cell_type": "code",
   "id": "initial_id",
   "metadata": {
    "collapsed": true
   },
   "source": [
    "import os\n",
    "\n",
    "import numpy as np\n",
    "import pandas as pd\n",
    "\n",
    "evaluation_dir = os.path.join(os.getcwd(), '..', 'evaluation', 'signals')\n",
    "predictions_file = os.path.join(evaluation_dir, 'predictions.csv')\n",
    "\n",
    "predictions = pd.read_csv(predictions_file)\n",
    "predictions['signal'] = predictions['signal'].apply(eval).apply(np.array)\n",
    "predictions['parameters'] = predictions['parameters'].apply(eval).apply(dict)\n",
    "predictions['execution_time'] = pd.to_timedelta(predictions['execution_time'])\n",
    "predictions['roi'] = predictions['parameters'].apply(lambda param: param['roi'])\n",
    "\n",
    "ground_truth_file = os.path.join(evaluation_dir, 'ground_truth.csv')\n",
    "ground_truth = pd.read_csv(ground_truth_file)\n",
    "ground_truth['signal'] = ground_truth['signal'].apply(eval).apply(np.array)\n",
    "\n",
    "predictions.head()"
   ],
   "outputs": [],
   "execution_count": null
  },
  {
   "metadata": {},
   "cell_type": "markdown",
   "source": "## Frequency extraction evaluation",
   "id": "dac9f58f30a88636"
  },
  {
   "metadata": {},
   "cell_type": "code",
   "source": [
    "from respiration.analysis import FrequencyExtractor\n",
    "\n",
    "frequency_results = []\n",
    "\n",
    "for index, row in predictions.iterrows():\n",
    "    subject, scenario = row['subject'], row['scenario']\n",
    "\n",
    "    # Get the ground truth signal and sampling rate\n",
    "    gt_signal, gt_sampling_rate = ground_truth[\n",
    "        (ground_truth['subject'] == subject) &\n",
    "        (ground_truth['scenario'] == scenario)\n",
    "        ][['signal', 'sampling_rate']].values[0]\n",
    "\n",
    "    gt_extractor = FrequencyExtractor(\n",
    "        gt_signal,\n",
    "        gt_sampling_rate,\n",
    "        lowpass=0.1,\n",
    "        highpass=0.6)\n",
    "\n",
    "    gt_frequencies = {\n",
    "        'fft': gt_extractor.frequency_from_fft(),\n",
    "        'pc': gt_extractor.frequency_from_peaks(),\n",
    "        'cp': gt_extractor.frequency_from_crossing_point(),\n",
    "        'nfcp': gt_extractor.frequency_from_nfcp(),\n",
    "    }\n",
    "\n",
    "    frequency_extractor = FrequencyExtractor(\n",
    "        row['signal'],\n",
    "        row['sampling_rate'],\n",
    "        lowpass=0.1,\n",
    "        highpass=0.6,\n",
    "    )\n",
    "    predicted_frequencies = {\n",
    "        'fft': frequency_extractor.frequency_from_fft(),\n",
    "        'pc': frequency_extractor.frequency_from_peaks(),\n",
    "        'cp': frequency_extractor.frequency_from_crossing_point(),\n",
    "        'nfcp': frequency_extractor.frequency_from_nfcp(),\n",
    "    }\n",
    "\n",
    "    for method in gt_frequencies.keys():\n",
    "        # The frequency is in Hz, we want to convert it to bpm\n",
    "        predicted_bpm = predicted_frequencies[method] * 60\n",
    "        gt_bpm = gt_frequencies[method] * 60\n",
    "\n",
    "        frequency_results.append({\n",
    "            'subject': subject,\n",
    "            'scenario': scenario,\n",
    "            'strategy': row['method'],\n",
    "            'parameters': row['parameters'],\n",
    "            'execution_time': row['execution_time'],\n",
    "            'method': method,\n",
    "            'gt_bpm': predicted_bpm,\n",
    "            'predicted_bpm': gt_bpm,\n",
    "            'error': round(abs(gt_bpm - predicted_bpm), 2),\n",
    "        })"
   ],
   "id": "51983551b157c2c1",
   "outputs": [],
   "execution_count": null
  },
  {
   "metadata": {},
   "cell_type": "code",
   "source": [
    "frequency_df = pd.DataFrame(frequency_results)\n",
    "frequency_df"
   ],
   "id": "c5721645c908577",
   "outputs": [],
   "execution_count": null
  },
  {
   "metadata": {},
   "cell_type": "code",
   "source": [
    "frequency_df[\n",
    "    (frequency_df['subject'] == 'Proband15') &\n",
    "    (frequency_df['scenario'] == '101_natural_lighting') &\n",
    "    (frequency_df['strategy'] == 'optical_flow') &\n",
    "    (frequency_df['method'] == 'fft')\n",
    "    ]"
   ],
   "id": "28b98a755d63ba0b",
   "outputs": [],
   "execution_count": null
  },
  {
   "metadata": {},
   "cell_type": "markdown",
   "source": "## Compare the signal with the ground truth",
   "id": "305cb0983e9b6222"
  },
  {
   "metadata": {},
   "cell_type": "code",
   "source": [
    "from scipy.spatial import distance\n",
    "from scipy.signal import detrend"
   ],
   "id": "a097a4d984dc7476",
   "outputs": [],
   "execution_count": null
  },
  {
   "metadata": {},
   "cell_type": "code",
   "source": [
    "# test_subject = 'Proband15'\n",
    "test_subject = 'Proband05'\n",
    "\n",
    "scenario = predictions[\n",
    "    (predictions['subject'] == test_subject) &\n",
    "    (predictions['scenario'] == '101_natural_lighting') &\n",
    "    (predictions['method'] == 'optical_flow') &\n",
    "    (predictions['roi'] == 'chest')]\n",
    "\n",
    "prediction = scenario[\n",
    "    (scenario['parameters'].apply(lambda param: param['use_cgof']))\n",
    "].iloc[0]\n",
    "\n",
    "prediction_signal = prediction['signal']"
   ],
   "id": "478c802eecbcf8b3",
   "outputs": [],
   "execution_count": null
  },
  {
   "metadata": {},
   "cell_type": "code",
   "source": [
    "from scipy.signal import resample\n",
    "\n",
    "ground_truth_signal = ground_truth[\n",
    "    (ground_truth['subject'] == test_subject) &\n",
    "    (ground_truth['scenario'] == '101_natural_lighting')\n",
    "    ].iloc[0]\n",
    "\n",
    "# Down sample the signal to predict the frequency\n",
    "ground_truth_signal = resample(ground_truth_signal['signal'], len(prediction['signal']))\n",
    "\n",
    "gt_detrend = detrend(ground_truth_signal)"
   ],
   "id": "1071468addf1a76e",
   "outputs": [],
   "execution_count": null
  },
  {
   "metadata": {},
   "cell_type": "code",
   "source": [
    "import matplotlib.pyplot as plt\n",
    "\n",
    "_, axs = plt.subplots(2, 1, figsize=(20, 10))\n",
    "\n",
    "# Plot the ground truth signal and the predicted signal\n",
    "axs[0].set_title('Ground Truth')\n",
    "axs[0].plot(ground_truth_signal, label='Ground Truth')\n",
    "axs[0].grid(True)\n",
    "\n",
    "axs[1].set_title('Ground Truth (Detrend)')\n",
    "axs[1].plot(gt_detrend, label='Ground Truth (Detrend)')\n",
    "axs[1].grid(True)"
   ],
   "id": "de5ac15274208dff",
   "outputs": [],
   "execution_count": null
  },
  {
   "metadata": {},
   "cell_type": "code",
   "source": "prediction_detrend = detrend(prediction_signal)",
   "id": "6f0c4e3cfa15f3d4",
   "outputs": [],
   "execution_count": null
  },
  {
   "metadata": {},
   "cell_type": "code",
   "source": [
    "import matplotlib.pyplot as plt\n",
    "\n",
    "_, axs = plt.subplots(2, 1, figsize=(20, 10))\n",
    "\n",
    "# Plot the ground truth signal and the predicted signal\n",
    "axs[0].set_title('Predection')\n",
    "axs[0].plot(prediction_signal, label='Predection')\n",
    "axs[0].grid(True)\n",
    "\n",
    "axs[1].set_title('Predection (Detrend)')\n",
    "axs[1].plot(prediction_detrend, label='Predection')\n",
    "axs[1].grid(True)"
   ],
   "id": "9321d4f9b1187d39",
   "outputs": [],
   "execution_count": null
  },
  {
   "metadata": {},
   "cell_type": "code",
   "source": [
    "import respiration.preprocessing as sp\n",
    "\n",
    "gt_normalized = sp.normalize_signal(gt_detrend)\n",
    "pd_normalized = sp.normalize_signal(prediction_detrend)"
   ],
   "id": "a1563b79d7bcfeb9",
   "outputs": [],
   "execution_count": null
  },
  {
   "metadata": {},
   "cell_type": "code",
   "source": [
    "import matplotlib.pyplot as plt\n",
    "\n",
    "_, axs = plt.subplots(3, 1, figsize=(20, 10))\n",
    "\n",
    "# Plot the ground truth signal and the predicted signal\n",
    "axs[0].set_title('Ground Truth')\n",
    "axs[0].plot(gt_normalized, label='Ground Truth')\n",
    "axs[0].grid(True)\n",
    "\n",
    "axs[1].set_title('Predicted')\n",
    "axs[1].plot(pd_normalized, label='Predicted')\n",
    "axs[1].grid(True)\n",
    "\n",
    "# Plot the ground truth signal and the predicted signal\n",
    "axs[2].set_title('Overlap')\n",
    "axs[2].plot(pd_normalized, label='Prediction')\n",
    "axs[2].plot(gt_normalized, label='Ground Truth')\n",
    "axs[2].grid(True)"
   ],
   "id": "f3e71210b6c12531",
   "outputs": [],
   "execution_count": null
  },
  {
   "metadata": {},
   "cell_type": "code",
   "source": [
    "gt_filtered = sp.butterworth_filter(gt_normalized, prediction['sampling_rate'], 0.05, 0.6)\n",
    "pd_filtered = sp.butterworth_filter(pd_normalized, prediction['sampling_rate'], 0.05, 0.6)\n",
    "\n",
    "gt_filtered = sp.normalize_signal(gt_filtered)\n",
    "pd_filtered = sp.normalize_signal(pd_filtered)"
   ],
   "id": "b1c0c2ba3b2bd5ed",
   "outputs": [],
   "execution_count": null
  },
  {
   "metadata": {},
   "cell_type": "code",
   "source": [
    "import matplotlib.pyplot as plt\n",
    "\n",
    "_, axs = plt.subplots(3, 1, figsize=(20, 10))\n",
    "\n",
    "axs[0].set_title('Ground Truth (filtered)')\n",
    "axs[0].plot(gt_filtered, label='Ground Truth')\n",
    "axs[0].grid(True)\n",
    "\n",
    "axs[1].set_title('Predicted (filtered)')\n",
    "axs[1].plot(pd_filtered, label='Predicted')\n",
    "axs[1].grid(True)\n",
    "\n",
    "# Plot the ground truth signal and the predicted signal\n",
    "axs[2].set_title('Filtered signals')\n",
    "axs[2].plot(pd_filtered, label='Prediction')\n",
    "axs[2].plot(gt_filtered, label='Ground Truth')\n",
    "axs[2].grid(True)\n",
    "axs[2].legend()"
   ],
   "id": "72c2387d6d2a3f1c",
   "outputs": [],
   "execution_count": null
  },
  {
   "metadata": {},
   "cell_type": "code",
   "source": [
    "correlate_result = np.correlate(gt_filtered, pd_filtered, 'full')\n",
    "best_correlation_index = np.argmax(correlate_result)\n",
    "shift_amount = (-len(pd_filtered) + 1) + best_correlation_index\n",
    "\n",
    "if shift_amount == 0:\n",
    "    pd_shifted = pd_filtered\n",
    "    gt_shifted = gt_filtered\n",
    "elif shift_amount <= 0:\n",
    "    # Shift the signal to the left\n",
    "    pd_shifted = pd_filtered[abs(shift_amount):]\n",
    "    # Remove the last values from the ground truth signal\n",
    "    gt_shifted = gt_filtered[:shift_amount]\n",
    "else:\n",
    "    # Shift the signal to the right\n",
    "    pd_shifted = pd_filtered[:-shift_amount]\n",
    "    # Remove the last values from the ground truth signal\n",
    "    gt_shifted = gt_filtered[:-shift_amount]\n",
    "\n",
    "shift_amount"
   ],
   "id": "62e4bcc2e82c7877",
   "outputs": [],
   "execution_count": null
  },
  {
   "metadata": {},
   "cell_type": "code",
   "source": [
    "# Calculate the correlation coefficient\n",
    "correlation_shift = np.corrcoef(pd_filtered, gt_filtered)[0, 1]\n",
    "correlation_shift"
   ],
   "id": "accd097c7053a752",
   "outputs": [],
   "execution_count": null
  },
  {
   "metadata": {},
   "cell_type": "code",
   "source": [
    "# Calculate the correlation coefficient\n",
    "correlation_shift = np.corrcoef(pd_shifted, gt_shifted)[0, 1]\n",
    "correlation_shift"
   ],
   "id": "43b4e52a9183189f",
   "outputs": [],
   "execution_count": null
  },
  {
   "metadata": {},
   "cell_type": "code",
   "source": [
    "# Plot the ground truth signal and the predicted signal\n",
    "plt.figure(figsize=(20, 5))\n",
    "plt.title('Shifted signal')\n",
    "plt.plot(pd_shifted, label='Prediction (shifted)')\n",
    "plt.plot(gt_shifted, label='Ground Truth')\n",
    "plt.grid(True)\n",
    "plt.legend()"
   ],
   "id": "cf1e9db6c0817bbf",
   "outputs": [],
   "execution_count": null
  },
  {
   "metadata": {},
   "cell_type": "code",
   "source": [
    "dist_normalized = distance.euclidean(pd_normalized, gt_normalized)\n",
    "dist_filtered = distance.euclidean(pd_filtered, gt_filtered)\n",
    "dist_shifted = distance.euclidean(pd_shifted, gt_shifted)\n",
    "\n",
    "print(f'dist_normalized: {dist_normalized:.2f}')\n",
    "print(f'dist_filtered:   {dist_filtered:.2f}')\n",
    "print(f'dist_shifted:    {dist_shifted:.2f}')"
   ],
   "id": "90adbc80eede829b",
   "outputs": [],
   "execution_count": null
  },
  {
   "metadata": {},
   "cell_type": "code",
   "source": [
    "mse_normalized = np.mean((pd_normalized - gt_normalized) ** 2)\n",
    "mse_filtered = np.mean((pd_filtered - gt_filtered) ** 2)\n",
    "mse_shifted = np.mean((pd_shifted - gt_shifted) ** 2)\n",
    "\n",
    "print(f'mse_normalized: {mse_normalized:.2f}')\n",
    "print(f'mse_filtered:   {mse_filtered:.2f}')\n",
    "print(f'mse_shifted:    {mse_shifted:.2f}')"
   ],
   "id": "bad0f5c07b17ed62",
   "outputs": [],
   "execution_count": null
  },
  {
   "metadata": {},
   "cell_type": "code",
   "source": [
    "import scipy.stats as stats\n",
    "\n",
    "normalized_correlation, _ = stats.pearsonr(pd_normalized, gt_normalized)\n",
    "filtered_correlation, _ = stats.pearsonr(pd_filtered, gt_filtered)\n",
    "shifted_correlation, _ = stats.pearsonr(pd_shifted, gt_shifted)\n",
    "\n",
    "print(f'Normalized: {normalized_correlation:.4f}')\n",
    "print(f'Filtered:   {filtered_correlation:.4f}')\n",
    "print(f'Shifted:    {shifted_correlation:.4f}')"
   ],
   "id": "78055cd22a160280",
   "outputs": [],
   "execution_count": null
  }
 ],
 "metadata": {
  "kernelspec": {
   "display_name": "Python 3",
   "language": "python",
   "name": "python3"
  },
  "language_info": {
   "codemirror_mode": {
    "name": "ipython",
    "version": 2
   },
   "file_extension": ".py",
   "mimetype": "text/x-python",
   "name": "python",
   "nbconvert_exporter": "python",
   "pygments_lexer": "ipython2",
   "version": "2.7.6"
  }
 },
 "nbformat": 4,
 "nbformat_minor": 5
}
